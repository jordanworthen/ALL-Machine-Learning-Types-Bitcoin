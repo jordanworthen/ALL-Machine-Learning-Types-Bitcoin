{
 "cells": [
  {
   "cell_type": "markdown",
   "id": "915774c2-f1e9-46df-ae80-fc3be3ee451c",
   "metadata": {},
   "source": [
    "# Project"
   ]
  },
  {
   "cell_type": "code",
   "execution_count": 11,
   "id": "7d88ab29-cb10-4c7b-9ac0-018086cdab6a",
   "metadata": {},
   "outputs": [],
   "source": [
    "import numpy as np\n",
    "import pandas as pd\n",
    "import matplotlib.pyplot as plt\n",
    "import seaborn as sns\n",
    "sns.set()  #if you want to use seaborn themes with matplotlib functions\n",
    "import warnings\n",
    "warnings.filterwarnings('ignore')"
   ]
  },
  {
   "cell_type": "code",
   "execution_count": 12,
   "id": "8d217254-3175-4204-9cbf-a97863b25300",
   "metadata": {},
   "outputs": [],
   "source": [
    "rand_state = 1000"
   ]
  },
  {
   "cell_type": "code",
   "execution_count": 13,
   "id": "4f767a8c-65ea-41b0-8002-7cbc16d8f3d3",
   "metadata": {},
   "outputs": [
    {
     "data": {
      "text/html": [
       "<div>\n",
       "<style scoped>\n",
       "    .dataframe tbody tr th:only-of-type {\n",
       "        vertical-align: middle;\n",
       "    }\n",
       "\n",
       "    .dataframe tbody tr th {\n",
       "        vertical-align: top;\n",
       "    }\n",
       "\n",
       "    .dataframe thead th {\n",
       "        text-align: right;\n",
       "    }\n",
       "</style>\n",
       "<table border=\"1\" class=\"dataframe\">\n",
       "  <thead>\n",
       "    <tr style=\"text-align: right;\">\n",
       "      <th></th>\n",
       "      <th>Unnamed: 0</th>\n",
       "      <th>Date</th>\n",
       "      <th>10Y-Yield</th>\n",
       "      <th>Volume</th>\n",
       "      <th>BTC</th>\n",
       "      <th>SPY</th>\n",
       "      <th>DIA</th>\n",
       "      <th>QQQ</th>\n",
       "      <th>XLE</th>\n",
       "      <th>USD/EUR</th>\n",
       "      <th>...</th>\n",
       "      <th>XLE lag 1</th>\n",
       "      <th>USD/EUR lag 1</th>\n",
       "      <th>Gold lag 1</th>\n",
       "      <th>BTC lag2</th>\n",
       "      <th>SPY lag2</th>\n",
       "      <th>DIA lag2</th>\n",
       "      <th>QQQ lag2</th>\n",
       "      <th>XLE lag2</th>\n",
       "      <th>USD/EUR lag2</th>\n",
       "      <th>Gold lag2</th>\n",
       "    </tr>\n",
       "  </thead>\n",
       "  <tbody>\n",
       "    <tr>\n",
       "      <th>0</th>\n",
       "      <td>0</td>\n",
       "      <td>2013-04-29</td>\n",
       "      <td>0.0170</td>\n",
       "      <td>0.0</td>\n",
       "      <td>144.539993</td>\n",
       "      <td>134.630630</td>\n",
       "      <td>121.918114</td>\n",
       "      <td>64.611473</td>\n",
       "      <td>55.653862</td>\n",
       "      <td>0.76672</td>\n",
       "      <td>...</td>\n",
       "      <td>NaN</td>\n",
       "      <td>NaN</td>\n",
       "      <td>NaN</td>\n",
       "      <td>NaN</td>\n",
       "      <td>NaN</td>\n",
       "      <td>NaN</td>\n",
       "      <td>NaN</td>\n",
       "      <td>NaN</td>\n",
       "      <td>NaN</td>\n",
       "      <td>NaN</td>\n",
       "    </tr>\n",
       "    <tr>\n",
       "      <th>1</th>\n",
       "      <td>1</td>\n",
       "      <td>2013-04-30</td>\n",
       "      <td>0.0170</td>\n",
       "      <td>0.0</td>\n",
       "      <td>139.000000</td>\n",
       "      <td>134.951752</td>\n",
       "      <td>122.050079</td>\n",
       "      <td>65.080818</td>\n",
       "      <td>55.875160</td>\n",
       "      <td>0.76360</td>\n",
       "      <td>...</td>\n",
       "      <td>NaN</td>\n",
       "      <td>NaN</td>\n",
       "      <td>NaN</td>\n",
       "      <td>NaN</td>\n",
       "      <td>NaN</td>\n",
       "      <td>NaN</td>\n",
       "      <td>NaN</td>\n",
       "      <td>NaN</td>\n",
       "      <td>NaN</td>\n",
       "      <td>NaN</td>\n",
       "    </tr>\n",
       "    <tr>\n",
       "      <th>2</th>\n",
       "      <td>2</td>\n",
       "      <td>2013-05-01</td>\n",
       "      <td>0.0166</td>\n",
       "      <td>0.0</td>\n",
       "      <td>116.989998</td>\n",
       "      <td>133.768539</td>\n",
       "      <td>120.994621</td>\n",
       "      <td>64.777130</td>\n",
       "      <td>55.004242</td>\n",
       "      <td>0.75940</td>\n",
       "      <td>...</td>\n",
       "      <td>0.00398</td>\n",
       "      <td>-0.00407</td>\n",
       "      <td>0.00102</td>\n",
       "      <td>NaN</td>\n",
       "      <td>NaN</td>\n",
       "      <td>NaN</td>\n",
       "      <td>NaN</td>\n",
       "      <td>NaN</td>\n",
       "      <td>NaN</td>\n",
       "      <td>NaN</td>\n",
       "    </tr>\n",
       "    <tr>\n",
       "      <th>3</th>\n",
       "      <td>3</td>\n",
       "      <td>2013-05-02</td>\n",
       "      <td>0.0166</td>\n",
       "      <td>0.0</td>\n",
       "      <td>105.209999</td>\n",
       "      <td>135.010880</td>\n",
       "      <td>122.000618</td>\n",
       "      <td>65.596161</td>\n",
       "      <td>55.725235</td>\n",
       "      <td>0.75860</td>\n",
       "      <td>...</td>\n",
       "      <td>-0.01559</td>\n",
       "      <td>-0.00550</td>\n",
       "      <td>-0.00967</td>\n",
       "      <td>-0.03833</td>\n",
       "      <td>0.00239</td>\n",
       "      <td>0.00108</td>\n",
       "      <td>0.00726</td>\n",
       "      <td>0.00398</td>\n",
       "      <td>-0.00407</td>\n",
       "      <td>0.00102</td>\n",
       "    </tr>\n",
       "    <tr>\n",
       "      <th>4</th>\n",
       "      <td>4</td>\n",
       "      <td>2013-05-03</td>\n",
       "      <td>0.0178</td>\n",
       "      <td>0.0</td>\n",
       "      <td>97.750000</td>\n",
       "      <td>136.380020</td>\n",
       "      <td>123.155052</td>\n",
       "      <td>66.369186</td>\n",
       "      <td>56.731808</td>\n",
       "      <td>0.76540</td>\n",
       "      <td>...</td>\n",
       "      <td>0.01311</td>\n",
       "      <td>-0.00105</td>\n",
       "      <td>0.00997</td>\n",
       "      <td>-0.15835</td>\n",
       "      <td>-0.00877</td>\n",
       "      <td>-0.00865</td>\n",
       "      <td>-0.00467</td>\n",
       "      <td>-0.01559</td>\n",
       "      <td>-0.00550</td>\n",
       "      <td>-0.00967</td>\n",
       "    </tr>\n",
       "  </tbody>\n",
       "</table>\n",
       "<p>5 rows × 32 columns</p>\n",
       "</div>"
      ],
      "text/plain": [
       "   Unnamed: 0        Date  10Y-Yield  Volume         BTC         SPY  \\\n",
       "0           0  2013-04-29     0.0170     0.0  144.539993  134.630630   \n",
       "1           1  2013-04-30     0.0170     0.0  139.000000  134.951752   \n",
       "2           2  2013-05-01     0.0166     0.0  116.989998  133.768539   \n",
       "3           3  2013-05-02     0.0166     0.0  105.209999  135.010880   \n",
       "4           4  2013-05-03     0.0178     0.0   97.750000  136.380020   \n",
       "\n",
       "          DIA        QQQ        XLE  USD/EUR  ... XLE lag 1  USD/EUR lag 1  \\\n",
       "0  121.918114  64.611473  55.653862  0.76672  ...       NaN            NaN   \n",
       "1  122.050079  65.080818  55.875160  0.76360  ...       NaN            NaN   \n",
       "2  120.994621  64.777130  55.004242  0.75940  ...   0.00398       -0.00407   \n",
       "3  122.000618  65.596161  55.725235  0.75860  ...  -0.01559       -0.00550   \n",
       "4  123.155052  66.369186  56.731808  0.76540  ...   0.01311       -0.00105   \n",
       "\n",
       "   Gold lag 1  BTC lag2  SPY lag2  DIA lag2  QQQ lag2  XLE lag2  USD/EUR lag2  \\\n",
       "0         NaN       NaN       NaN       NaN       NaN       NaN           NaN   \n",
       "1         NaN       NaN       NaN       NaN       NaN       NaN           NaN   \n",
       "2     0.00102       NaN       NaN       NaN       NaN       NaN           NaN   \n",
       "3    -0.00967  -0.03833   0.00239   0.00108   0.00726   0.00398      -0.00407   \n",
       "4     0.00997  -0.15835  -0.00877  -0.00865  -0.00467  -0.01559      -0.00550   \n",
       "\n",
       "   Gold lag2  \n",
       "0        NaN  \n",
       "1        NaN  \n",
       "2        NaN  \n",
       "3    0.00102  \n",
       "4   -0.00967  \n",
       "\n",
       "[5 rows x 32 columns]"
      ]
     },
     "execution_count": 13,
     "metadata": {},
     "output_type": "execute_result"
    }
   ],
   "source": [
    "df = pd.read_csv(\"/Users/felipeacosta/Documents/GitHub/Project Data.vf.csv\")\n",
    "\n",
    "df.head()\n"
   ]
  },
  {
   "cell_type": "code",
   "execution_count": 14,
   "id": "88376091-c0b9-4524-b6d7-e69e806765ef",
   "metadata": {},
   "outputs": [
    {
     "name": "stdout",
     "output_type": "stream",
     "text": [
      "<class 'pandas.core.frame.DataFrame'>\n",
      "RangeIndex: 2042 entries, 0 to 2041\n",
      "Data columns (total 32 columns):\n",
      " #   Column         Non-Null Count  Dtype  \n",
      "---  ------         --------------  -----  \n",
      " 0   Unnamed: 0     2042 non-null   int64  \n",
      " 1   Date           2042 non-null   object \n",
      " 2   10Y-Yield      2042 non-null   float64\n",
      " 3   Volume         2042 non-null   float64\n",
      " 4   BTC            2042 non-null   float64\n",
      " 5   SPY            2042 non-null   float64\n",
      " 6   DIA            2042 non-null   float64\n",
      " 7   QQQ            2042 non-null   float64\n",
      " 8   XLE            2042 non-null   float64\n",
      " 9   USD/EUR        2042 non-null   float64\n",
      " 10  Gold           2042 non-null   object \n",
      " 11  BTC%           2041 non-null   float64\n",
      " 12  SPY%           2041 non-null   float64\n",
      " 13  DIA%           2041 non-null   float64\n",
      " 14  QQQ%           2041 non-null   float64\n",
      " 15  XLE%           2041 non-null   float64\n",
      " 16  USD/EUR%       2041 non-null   float64\n",
      " 17  Gold%          2041 non-null   float64\n",
      " 18  BTC%.1         2040 non-null   float64\n",
      " 19  SPY lag1       2040 non-null   float64\n",
      " 20  DIA lag 1      2040 non-null   float64\n",
      " 21  QQQ lag 1      2040 non-null   float64\n",
      " 22  XLE lag 1      2040 non-null   float64\n",
      " 23  USD/EUR lag 1  2040 non-null   float64\n",
      " 24  Gold lag 1     2040 non-null   float64\n",
      " 25  BTC lag2       2039 non-null   float64\n",
      " 26  SPY lag2       2039 non-null   float64\n",
      " 27  DIA lag2       2039 non-null   float64\n",
      " 28  QQQ lag2       2039 non-null   float64\n",
      " 29  XLE lag2       2039 non-null   float64\n",
      " 30  USD/EUR lag2   2039 non-null   float64\n",
      " 31  Gold lag2      2039 non-null   float64\n",
      "dtypes: float64(29), int64(1), object(2)\n",
      "memory usage: 510.6+ KB\n"
     ]
    }
   ],
   "source": [
    "df.info()"
   ]
  },
  {
   "cell_type": "code",
   "execution_count": 15,
   "id": "ccea2dd6-8c14-4489-8091-6cbe3a0b9b3b",
   "metadata": {},
   "outputs": [],
   "source": [
    "df['Date']= pd.to_datetime(df['Date'], errors='coerce')"
   ]
  },
  {
   "cell_type": "code",
   "execution_count": 16,
   "id": "e0527b1e-cfd5-4af4-8747-771e0de20c4a",
   "metadata": {},
   "outputs": [
    {
     "name": "stdout",
     "output_type": "stream",
     "text": [
      "<class 'pandas.core.frame.DataFrame'>\n",
      "RangeIndex: 2042 entries, 0 to 2041\n",
      "Data columns (total 32 columns):\n",
      " #   Column         Non-Null Count  Dtype         \n",
      "---  ------         --------------  -----         \n",
      " 0   Unnamed: 0     2042 non-null   int64         \n",
      " 1   Date           2042 non-null   datetime64[ns]\n",
      " 2   10Y-Yield      2042 non-null   float64       \n",
      " 3   Volume         2042 non-null   float64       \n",
      " 4   BTC            2042 non-null   float64       \n",
      " 5   SPY            2042 non-null   float64       \n",
      " 6   DIA            2042 non-null   float64       \n",
      " 7   QQQ            2042 non-null   float64       \n",
      " 8   XLE            2042 non-null   float64       \n",
      " 9   USD/EUR        2042 non-null   float64       \n",
      " 10  Gold           2042 non-null   object        \n",
      " 11  BTC%           2041 non-null   float64       \n",
      " 12  SPY%           2041 non-null   float64       \n",
      " 13  DIA%           2041 non-null   float64       \n",
      " 14  QQQ%           2041 non-null   float64       \n",
      " 15  XLE%           2041 non-null   float64       \n",
      " 16  USD/EUR%       2041 non-null   float64       \n",
      " 17  Gold%          2041 non-null   float64       \n",
      " 18  BTC%.1         2040 non-null   float64       \n",
      " 19  SPY lag1       2040 non-null   float64       \n",
      " 20  DIA lag 1      2040 non-null   float64       \n",
      " 21  QQQ lag 1      2040 non-null   float64       \n",
      " 22  XLE lag 1      2040 non-null   float64       \n",
      " 23  USD/EUR lag 1  2040 non-null   float64       \n",
      " 24  Gold lag 1     2040 non-null   float64       \n",
      " 25  BTC lag2       2039 non-null   float64       \n",
      " 26  SPY lag2       2039 non-null   float64       \n",
      " 27  DIA lag2       2039 non-null   float64       \n",
      " 28  QQQ lag2       2039 non-null   float64       \n",
      " 29  XLE lag2       2039 non-null   float64       \n",
      " 30  USD/EUR lag2   2039 non-null   float64       \n",
      " 31  Gold lag2      2039 non-null   float64       \n",
      "dtypes: datetime64[ns](1), float64(29), int64(1), object(1)\n",
      "memory usage: 510.6+ KB\n"
     ]
    }
   ],
   "source": [
    "df.info()"
   ]
  },
  {
   "cell_type": "code",
   "execution_count": 17,
   "id": "c86f5e54-30f3-427d-9b27-5a5b64bc58be",
   "metadata": {},
   "outputs": [],
   "source": [
    "df.drop(['Unnamed: 0','SPY','BTC','DIA','QQQ', 'USD/EUR','XLE','Gold'], axis=1, inplace=True)"
   ]
  },
  {
   "cell_type": "code",
   "execution_count": 18,
   "id": "b9c65158-3eca-4413-a5d9-32f8ba1f446c",
   "metadata": {},
   "outputs": [
    {
     "data": {
      "text/html": [
       "<div>\n",
       "<style scoped>\n",
       "    .dataframe tbody tr th:only-of-type {\n",
       "        vertical-align: middle;\n",
       "    }\n",
       "\n",
       "    .dataframe tbody tr th {\n",
       "        vertical-align: top;\n",
       "    }\n",
       "\n",
       "    .dataframe thead th {\n",
       "        text-align: right;\n",
       "    }\n",
       "</style>\n",
       "<table border=\"1\" class=\"dataframe\">\n",
       "  <thead>\n",
       "    <tr style=\"text-align: right;\">\n",
       "      <th></th>\n",
       "      <th>Date</th>\n",
       "      <th>10Y-Yield</th>\n",
       "      <th>Volume</th>\n",
       "      <th>BTC%</th>\n",
       "      <th>SPY%</th>\n",
       "      <th>DIA%</th>\n",
       "      <th>QQQ%</th>\n",
       "      <th>XLE%</th>\n",
       "      <th>USD/EUR%</th>\n",
       "      <th>Gold%</th>\n",
       "      <th>...</th>\n",
       "      <th>XLE lag 1</th>\n",
       "      <th>USD/EUR lag 1</th>\n",
       "      <th>Gold lag 1</th>\n",
       "      <th>BTC lag2</th>\n",
       "      <th>SPY lag2</th>\n",
       "      <th>DIA lag2</th>\n",
       "      <th>QQQ lag2</th>\n",
       "      <th>XLE lag2</th>\n",
       "      <th>USD/EUR lag2</th>\n",
       "      <th>Gold lag2</th>\n",
       "    </tr>\n",
       "  </thead>\n",
       "  <tbody>\n",
       "    <tr>\n",
       "      <th>0</th>\n",
       "      <td>2013-04-29</td>\n",
       "      <td>0.0170</td>\n",
       "      <td>0.0</td>\n",
       "      <td>NaN</td>\n",
       "      <td>NaN</td>\n",
       "      <td>NaN</td>\n",
       "      <td>NaN</td>\n",
       "      <td>NaN</td>\n",
       "      <td>NaN</td>\n",
       "      <td>NaN</td>\n",
       "      <td>...</td>\n",
       "      <td>NaN</td>\n",
       "      <td>NaN</td>\n",
       "      <td>NaN</td>\n",
       "      <td>NaN</td>\n",
       "      <td>NaN</td>\n",
       "      <td>NaN</td>\n",
       "      <td>NaN</td>\n",
       "      <td>NaN</td>\n",
       "      <td>NaN</td>\n",
       "      <td>NaN</td>\n",
       "    </tr>\n",
       "    <tr>\n",
       "      <th>1</th>\n",
       "      <td>2013-04-30</td>\n",
       "      <td>0.0170</td>\n",
       "      <td>0.0</td>\n",
       "      <td>-0.038328</td>\n",
       "      <td>0.0024</td>\n",
       "      <td>0.0011</td>\n",
       "      <td>0.0073</td>\n",
       "      <td>0.0040</td>\n",
       "      <td>-0.0041</td>\n",
       "      <td>0.00102</td>\n",
       "      <td>...</td>\n",
       "      <td>NaN</td>\n",
       "      <td>NaN</td>\n",
       "      <td>NaN</td>\n",
       "      <td>NaN</td>\n",
       "      <td>NaN</td>\n",
       "      <td>NaN</td>\n",
       "      <td>NaN</td>\n",
       "      <td>NaN</td>\n",
       "      <td>NaN</td>\n",
       "      <td>NaN</td>\n",
       "    </tr>\n",
       "    <tr>\n",
       "      <th>2</th>\n",
       "      <td>2013-05-01</td>\n",
       "      <td>0.0166</td>\n",
       "      <td>0.0</td>\n",
       "      <td>-0.158345</td>\n",
       "      <td>-0.0088</td>\n",
       "      <td>-0.0086</td>\n",
       "      <td>-0.0047</td>\n",
       "      <td>-0.0156</td>\n",
       "      <td>-0.0055</td>\n",
       "      <td>-0.00967</td>\n",
       "      <td>...</td>\n",
       "      <td>0.00398</td>\n",
       "      <td>-0.00407</td>\n",
       "      <td>0.00102</td>\n",
       "      <td>NaN</td>\n",
       "      <td>NaN</td>\n",
       "      <td>NaN</td>\n",
       "      <td>NaN</td>\n",
       "      <td>NaN</td>\n",
       "      <td>NaN</td>\n",
       "      <td>NaN</td>\n",
       "    </tr>\n",
       "    <tr>\n",
       "      <th>3</th>\n",
       "      <td>2013-05-02</td>\n",
       "      <td>0.0166</td>\n",
       "      <td>0.0</td>\n",
       "      <td>-0.100692</td>\n",
       "      <td>0.0093</td>\n",
       "      <td>0.0083</td>\n",
       "      <td>0.0126</td>\n",
       "      <td>0.0131</td>\n",
       "      <td>-0.0011</td>\n",
       "      <td>0.00997</td>\n",
       "      <td>...</td>\n",
       "      <td>-0.01559</td>\n",
       "      <td>-0.00550</td>\n",
       "      <td>-0.00967</td>\n",
       "      <td>-0.03833</td>\n",
       "      <td>0.00239</td>\n",
       "      <td>0.00108</td>\n",
       "      <td>0.00726</td>\n",
       "      <td>0.00398</td>\n",
       "      <td>-0.00407</td>\n",
       "      <td>0.00102</td>\n",
       "    </tr>\n",
       "    <tr>\n",
       "      <th>4</th>\n",
       "      <td>2013-05-03</td>\n",
       "      <td>0.0178</td>\n",
       "      <td>0.0</td>\n",
       "      <td>-0.070906</td>\n",
       "      <td>0.0101</td>\n",
       "      <td>0.0095</td>\n",
       "      <td>0.0118</td>\n",
       "      <td>0.0181</td>\n",
       "      <td>0.0090</td>\n",
       "      <td>0.00000</td>\n",
       "      <td>...</td>\n",
       "      <td>0.01311</td>\n",
       "      <td>-0.00105</td>\n",
       "      <td>0.00997</td>\n",
       "      <td>-0.15835</td>\n",
       "      <td>-0.00877</td>\n",
       "      <td>-0.00865</td>\n",
       "      <td>-0.00467</td>\n",
       "      <td>-0.01559</td>\n",
       "      <td>-0.00550</td>\n",
       "      <td>-0.00967</td>\n",
       "    </tr>\n",
       "  </tbody>\n",
       "</table>\n",
       "<p>5 rows × 24 columns</p>\n",
       "</div>"
      ],
      "text/plain": [
       "        Date  10Y-Yield  Volume      BTC%    SPY%    DIA%    QQQ%    XLE%  \\\n",
       "0 2013-04-29     0.0170     0.0       NaN     NaN     NaN     NaN     NaN   \n",
       "1 2013-04-30     0.0170     0.0 -0.038328  0.0024  0.0011  0.0073  0.0040   \n",
       "2 2013-05-01     0.0166     0.0 -0.158345 -0.0088 -0.0086 -0.0047 -0.0156   \n",
       "3 2013-05-02     0.0166     0.0 -0.100692  0.0093  0.0083  0.0126  0.0131   \n",
       "4 2013-05-03     0.0178     0.0 -0.070906  0.0101  0.0095  0.0118  0.0181   \n",
       "\n",
       "   USD/EUR%    Gold%  ...  XLE lag 1  USD/EUR lag 1  Gold lag 1  BTC lag2  \\\n",
       "0       NaN      NaN  ...        NaN            NaN         NaN       NaN   \n",
       "1   -0.0041  0.00102  ...        NaN            NaN         NaN       NaN   \n",
       "2   -0.0055 -0.00967  ...    0.00398       -0.00407     0.00102       NaN   \n",
       "3   -0.0011  0.00997  ...   -0.01559       -0.00550    -0.00967  -0.03833   \n",
       "4    0.0090  0.00000  ...    0.01311       -0.00105     0.00997  -0.15835   \n",
       "\n",
       "   SPY lag2  DIA lag2  QQQ lag2  XLE lag2  USD/EUR lag2  Gold lag2  \n",
       "0       NaN       NaN       NaN       NaN           NaN        NaN  \n",
       "1       NaN       NaN       NaN       NaN           NaN        NaN  \n",
       "2       NaN       NaN       NaN       NaN           NaN        NaN  \n",
       "3   0.00239   0.00108   0.00726   0.00398      -0.00407    0.00102  \n",
       "4  -0.00877  -0.00865  -0.00467  -0.01559      -0.00550   -0.00967  \n",
       "\n",
       "[5 rows x 24 columns]"
      ]
     },
     "execution_count": 18,
     "metadata": {},
     "output_type": "execute_result"
    }
   ],
   "source": [
    "df.head()"
   ]
  },
  {
   "cell_type": "code",
   "execution_count": 19,
   "id": "824f336c-5bff-417f-b6fe-db402518082f",
   "metadata": {},
   "outputs": [],
   "source": [
    "df2=df.dropna()"
   ]
  },
  {
   "cell_type": "code",
   "execution_count": 20,
   "id": "eff78013-6367-444d-9614-e1dfd124f7be",
   "metadata": {},
   "outputs": [
    {
     "name": "stdout",
     "output_type": "stream",
     "text": [
      "<class 'pandas.core.frame.DataFrame'>\n",
      "Int64Index: 2039 entries, 3 to 2041\n",
      "Data columns (total 24 columns):\n",
      " #   Column         Non-Null Count  Dtype         \n",
      "---  ------         --------------  -----         \n",
      " 0   Date           2039 non-null   datetime64[ns]\n",
      " 1   10Y-Yield      2039 non-null   float64       \n",
      " 2   Volume         2039 non-null   float64       \n",
      " 3   BTC%           2039 non-null   float64       \n",
      " 4   SPY%           2039 non-null   float64       \n",
      " 5   DIA%           2039 non-null   float64       \n",
      " 6   QQQ%           2039 non-null   float64       \n",
      " 7   XLE%           2039 non-null   float64       \n",
      " 8   USD/EUR%       2039 non-null   float64       \n",
      " 9   Gold%          2039 non-null   float64       \n",
      " 10  BTC%.1         2039 non-null   float64       \n",
      " 11  SPY lag1       2039 non-null   float64       \n",
      " 12  DIA lag 1      2039 non-null   float64       \n",
      " 13  QQQ lag 1      2039 non-null   float64       \n",
      " 14  XLE lag 1      2039 non-null   float64       \n",
      " 15  USD/EUR lag 1  2039 non-null   float64       \n",
      " 16  Gold lag 1     2039 non-null   float64       \n",
      " 17  BTC lag2       2039 non-null   float64       \n",
      " 18  SPY lag2       2039 non-null   float64       \n",
      " 19  DIA lag2       2039 non-null   float64       \n",
      " 20  QQQ lag2       2039 non-null   float64       \n",
      " 21  XLE lag2       2039 non-null   float64       \n",
      " 22  USD/EUR lag2   2039 non-null   float64       \n",
      " 23  Gold lag2      2039 non-null   float64       \n",
      "dtypes: datetime64[ns](1), float64(23)\n",
      "memory usage: 398.2 KB\n"
     ]
    }
   ],
   "source": [
    "df2.info()"
   ]
  },
  {
   "cell_type": "code",
   "execution_count": null,
   "id": "0d6ddd16-63aa-4770-bb4b-86a1b93368d9",
   "metadata": {},
   "outputs": [],
   "source": []
  },
  {
   "cell_type": "markdown",
   "id": "9e039ce4-c62a-423d-a1df-5b6f48c70bc4",
   "metadata": {},
   "source": [
    "### Scaling the variables for Lasso, Ridge, Elastic, SVM, and KNN"
   ]
  },
  {
   "cell_type": "code",
   "execution_count": 21,
   "id": "b4c62488-d685-4cb2-94c1-3ea4707762d1",
   "metadata": {},
   "outputs": [],
   "source": [
    "df2=df.dropna()"
   ]
  },
  {
   "cell_type": "code",
   "execution_count": 22,
   "id": "e5d77fa4-02c3-483f-bd07-784e740df22e",
   "metadata": {},
   "outputs": [],
   "source": [
    "from sklearn.preprocessing import StandardScaler"
   ]
  },
  {
   "cell_type": "code",
   "execution_count": 23,
   "id": "4b1f1f69-0b75-4299-8740-3cd23c27bcd8",
   "metadata": {},
   "outputs": [],
   "source": [
    "df_sc= df2.set_index('Date')\n"
   ]
  },
  {
   "cell_type": "code",
   "execution_count": 24,
   "id": "77ae5ed7-b18b-4f7d-9687-168a9ea698a1",
   "metadata": {},
   "outputs": [
    {
     "data": {
      "text/plain": [
       "array([[-0.69978729, -0.56914445, -2.02849645, ...,  0.209035  ,\n",
       "        -0.81514471,  0.09301429],\n",
       "       [-0.51265933, -0.56914445, -1.45185041, ..., -0.85561375,\n",
       "        -1.09753935, -1.03100327],\n",
       "       [-0.48147133, -0.56914445,  2.80244472, ...,  0.70572601,\n",
       "        -0.21875883,  1.03407671],\n",
       "       ...,\n",
       "       [-1.02726121,  1.13323297, -0.52549865, ..., -1.84573164,\n",
       "        -0.2069101 , -0.39066024],\n",
       "       [-0.98047922,  1.32216527, -0.89060026, ..., -0.27187941,\n",
       "         0.20779532, -1.47892795],\n",
       "       [-1.04285521,  1.36665116,  0.10820463, ...,  0.66710053,\n",
       "         0.43687069,  0.44735847]])"
      ]
     },
     "execution_count": 24,
     "metadata": {},
     "output_type": "execute_result"
    }
   ],
   "source": [
    "scaler=StandardScaler()\n",
    "df_sc= scaler.fit_transform(df_sc)\n",
    "df_sc"
   ]
  },
  {
   "cell_type": "code",
   "execution_count": 25,
   "id": "166369fc-884f-4e78-82b4-60357fa4d33e",
   "metadata": {},
   "outputs": [
    {
     "data": {
      "text/html": [
       "<div>\n",
       "<style scoped>\n",
       "    .dataframe tbody tr th:only-of-type {\n",
       "        vertical-align: middle;\n",
       "    }\n",
       "\n",
       "    .dataframe tbody tr th {\n",
       "        vertical-align: top;\n",
       "    }\n",
       "\n",
       "    .dataframe thead th {\n",
       "        text-align: right;\n",
       "    }\n",
       "</style>\n",
       "<table border=\"1\" class=\"dataframe\">\n",
       "  <thead>\n",
       "    <tr style=\"text-align: right;\">\n",
       "      <th></th>\n",
       "      <th>10Y-Yield</th>\n",
       "      <th>Volume</th>\n",
       "      <th>BTC%</th>\n",
       "      <th>SPY%</th>\n",
       "      <th>DIA%</th>\n",
       "      <th>QQQ%</th>\n",
       "      <th>XLE%</th>\n",
       "      <th>USD/EUR%</th>\n",
       "      <th>Gold%</th>\n",
       "      <th>BTC%.1</th>\n",
       "      <th>...</th>\n",
       "      <th>XLE lag 1</th>\n",
       "      <th>USD/EUR lag 1</th>\n",
       "      <th>Gold lag 1</th>\n",
       "      <th>BTC lag2</th>\n",
       "      <th>SPY lag2</th>\n",
       "      <th>DIA lag2</th>\n",
       "      <th>QQQ lag2</th>\n",
       "      <th>XLE lag2</th>\n",
       "      <th>USD/EUR lag2</th>\n",
       "      <th>Gold lag2</th>\n",
       "    </tr>\n",
       "  </thead>\n",
       "  <tbody>\n",
       "    <tr>\n",
       "      <th>count</th>\n",
       "      <td>2039.000000</td>\n",
       "      <td>2.039000e+03</td>\n",
       "      <td>2039.000000</td>\n",
       "      <td>2039.000000</td>\n",
       "      <td>2039.000000</td>\n",
       "      <td>2039.000000</td>\n",
       "      <td>2039.000000</td>\n",
       "      <td>2039.000000</td>\n",
       "      <td>2039.000000</td>\n",
       "      <td>2039.000000</td>\n",
       "      <td>...</td>\n",
       "      <td>2039.000000</td>\n",
       "      <td>2039.000000</td>\n",
       "      <td>2039.000000</td>\n",
       "      <td>2039.000000</td>\n",
       "      <td>2039.000000</td>\n",
       "      <td>2039.000000</td>\n",
       "      <td>2039.000000</td>\n",
       "      <td>2039.000000</td>\n",
       "      <td>2039.000000</td>\n",
       "      <td>2039.000000</td>\n",
       "    </tr>\n",
       "    <tr>\n",
       "      <th>mean</th>\n",
       "      <td>0.021088</td>\n",
       "      <td>1.138673e+10</td>\n",
       "      <td>0.004089</td>\n",
       "      <td>0.000629</td>\n",
       "      <td>0.000572</td>\n",
       "      <td>0.000918</td>\n",
       "      <td>0.000150</td>\n",
       "      <td>0.000064</td>\n",
       "      <td>0.000146</td>\n",
       "      <td>0.004007</td>\n",
       "      <td>...</td>\n",
       "      <td>0.000144</td>\n",
       "      <td>0.000062</td>\n",
       "      <td>0.000140</td>\n",
       "      <td>0.004009</td>\n",
       "      <td>0.000620</td>\n",
       "      <td>0.000566</td>\n",
       "      <td>0.000913</td>\n",
       "      <td>0.000138</td>\n",
       "      <td>0.000058</td>\n",
       "      <td>0.000135</td>\n",
       "    </tr>\n",
       "    <tr>\n",
       "      <th>std</th>\n",
       "      <td>0.006414</td>\n",
       "      <td>2.001166e+10</td>\n",
       "      <td>0.051668</td>\n",
       "      <td>0.010634</td>\n",
       "      <td>0.011082</td>\n",
       "      <td>0.012583</td>\n",
       "      <td>0.018388</td>\n",
       "      <td>0.005063</td>\n",
       "      <td>0.009513</td>\n",
       "      <td>0.051792</td>\n",
       "      <td>...</td>\n",
       "      <td>0.018390</td>\n",
       "      <td>0.005065</td>\n",
       "      <td>0.009516</td>\n",
       "      <td>0.051791</td>\n",
       "      <td>0.010635</td>\n",
       "      <td>0.011084</td>\n",
       "      <td>0.012582</td>\n",
       "      <td>0.018386</td>\n",
       "      <td>0.005065</td>\n",
       "      <td>0.009513</td>\n",
       "    </tr>\n",
       "    <tr>\n",
       "      <th>min</th>\n",
       "      <td>0.005200</td>\n",
       "      <td>0.000000e+00</td>\n",
       "      <td>-0.371695</td>\n",
       "      <td>-0.109400</td>\n",
       "      <td>-0.127600</td>\n",
       "      <td>-0.119800</td>\n",
       "      <td>-0.201400</td>\n",
       "      <td>-0.030800</td>\n",
       "      <td>-0.058490</td>\n",
       "      <td>-0.371700</td>\n",
       "      <td>...</td>\n",
       "      <td>-0.201410</td>\n",
       "      <td>-0.030780</td>\n",
       "      <td>-0.058490</td>\n",
       "      <td>-0.371700</td>\n",
       "      <td>-0.109420</td>\n",
       "      <td>-0.127610</td>\n",
       "      <td>-0.119790</td>\n",
       "      <td>-0.201410</td>\n",
       "      <td>-0.030780</td>\n",
       "      <td>-0.058490</td>\n",
       "    </tr>\n",
       "    <tr>\n",
       "      <th>25%</th>\n",
       "      <td>0.017400</td>\n",
       "      <td>3.331555e+07</td>\n",
       "      <td>-0.015239</td>\n",
       "      <td>-0.003150</td>\n",
       "      <td>-0.003300</td>\n",
       "      <td>-0.003800</td>\n",
       "      <td>-0.007400</td>\n",
       "      <td>-0.002800</td>\n",
       "      <td>-0.004720</td>\n",
       "      <td>-0.015285</td>\n",
       "      <td>...</td>\n",
       "      <td>-0.007410</td>\n",
       "      <td>-0.002795</td>\n",
       "      <td>-0.004725</td>\n",
       "      <td>-0.015285</td>\n",
       "      <td>-0.003170</td>\n",
       "      <td>-0.003285</td>\n",
       "      <td>-0.003760</td>\n",
       "      <td>-0.007410</td>\n",
       "      <td>-0.002810</td>\n",
       "      <td>-0.004725</td>\n",
       "    </tr>\n",
       "    <tr>\n",
       "      <th>50%</th>\n",
       "      <td>0.022300</td>\n",
       "      <td>9.590450e+08</td>\n",
       "      <td>0.001942</td>\n",
       "      <td>0.000700</td>\n",
       "      <td>0.000800</td>\n",
       "      <td>0.001400</td>\n",
       "      <td>0.000200</td>\n",
       "      <td>0.000000</td>\n",
       "      <td>0.000000</td>\n",
       "      <td>0.001930</td>\n",
       "      <td>...</td>\n",
       "      <td>0.000240</td>\n",
       "      <td>0.000000</td>\n",
       "      <td>0.000000</td>\n",
       "      <td>0.001930</td>\n",
       "      <td>0.000680</td>\n",
       "      <td>0.000770</td>\n",
       "      <td>0.001380</td>\n",
       "      <td>0.000240</td>\n",
       "      <td>0.000000</td>\n",
       "      <td>0.000000</td>\n",
       "    </tr>\n",
       "    <tr>\n",
       "      <th>75%</th>\n",
       "      <td>0.026000</td>\n",
       "      <td>1.667075e+10</td>\n",
       "      <td>0.022643</td>\n",
       "      <td>0.005400</td>\n",
       "      <td>0.005300</td>\n",
       "      <td>0.007000</td>\n",
       "      <td>0.007950</td>\n",
       "      <td>0.003000</td>\n",
       "      <td>0.004760</td>\n",
       "      <td>0.022645</td>\n",
       "      <td>...</td>\n",
       "      <td>0.007955</td>\n",
       "      <td>0.003020</td>\n",
       "      <td>0.004760</td>\n",
       "      <td>0.022645</td>\n",
       "      <td>0.005390</td>\n",
       "      <td>0.005295</td>\n",
       "      <td>0.007025</td>\n",
       "      <td>0.007945</td>\n",
       "      <td>0.003020</td>\n",
       "      <td>0.004730</td>\n",
       "    </tr>\n",
       "    <tr>\n",
       "      <th>max</th>\n",
       "      <td>0.032400</td>\n",
       "      <td>3.509679e+11</td>\n",
       "      <td>0.683359</td>\n",
       "      <td>0.090600</td>\n",
       "      <td>0.110200</td>\n",
       "      <td>0.084700</td>\n",
       "      <td>0.160400</td>\n",
       "      <td>0.028500</td>\n",
       "      <td>0.052710</td>\n",
       "      <td>0.683360</td>\n",
       "      <td>...</td>\n",
       "      <td>0.160370</td>\n",
       "      <td>0.028540</td>\n",
       "      <td>0.052710</td>\n",
       "      <td>0.683360</td>\n",
       "      <td>0.090600</td>\n",
       "      <td>0.110190</td>\n",
       "      <td>0.084710</td>\n",
       "      <td>0.160370</td>\n",
       "      <td>0.028540</td>\n",
       "      <td>0.052710</td>\n",
       "    </tr>\n",
       "  </tbody>\n",
       "</table>\n",
       "<p>8 rows × 23 columns</p>\n",
       "</div>"
      ],
      "text/plain": [
       "         10Y-Yield        Volume         BTC%         SPY%         DIA%  \\\n",
       "count  2039.000000  2.039000e+03  2039.000000  2039.000000  2039.000000   \n",
       "mean      0.021088  1.138673e+10     0.004089     0.000629     0.000572   \n",
       "std       0.006414  2.001166e+10     0.051668     0.010634     0.011082   \n",
       "min       0.005200  0.000000e+00    -0.371695    -0.109400    -0.127600   \n",
       "25%       0.017400  3.331555e+07    -0.015239    -0.003150    -0.003300   \n",
       "50%       0.022300  9.590450e+08     0.001942     0.000700     0.000800   \n",
       "75%       0.026000  1.667075e+10     0.022643     0.005400     0.005300   \n",
       "max       0.032400  3.509679e+11     0.683359     0.090600     0.110200   \n",
       "\n",
       "              QQQ%         XLE%     USD/EUR%        Gold%       BTC%.1  ...  \\\n",
       "count  2039.000000  2039.000000  2039.000000  2039.000000  2039.000000  ...   \n",
       "mean      0.000918     0.000150     0.000064     0.000146     0.004007  ...   \n",
       "std       0.012583     0.018388     0.005063     0.009513     0.051792  ...   \n",
       "min      -0.119800    -0.201400    -0.030800    -0.058490    -0.371700  ...   \n",
       "25%      -0.003800    -0.007400    -0.002800    -0.004720    -0.015285  ...   \n",
       "50%       0.001400     0.000200     0.000000     0.000000     0.001930  ...   \n",
       "75%       0.007000     0.007950     0.003000     0.004760     0.022645  ...   \n",
       "max       0.084700     0.160400     0.028500     0.052710     0.683360  ...   \n",
       "\n",
       "         XLE lag 1  USD/EUR lag 1   Gold lag 1     BTC lag2     SPY lag2  \\\n",
       "count  2039.000000    2039.000000  2039.000000  2039.000000  2039.000000   \n",
       "mean      0.000144       0.000062     0.000140     0.004009     0.000620   \n",
       "std       0.018390       0.005065     0.009516     0.051791     0.010635   \n",
       "min      -0.201410      -0.030780    -0.058490    -0.371700    -0.109420   \n",
       "25%      -0.007410      -0.002795    -0.004725    -0.015285    -0.003170   \n",
       "50%       0.000240       0.000000     0.000000     0.001930     0.000680   \n",
       "75%       0.007955       0.003020     0.004760     0.022645     0.005390   \n",
       "max       0.160370       0.028540     0.052710     0.683360     0.090600   \n",
       "\n",
       "          DIA lag2     QQQ lag2     XLE lag2  USD/EUR lag2    Gold lag2  \n",
       "count  2039.000000  2039.000000  2039.000000   2039.000000  2039.000000  \n",
       "mean      0.000566     0.000913     0.000138      0.000058     0.000135  \n",
       "std       0.011084     0.012582     0.018386      0.005065     0.009513  \n",
       "min      -0.127610    -0.119790    -0.201410     -0.030780    -0.058490  \n",
       "25%      -0.003285    -0.003760    -0.007410     -0.002810    -0.004725  \n",
       "50%       0.000770     0.001380     0.000240      0.000000     0.000000  \n",
       "75%       0.005295     0.007025     0.007945      0.003020     0.004730  \n",
       "max       0.110190     0.084710     0.160370      0.028540     0.052710  \n",
       "\n",
       "[8 rows x 23 columns]"
      ]
     },
     "execution_count": 25,
     "metadata": {},
     "output_type": "execute_result"
    }
   ],
   "source": [
    "df2.describe()"
   ]
  },
  {
   "cell_type": "code",
   "execution_count": 26,
   "id": "620555f4-c811-489d-a63d-f3e7e1b0915c",
   "metadata": {},
   "outputs": [
    {
     "data": {
      "text/html": [
       "<div>\n",
       "<style scoped>\n",
       "    .dataframe tbody tr th:only-of-type {\n",
       "        vertical-align: middle;\n",
       "    }\n",
       "\n",
       "    .dataframe tbody tr th {\n",
       "        vertical-align: top;\n",
       "    }\n",
       "\n",
       "    .dataframe thead th {\n",
       "        text-align: right;\n",
       "    }\n",
       "</style>\n",
       "<table border=\"1\" class=\"dataframe\">\n",
       "  <thead>\n",
       "    <tr style=\"text-align: right;\">\n",
       "      <th></th>\n",
       "      <th>10Y-Yield</th>\n",
       "      <th>Volume</th>\n",
       "      <th>BTC%</th>\n",
       "      <th>SPY%</th>\n",
       "      <th>DIA%</th>\n",
       "      <th>QQQ%</th>\n",
       "      <th>XLE%</th>\n",
       "      <th>USD/EUR%</th>\n",
       "      <th>Gold%</th>\n",
       "      <th>BTC%.1</th>\n",
       "      <th>...</th>\n",
       "      <th>XLE lag 1</th>\n",
       "      <th>USD/EUR lag 1</th>\n",
       "      <th>Gold lag 1</th>\n",
       "      <th>BTC lag2</th>\n",
       "      <th>SPY lag2</th>\n",
       "      <th>DIA lag2</th>\n",
       "      <th>QQQ lag2</th>\n",
       "      <th>XLE lag2</th>\n",
       "      <th>USD/EUR lag2</th>\n",
       "      <th>Gold lag2</th>\n",
       "    </tr>\n",
       "  </thead>\n",
       "  <tbody>\n",
       "    <tr>\n",
       "      <th>0</th>\n",
       "      <td>-0.699787</td>\n",
       "      <td>-0.569144</td>\n",
       "      <td>-2.028496</td>\n",
       "      <td>0.815648</td>\n",
       "      <td>0.697476</td>\n",
       "      <td>0.928643</td>\n",
       "      <td>0.704427</td>\n",
       "      <td>-0.229972</td>\n",
       "      <td>1.032920</td>\n",
       "      <td>-3.135531</td>\n",
       "      <td>...</td>\n",
       "      <td>-0.855796</td>\n",
       "      <td>-1.098334</td>\n",
       "      <td>-1.031195</td>\n",
       "      <td>-0.817692</td>\n",
       "      <td>0.166519</td>\n",
       "      <td>0.046426</td>\n",
       "      <td>0.504600</td>\n",
       "      <td>0.209035</td>\n",
       "      <td>-0.815145</td>\n",
       "      <td>0.093014</td>\n",
       "    </tr>\n",
       "    <tr>\n",
       "      <th>1</th>\n",
       "      <td>-0.512659</td>\n",
       "      <td>-0.569144</td>\n",
       "      <td>-1.451850</td>\n",
       "      <td>0.890900</td>\n",
       "      <td>0.805781</td>\n",
       "      <td>0.865050</td>\n",
       "      <td>0.976415</td>\n",
       "      <td>1.765401</td>\n",
       "      <td>-0.015352</td>\n",
       "      <td>-2.021967</td>\n",
       "      <td>...</td>\n",
       "      <td>0.705221</td>\n",
       "      <td>-0.219528</td>\n",
       "      <td>1.033302</td>\n",
       "      <td>-3.135655</td>\n",
       "      <td>-0.883125</td>\n",
       "      <td>-0.831605</td>\n",
       "      <td>-0.443833</td>\n",
       "      <td>-0.855614</td>\n",
       "      <td>-1.097539</td>\n",
       "      <td>-1.031003</td>\n",
       "    </tr>\n",
       "    <tr>\n",
       "      <th>2</th>\n",
       "      <td>-0.481471</td>\n",
       "      <td>-0.569144</td>\n",
       "      <td>2.802445</td>\n",
       "      <td>0.176006</td>\n",
       "      <td>-0.006511</td>\n",
       "      <td>0.237067</td>\n",
       "      <td>0.361722</td>\n",
       "      <td>-0.881925</td>\n",
       "      <td>-0.015352</td>\n",
       "      <td>-1.446838</td>\n",
       "      <td>...</td>\n",
       "      <td>0.974455</td>\n",
       "      <td>1.757291</td>\n",
       "      <td>-0.014714</td>\n",
       "      <td>-2.022059</td>\n",
       "      <td>0.815492</td>\n",
       "      <td>0.698858</td>\n",
       "      <td>0.932309</td>\n",
       "      <td>0.705726</td>\n",
       "      <td>-0.218759</td>\n",
       "      <td>1.034077</td>\n",
       "    </tr>\n",
       "    <tr>\n",
       "      <th>3</th>\n",
       "      <td>-0.450283</td>\n",
       "      <td>-0.569144</td>\n",
       "      <td>-0.217078</td>\n",
       "      <td>0.420575</td>\n",
       "      <td>0.453788</td>\n",
       "      <td>-0.120645</td>\n",
       "      <td>0.410680</td>\n",
       "      <td>0.797349</td>\n",
       "      <td>-1.803828</td>\n",
       "      <td>2.797296</td>\n",
       "      <td>...</td>\n",
       "      <td>0.362015</td>\n",
       "      <td>-0.889000</td>\n",
       "      <td>-0.014714</td>\n",
       "      <td>-1.446914</td>\n",
       "      <td>0.895438</td>\n",
       "      <td>0.802633</td>\n",
       "      <td>0.863939</td>\n",
       "      <td>0.975016</td>\n",
       "      <td>1.758004</td>\n",
       "      <td>-0.014235</td>\n",
       "    </tr>\n",
       "    <tr>\n",
       "      <th>4</th>\n",
       "      <td>-0.465877</td>\n",
       "      <td>-0.569144</td>\n",
       "      <td>0.279545</td>\n",
       "      <td>0.373543</td>\n",
       "      <td>0.354508</td>\n",
       "      <td>0.308610</td>\n",
       "      <td>0.078854</td>\n",
       "      <td>-0.111435</td>\n",
       "      <td>1.710038</td>\n",
       "      <td>-0.214888</td>\n",
       "      <td>...</td>\n",
       "      <td>0.413686</td>\n",
       "      <td>0.791592</td>\n",
       "      <td>-1.802753</td>\n",
       "      <td>2.797343</td>\n",
       "      <td>0.180627</td>\n",
       "      <td>-0.008620</td>\n",
       "      <td>0.235890</td>\n",
       "      <td>0.362449</td>\n",
       "      <td>-0.888212</td>\n",
       "      <td>-0.014235</td>\n",
       "    </tr>\n",
       "  </tbody>\n",
       "</table>\n",
       "<p>5 rows × 23 columns</p>\n",
       "</div>"
      ],
      "text/plain": [
       "   10Y-Yield    Volume      BTC%      SPY%      DIA%      QQQ%      XLE%  \\\n",
       "0  -0.699787 -0.569144 -2.028496  0.815648  0.697476  0.928643  0.704427   \n",
       "1  -0.512659 -0.569144 -1.451850  0.890900  0.805781  0.865050  0.976415   \n",
       "2  -0.481471 -0.569144  2.802445  0.176006 -0.006511  0.237067  0.361722   \n",
       "3  -0.450283 -0.569144 -0.217078  0.420575  0.453788 -0.120645  0.410680   \n",
       "4  -0.465877 -0.569144  0.279545  0.373543  0.354508  0.308610  0.078854   \n",
       "\n",
       "   USD/EUR%     Gold%    BTC%.1  ...  XLE lag 1  USD/EUR lag 1  Gold lag 1  \\\n",
       "0 -0.229972  1.032920 -3.135531  ...  -0.855796      -1.098334   -1.031195   \n",
       "1  1.765401 -0.015352 -2.021967  ...   0.705221      -0.219528    1.033302   \n",
       "2 -0.881925 -0.015352 -1.446838  ...   0.974455       1.757291   -0.014714   \n",
       "3  0.797349 -1.803828  2.797296  ...   0.362015      -0.889000   -0.014714   \n",
       "4 -0.111435  1.710038 -0.214888  ...   0.413686       0.791592   -1.802753   \n",
       "\n",
       "   BTC lag2  SPY lag2  DIA lag2  QQQ lag2  XLE lag2  USD/EUR lag2  Gold lag2  \n",
       "0 -0.817692  0.166519  0.046426  0.504600  0.209035     -0.815145   0.093014  \n",
       "1 -3.135655 -0.883125 -0.831605 -0.443833 -0.855614     -1.097539  -1.031003  \n",
       "2 -2.022059  0.815492  0.698858  0.932309  0.705726     -0.218759   1.034077  \n",
       "3 -1.446914  0.895438  0.802633  0.863939  0.975016      1.758004  -0.014235  \n",
       "4  2.797343  0.180627 -0.008620  0.235890  0.362449     -0.888212  -0.014235  \n",
       "\n",
       "[5 rows x 23 columns]"
      ]
     },
     "execution_count": 26,
     "metadata": {},
     "output_type": "execute_result"
    }
   ],
   "source": [
    "df_sc = pd.DataFrame(df_sc, columns=['10Y-Yield','Volume','BTC%','SPY%','DIA%','QQQ%','XLE%','USD/EUR%','Gold%','BTC%.1','SPY lag1','DIA lag 1','QQQ lag 1','XLE lag 1','USD/EUR lag 1','Gold lag 1','BTC lag2','SPY lag2','DIA lag2','QQQ lag2','XLE lag2','USD/EUR lag2','Gold lag2'])\n",
    "df_sc.head()"
   ]
  },
  {
   "cell_type": "code",
   "execution_count": 27,
   "id": "92f67856-7026-4adf-bebc-6aac1487345e",
   "metadata": {},
   "outputs": [
    {
     "data": {
      "text/html": [
       "<div>\n",
       "<style scoped>\n",
       "    .dataframe tbody tr th:only-of-type {\n",
       "        vertical-align: middle;\n",
       "    }\n",
       "\n",
       "    .dataframe tbody tr th {\n",
       "        vertical-align: top;\n",
       "    }\n",
       "\n",
       "    .dataframe thead th {\n",
       "        text-align: right;\n",
       "    }\n",
       "</style>\n",
       "<table border=\"1\" class=\"dataframe\">\n",
       "  <thead>\n",
       "    <tr style=\"text-align: right;\">\n",
       "      <th></th>\n",
       "      <th>10Y-Yield</th>\n",
       "      <th>Volume</th>\n",
       "      <th>BTC%</th>\n",
       "      <th>SPY%</th>\n",
       "      <th>DIA%</th>\n",
       "      <th>QQQ%</th>\n",
       "      <th>XLE%</th>\n",
       "      <th>USD/EUR%</th>\n",
       "      <th>Gold%</th>\n",
       "      <th>BTC%.1</th>\n",
       "      <th>...</th>\n",
       "      <th>XLE lag 1</th>\n",
       "      <th>USD/EUR lag 1</th>\n",
       "      <th>Gold lag 1</th>\n",
       "      <th>BTC lag2</th>\n",
       "      <th>SPY lag2</th>\n",
       "      <th>DIA lag2</th>\n",
       "      <th>QQQ lag2</th>\n",
       "      <th>XLE lag2</th>\n",
       "      <th>USD/EUR lag2</th>\n",
       "      <th>Gold lag2</th>\n",
       "    </tr>\n",
       "  </thead>\n",
       "  <tbody>\n",
       "    <tr>\n",
       "      <th>count</th>\n",
       "      <td>2.039000e+03</td>\n",
       "      <td>2.039000e+03</td>\n",
       "      <td>2.039000e+03</td>\n",
       "      <td>2.039000e+03</td>\n",
       "      <td>2.039000e+03</td>\n",
       "      <td>2.039000e+03</td>\n",
       "      <td>2.039000e+03</td>\n",
       "      <td>2.039000e+03</td>\n",
       "      <td>2.039000e+03</td>\n",
       "      <td>2.039000e+03</td>\n",
       "      <td>...</td>\n",
       "      <td>2.039000e+03</td>\n",
       "      <td>2.039000e+03</td>\n",
       "      <td>2.039000e+03</td>\n",
       "      <td>2.039000e+03</td>\n",
       "      <td>2.039000e+03</td>\n",
       "      <td>2.039000e+03</td>\n",
       "      <td>2.039000e+03</td>\n",
       "      <td>2.039000e+03</td>\n",
       "      <td>2.039000e+03</td>\n",
       "      <td>2.039000e+03</td>\n",
       "    </tr>\n",
       "    <tr>\n",
       "      <th>mean</th>\n",
       "      <td>-2.980560e-16</td>\n",
       "      <td>-4.623842e-16</td>\n",
       "      <td>2.138500e-17</td>\n",
       "      <td>5.080128e-17</td>\n",
       "      <td>1.148882e-17</td>\n",
       "      <td>8.929700e-18</td>\n",
       "      <td>1.236001e-17</td>\n",
       "      <td>-1.339455e-17</td>\n",
       "      <td>-7.949611e-18</td>\n",
       "      <td>1.274116e-17</td>\n",
       "      <td>...</td>\n",
       "      <td>5.444939e-19</td>\n",
       "      <td>5.717186e-18</td>\n",
       "      <td>2.439333e-17</td>\n",
       "      <td>3.757008e-18</td>\n",
       "      <td>4.173886e-18</td>\n",
       "      <td>1.293173e-17</td>\n",
       "      <td>8.398818e-18</td>\n",
       "      <td>-1.197887e-17</td>\n",
       "      <td>1.796830e-18</td>\n",
       "      <td>-2.853148e-17</td>\n",
       "    </tr>\n",
       "    <tr>\n",
       "      <th>std</th>\n",
       "      <td>1.000245e+00</td>\n",
       "      <td>1.000245e+00</td>\n",
       "      <td>1.000245e+00</td>\n",
       "      <td>1.000245e+00</td>\n",
       "      <td>1.000245e+00</td>\n",
       "      <td>1.000245e+00</td>\n",
       "      <td>1.000245e+00</td>\n",
       "      <td>1.000245e+00</td>\n",
       "      <td>1.000245e+00</td>\n",
       "      <td>1.000245e+00</td>\n",
       "      <td>...</td>\n",
       "      <td>1.000245e+00</td>\n",
       "      <td>1.000245e+00</td>\n",
       "      <td>1.000245e+00</td>\n",
       "      <td>1.000245e+00</td>\n",
       "      <td>1.000245e+00</td>\n",
       "      <td>1.000245e+00</td>\n",
       "      <td>1.000245e+00</td>\n",
       "      <td>1.000245e+00</td>\n",
       "      <td>1.000245e+00</td>\n",
       "      <td>1.000245e+00</td>\n",
       "    </tr>\n",
       "    <tr>\n",
       "      <th>min</th>\n",
       "      <td>-2.477503e+00</td>\n",
       "      <td>-5.691445e-01</td>\n",
       "      <td>-7.274918e+00</td>\n",
       "      <td>-1.034987e+01</td>\n",
       "      <td>-1.156814e+01</td>\n",
       "      <td>-9.596035e+00</td>\n",
       "      <td>-1.096387e+01</td>\n",
       "      <td>-6.097554e+00</td>\n",
       "      <td>-6.165145e+00</td>\n",
       "      <td>-7.255871e+00</td>\n",
       "      <td>...</td>\n",
       "      <td>-1.096270e+01</td>\n",
       "      <td>-6.090740e+00</td>\n",
       "      <td>-6.163005e+00</td>\n",
       "      <td>-7.256115e+00</td>\n",
       "      <td>-1.034967e+01</td>\n",
       "      <td>-1.156650e+01</td>\n",
       "      <td>-9.595858e+00</td>\n",
       "      <td>-1.096461e+01</td>\n",
       "      <td>-6.089803e+00</td>\n",
       "      <td>-6.164262e+00</td>\n",
       "    </tr>\n",
       "    <tr>\n",
       "      <th>25%</th>\n",
       "      <td>-5.750353e-01</td>\n",
       "      <td>-5.674792e-01</td>\n",
       "      <td>-3.741762e-01</td>\n",
       "      <td>-3.554610e-01</td>\n",
       "      <td>-3.494792e-01</td>\n",
       "      <td>-3.750175e-01</td>\n",
       "      <td>-4.107250e-01</td>\n",
       "      <td>-5.658267e-01</td>\n",
       "      <td>-5.116254e-01</td>\n",
       "      <td>-3.725756e-01</td>\n",
       "      <td>...</td>\n",
       "      <td>-4.108792e-01</td>\n",
       "      <td>-5.641386e-01</td>\n",
       "      <td>-5.113915e-01</td>\n",
       "      <td>-3.726203e-01</td>\n",
       "      <td>-3.564223e-01</td>\n",
       "      <td>-3.474698e-01</td>\n",
       "      <td>-3.714886e-01</td>\n",
       "      <td>-4.106047e-01</td>\n",
       "      <td>-5.663215e-01</td>\n",
       "      <td>-5.110531e-01</td>\n",
       "    </tr>\n",
       "    <tr>\n",
       "      <th>50%</th>\n",
       "      <td>1.890705e-01</td>\n",
       "      <td>-5.212084e-01</td>\n",
       "      <td>-4.156623e-02</td>\n",
       "      <td>6.689272e-03</td>\n",
       "      <td>2.056515e-02</td>\n",
       "      <td>3.833838e-02</td>\n",
       "      <td>2.697206e-03</td>\n",
       "      <td>-1.265402e-02</td>\n",
       "      <td>-1.535216e-02</td>\n",
       "      <td>-4.010947e-02</td>\n",
       "      <td>...</td>\n",
       "      <td>5.210744e-03</td>\n",
       "      <td>-1.216965e-02</td>\n",
       "      <td>-1.471380e-02</td>\n",
       "      <td>-4.014453e-02</td>\n",
       "      <td>5.686147e-03</td>\n",
       "      <td>1.845153e-02</td>\n",
       "      <td>3.714075e-02</td>\n",
       "      <td>5.571211e-03</td>\n",
       "      <td>-1.140612e-02</td>\n",
       "      <td>-1.423528e-02</td>\n",
       "    </tr>\n",
       "    <tr>\n",
       "      <th>75%</th>\n",
       "      <td>7.660484e-01</td>\n",
       "      <td>2.641120e-01</td>\n",
       "      <td>3.591833e-01</td>\n",
       "      <td>4.487948e-01</td>\n",
       "      <td>4.267114e-01</td>\n",
       "      <td>4.834909e-01</td>\n",
       "      <td>4.242790e-01</td>\n",
       "      <td>5.800310e-01</td>\n",
       "      <td>4.851267e-01</td>\n",
       "      <td>3.599508e-01</td>\n",
       "      <td>...</td>\n",
       "      <td>4.248361e-01</td>\n",
       "      <td>5.842333e-01</td>\n",
       "      <td>4.856430e-01</td>\n",
       "      <td>3.599273e-01</td>\n",
       "      <td>4.486812e-01</td>\n",
       "      <td>4.267855e-01</td>\n",
       "      <td>4.859175e-01</td>\n",
       "      <td>4.247393e-01</td>\n",
       "      <td>5.849798e-01</td>\n",
       "      <td>4.831083e-01</td>\n",
       "    </tr>\n",
       "    <tr>\n",
       "      <th>max</th>\n",
       "      <td>1.764064e+00</td>\n",
       "      <td>1.697333e+01</td>\n",
       "      <td>1.315017e+01</td>\n",
       "      <td>8.463134e+00</td>\n",
       "      <td>9.894432e+00</td>\n",
       "      <td>6.659982e+00</td>\n",
       "      <td>8.717202e+00</td>\n",
       "      <td>5.617854e+00</td>\n",
       "      <td>5.526716e+00</td>\n",
       "      <td>1.312007e+01</td>\n",
       "      <td>...</td>\n",
       "      <td>8.714816e+00</td>\n",
       "      <td>5.624036e+00</td>\n",
       "      <td>5.526002e+00</td>\n",
       "      <td>1.312041e+01</td>\n",
       "      <td>8.463034e+00</td>\n",
       "      <td>9.892463e+00</td>\n",
       "      <td>6.661865e+00</td>\n",
       "      <td>8.716977e+00</td>\n",
       "      <td>5.624638e+00</td>\n",
       "      <td>5.528044e+00</td>\n",
       "    </tr>\n",
       "  </tbody>\n",
       "</table>\n",
       "<p>8 rows × 23 columns</p>\n",
       "</div>"
      ],
      "text/plain": [
       "          10Y-Yield        Volume          BTC%          SPY%          DIA%  \\\n",
       "count  2.039000e+03  2.039000e+03  2.039000e+03  2.039000e+03  2.039000e+03   \n",
       "mean  -2.980560e-16 -4.623842e-16  2.138500e-17  5.080128e-17  1.148882e-17   \n",
       "std    1.000245e+00  1.000245e+00  1.000245e+00  1.000245e+00  1.000245e+00   \n",
       "min   -2.477503e+00 -5.691445e-01 -7.274918e+00 -1.034987e+01 -1.156814e+01   \n",
       "25%   -5.750353e-01 -5.674792e-01 -3.741762e-01 -3.554610e-01 -3.494792e-01   \n",
       "50%    1.890705e-01 -5.212084e-01 -4.156623e-02  6.689272e-03  2.056515e-02   \n",
       "75%    7.660484e-01  2.641120e-01  3.591833e-01  4.487948e-01  4.267114e-01   \n",
       "max    1.764064e+00  1.697333e+01  1.315017e+01  8.463134e+00  9.894432e+00   \n",
       "\n",
       "               QQQ%          XLE%      USD/EUR%         Gold%        BTC%.1  \\\n",
       "count  2.039000e+03  2.039000e+03  2.039000e+03  2.039000e+03  2.039000e+03   \n",
       "mean   8.929700e-18  1.236001e-17 -1.339455e-17 -7.949611e-18  1.274116e-17   \n",
       "std    1.000245e+00  1.000245e+00  1.000245e+00  1.000245e+00  1.000245e+00   \n",
       "min   -9.596035e+00 -1.096387e+01 -6.097554e+00 -6.165145e+00 -7.255871e+00   \n",
       "25%   -3.750175e-01 -4.107250e-01 -5.658267e-01 -5.116254e-01 -3.725756e-01   \n",
       "50%    3.833838e-02  2.697206e-03 -1.265402e-02 -1.535216e-02 -4.010947e-02   \n",
       "75%    4.834909e-01  4.242790e-01  5.800310e-01  4.851267e-01  3.599508e-01   \n",
       "max    6.659982e+00  8.717202e+00  5.617854e+00  5.526716e+00  1.312007e+01   \n",
       "\n",
       "       ...     XLE lag 1  USD/EUR lag 1    Gold lag 1      BTC lag2  \\\n",
       "count  ...  2.039000e+03   2.039000e+03  2.039000e+03  2.039000e+03   \n",
       "mean   ...  5.444939e-19   5.717186e-18  2.439333e-17  3.757008e-18   \n",
       "std    ...  1.000245e+00   1.000245e+00  1.000245e+00  1.000245e+00   \n",
       "min    ... -1.096270e+01  -6.090740e+00 -6.163005e+00 -7.256115e+00   \n",
       "25%    ... -4.108792e-01  -5.641386e-01 -5.113915e-01 -3.726203e-01   \n",
       "50%    ...  5.210744e-03  -1.216965e-02 -1.471380e-02 -4.014453e-02   \n",
       "75%    ...  4.248361e-01   5.842333e-01  4.856430e-01  3.599273e-01   \n",
       "max    ...  8.714816e+00   5.624036e+00  5.526002e+00  1.312041e+01   \n",
       "\n",
       "           SPY lag2      DIA lag2      QQQ lag2      XLE lag2  USD/EUR lag2  \\\n",
       "count  2.039000e+03  2.039000e+03  2.039000e+03  2.039000e+03  2.039000e+03   \n",
       "mean   4.173886e-18  1.293173e-17  8.398818e-18 -1.197887e-17  1.796830e-18   \n",
       "std    1.000245e+00  1.000245e+00  1.000245e+00  1.000245e+00  1.000245e+00   \n",
       "min   -1.034967e+01 -1.156650e+01 -9.595858e+00 -1.096461e+01 -6.089803e+00   \n",
       "25%   -3.564223e-01 -3.474698e-01 -3.714886e-01 -4.106047e-01 -5.663215e-01   \n",
       "50%    5.686147e-03  1.845153e-02  3.714075e-02  5.571211e-03 -1.140612e-02   \n",
       "75%    4.486812e-01  4.267855e-01  4.859175e-01  4.247393e-01  5.849798e-01   \n",
       "max    8.463034e+00  9.892463e+00  6.661865e+00  8.716977e+00  5.624638e+00   \n",
       "\n",
       "          Gold lag2  \n",
       "count  2.039000e+03  \n",
       "mean  -2.853148e-17  \n",
       "std    1.000245e+00  \n",
       "min   -6.164262e+00  \n",
       "25%   -5.110531e-01  \n",
       "50%   -1.423528e-02  \n",
       "75%    4.831083e-01  \n",
       "max    5.528044e+00  \n",
       "\n",
       "[8 rows x 23 columns]"
      ]
     },
     "execution_count": 27,
     "metadata": {},
     "output_type": "execute_result"
    }
   ],
   "source": [
    "df_sc.describe()"
   ]
  },
  {
   "cell_type": "markdown",
   "id": "4018fc1f-ca1b-4dac-aab6-95ff6d5fe235",
   "metadata": {},
   "source": [
    "### Setting the features and target variables."
   ]
  },
  {
   "cell_type": "code",
   "execution_count": 28,
   "id": "ead32e7b-ed21-4aaa-a133-e53f19dcd08d",
   "metadata": {},
   "outputs": [],
   "source": [
    "y = df_sc['BTC%']\n",
    "X = df_sc.drop('BTC%', axis=1) # becareful inplace= False"
   ]
  },
  {
   "cell_type": "code",
   "execution_count": 29,
   "id": "4da3deae-6546-4054-b4b2-e9847527b72c",
   "metadata": {},
   "outputs": [
    {
     "data": {
      "text/plain": [
       "<generator object TimeSeriesSplit.split at 0x7fab9fc736d0>"
      ]
     },
     "execution_count": 29,
     "metadata": {},
     "output_type": "execute_result"
    }
   ],
   "source": [
    "from sklearn.model_selection import TimeSeriesSplit\n",
    "#Specify fold and perform splitting\n",
    "tscv = TimeSeriesSplit(gap=0, max_train_size=None, n_splits=5, test_size=None)\n",
    "tscv.split(df_sc)"
   ]
  },
  {
   "cell_type": "markdown",
   "id": "c24c8e9c-1578-44be-ac03-019101eb8896",
   "metadata": {},
   "source": [
    "## Linear Regression"
   ]
  },
  {
   "cell_type": "code",
   "execution_count": 30,
   "id": "ef077766-bd54-40f1-a7f5-7e28b46031a7",
   "metadata": {},
   "outputs": [],
   "source": [
    "from sklearn.linear_model import LinearRegression"
   ]
  },
  {
   "cell_type": "code",
   "execution_count": 35,
   "id": "df113279-bd57-48ed-aaa1-411181c7524b",
   "metadata": {},
   "outputs": [
    {
     "data": {
      "text/html": [
       "<div>\n",
       "<style scoped>\n",
       "    .dataframe tbody tr th:only-of-type {\n",
       "        vertical-align: middle;\n",
       "    }\n",
       "\n",
       "    .dataframe tbody tr th {\n",
       "        vertical-align: top;\n",
       "    }\n",
       "\n",
       "    .dataframe thead th {\n",
       "        text-align: right;\n",
       "    }\n",
       "</style>\n",
       "<table border=\"1\" class=\"dataframe\">\n",
       "  <thead>\n",
       "    <tr style=\"text-align: right;\">\n",
       "      <th></th>\n",
       "      <th>10Y-Yield</th>\n",
       "      <th>Volume</th>\n",
       "      <th>SPY%</th>\n",
       "      <th>DIA%</th>\n",
       "      <th>QQQ%</th>\n",
       "      <th>XLE%</th>\n",
       "      <th>USD/EUR%</th>\n",
       "      <th>Gold%</th>\n",
       "      <th>BTC%.1</th>\n",
       "      <th>SPY lag1</th>\n",
       "      <th>...</th>\n",
       "      <th>XLE lag 1</th>\n",
       "      <th>USD/EUR lag 1</th>\n",
       "      <th>Gold lag 1</th>\n",
       "      <th>BTC lag2</th>\n",
       "      <th>SPY lag2</th>\n",
       "      <th>DIA lag2</th>\n",
       "      <th>QQQ lag2</th>\n",
       "      <th>XLE lag2</th>\n",
       "      <th>USD/EUR lag2</th>\n",
       "      <th>Gold lag2</th>\n",
       "    </tr>\n",
       "  </thead>\n",
       "  <tbody>\n",
       "    <tr>\n",
       "      <th>0</th>\n",
       "      <td>-0.699787</td>\n",
       "      <td>-0.569144</td>\n",
       "      <td>0.815648</td>\n",
       "      <td>0.697476</td>\n",
       "      <td>0.928643</td>\n",
       "      <td>0.704427</td>\n",
       "      <td>-0.229972</td>\n",
       "      <td>1.032920</td>\n",
       "      <td>-3.135531</td>\n",
       "      <td>-0.883230</td>\n",
       "      <td>...</td>\n",
       "      <td>-0.855796</td>\n",
       "      <td>-1.098334</td>\n",
       "      <td>-1.031195</td>\n",
       "      <td>-0.817692</td>\n",
       "      <td>0.166519</td>\n",
       "      <td>0.046426</td>\n",
       "      <td>0.504600</td>\n",
       "      <td>0.209035</td>\n",
       "      <td>-0.815145</td>\n",
       "      <td>0.093014</td>\n",
       "    </tr>\n",
       "    <tr>\n",
       "      <th>1</th>\n",
       "      <td>-0.512659</td>\n",
       "      <td>-0.569144</td>\n",
       "      <td>0.890900</td>\n",
       "      <td>0.805781</td>\n",
       "      <td>0.865050</td>\n",
       "      <td>0.976415</td>\n",
       "      <td>1.765401</td>\n",
       "      <td>-0.015352</td>\n",
       "      <td>-2.021967</td>\n",
       "      <td>0.815310</td>\n",
       "      <td>...</td>\n",
       "      <td>0.705221</td>\n",
       "      <td>-0.219528</td>\n",
       "      <td>1.033302</td>\n",
       "      <td>-3.135655</td>\n",
       "      <td>-0.883125</td>\n",
       "      <td>-0.831605</td>\n",
       "      <td>-0.443833</td>\n",
       "      <td>-0.855614</td>\n",
       "      <td>-1.097539</td>\n",
       "      <td>-1.031003</td>\n",
       "    </tr>\n",
       "    <tr>\n",
       "      <th>2</th>\n",
       "      <td>-0.481471</td>\n",
       "      <td>-0.569144</td>\n",
       "      <td>0.176006</td>\n",
       "      <td>-0.006511</td>\n",
       "      <td>0.237067</td>\n",
       "      <td>0.361722</td>\n",
       "      <td>-0.881925</td>\n",
       "      <td>-0.015352</td>\n",
       "      <td>-1.446838</td>\n",
       "      <td>0.895252</td>\n",
       "      <td>...</td>\n",
       "      <td>0.974455</td>\n",
       "      <td>1.757291</td>\n",
       "      <td>-0.014714</td>\n",
       "      <td>-2.022059</td>\n",
       "      <td>0.815492</td>\n",
       "      <td>0.698858</td>\n",
       "      <td>0.932309</td>\n",
       "      <td>0.705726</td>\n",
       "      <td>-0.218759</td>\n",
       "      <td>1.034077</td>\n",
       "    </tr>\n",
       "    <tr>\n",
       "      <th>3</th>\n",
       "      <td>-0.450283</td>\n",
       "      <td>-0.569144</td>\n",
       "      <td>0.420575</td>\n",
       "      <td>0.453788</td>\n",
       "      <td>-0.120645</td>\n",
       "      <td>0.410680</td>\n",
       "      <td>0.797349</td>\n",
       "      <td>-1.803828</td>\n",
       "      <td>2.797296</td>\n",
       "      <td>0.180473</td>\n",
       "      <td>...</td>\n",
       "      <td>0.362015</td>\n",
       "      <td>-0.889000</td>\n",
       "      <td>-0.014714</td>\n",
       "      <td>-1.446914</td>\n",
       "      <td>0.895438</td>\n",
       "      <td>0.802633</td>\n",
       "      <td>0.863939</td>\n",
       "      <td>0.975016</td>\n",
       "      <td>1.758004</td>\n",
       "      <td>-0.014235</td>\n",
       "    </tr>\n",
       "    <tr>\n",
       "      <th>4</th>\n",
       "      <td>-0.465877</td>\n",
       "      <td>-0.569144</td>\n",
       "      <td>0.373543</td>\n",
       "      <td>0.354508</td>\n",
       "      <td>0.308610</td>\n",
       "      <td>0.078854</td>\n",
       "      <td>-0.111435</td>\n",
       "      <td>1.710038</td>\n",
       "      <td>-0.214888</td>\n",
       "      <td>0.418419</td>\n",
       "      <td>...</td>\n",
       "      <td>0.413686</td>\n",
       "      <td>0.791592</td>\n",
       "      <td>-1.802753</td>\n",
       "      <td>2.797343</td>\n",
       "      <td>0.180627</td>\n",
       "      <td>-0.008620</td>\n",
       "      <td>0.235890</td>\n",
       "      <td>0.362449</td>\n",
       "      <td>-0.888212</td>\n",
       "      <td>-0.014235</td>\n",
       "    </tr>\n",
       "  </tbody>\n",
       "</table>\n",
       "<p>5 rows × 22 columns</p>\n",
       "</div>"
      ],
      "text/plain": [
       "   10Y-Yield    Volume      SPY%      DIA%      QQQ%      XLE%  USD/EUR%  \\\n",
       "0  -0.699787 -0.569144  0.815648  0.697476  0.928643  0.704427 -0.229972   \n",
       "1  -0.512659 -0.569144  0.890900  0.805781  0.865050  0.976415  1.765401   \n",
       "2  -0.481471 -0.569144  0.176006 -0.006511  0.237067  0.361722 -0.881925   \n",
       "3  -0.450283 -0.569144  0.420575  0.453788 -0.120645  0.410680  0.797349   \n",
       "4  -0.465877 -0.569144  0.373543  0.354508  0.308610  0.078854 -0.111435   \n",
       "\n",
       "      Gold%    BTC%.1  SPY lag1  ...  XLE lag 1  USD/EUR lag 1  Gold lag 1  \\\n",
       "0  1.032920 -3.135531 -0.883230  ...  -0.855796      -1.098334   -1.031195   \n",
       "1 -0.015352 -2.021967  0.815310  ...   0.705221      -0.219528    1.033302   \n",
       "2 -0.015352 -1.446838  0.895252  ...   0.974455       1.757291   -0.014714   \n",
       "3 -1.803828  2.797296  0.180473  ...   0.362015      -0.889000   -0.014714   \n",
       "4  1.710038 -0.214888  0.418419  ...   0.413686       0.791592   -1.802753   \n",
       "\n",
       "   BTC lag2  SPY lag2  DIA lag2  QQQ lag2  XLE lag2  USD/EUR lag2  Gold lag2  \n",
       "0 -0.817692  0.166519  0.046426  0.504600  0.209035     -0.815145   0.093014  \n",
       "1 -3.135655 -0.883125 -0.831605 -0.443833 -0.855614     -1.097539  -1.031003  \n",
       "2 -2.022059  0.815492  0.698858  0.932309  0.705726     -0.218759   1.034077  \n",
       "3 -1.446914  0.895438  0.802633  0.863939  0.975016      1.758004  -0.014235  \n",
       "4  2.797343  0.180627 -0.008620  0.235890  0.362449     -0.888212  -0.014235  \n",
       "\n",
       "[5 rows x 22 columns]"
      ]
     },
     "execution_count": 35,
     "metadata": {},
     "output_type": "execute_result"
    }
   ],
   "source": [
    "y = df_sc['BTC%']\n",
    "X = df_sc.drop('BTC%', axis=1)\n",
    "\n",
    "split = int(0.70 * len(X))\n",
    "X_train = X[:split]\n",
    "y_train = y[:split]\n",
    "X_test = X[split:]\n",
    "y_test = y[split:]\n",
    "###\n",
    "X_train.head()"
   ]
  },
  {
   "cell_type": "code",
   "execution_count": 36,
   "id": "cf1d6b07-c55a-4dd8-bcc2-ea8cb9239da3",
   "metadata": {},
   "outputs": [],
   "source": [
    "reg_model = LinearRegression() "
   ]
  },
  {
   "cell_type": "code",
   "execution_count": 37,
   "id": "e15d2e60-52ff-4367-b861-46529f260cc0",
   "metadata": {},
   "outputs": [
    {
     "name": "stdout",
     "output_type": "stream",
     "text": [
      "CPU times: user 14.4 ms, sys: 13.2 ms, total: 27.5 ms\n",
      "Wall time: 42.6 ms\n"
     ]
    },
    {
     "data": {
      "text/plain": [
       "LinearRegression()"
      ]
     },
     "execution_count": 37,
     "metadata": {},
     "output_type": "execute_result"
    }
   ],
   "source": [
    "%%time \n",
    "reg_model.fit(X_train, y_train)"
   ]
  },
  {
   "cell_type": "code",
   "execution_count": 38,
   "id": "b634a479-72c9-4051-8079-0ccf2d066237",
   "metadata": {},
   "outputs": [
    {
     "data": {
      "text/plain": [
       "-0.15111508884483693"
      ]
     },
     "execution_count": 38,
     "metadata": {},
     "output_type": "execute_result"
    }
   ],
   "source": [
    "reg_model.score(X_test, y_test)"
   ]
  },
  {
   "cell_type": "code",
   "execution_count": 39,
   "id": "8d87c6f1-3f2a-4811-83e9-f456c5f05918",
   "metadata": {},
   "outputs": [],
   "source": [
    "y_hat_test = reg_model.predict(X_test)"
   ]
  },
  {
   "cell_type": "code",
   "execution_count": 40,
   "id": "752c68ef-3152-4339-b3e7-044ba471c406",
   "metadata": {},
   "outputs": [
    {
     "data": {
      "text/html": [
       "<div>\n",
       "<style scoped>\n",
       "    .dataframe tbody tr th:only-of-type {\n",
       "        vertical-align: middle;\n",
       "    }\n",
       "\n",
       "    .dataframe tbody tr th {\n",
       "        vertical-align: top;\n",
       "    }\n",
       "\n",
       "    .dataframe thead th {\n",
       "        text-align: right;\n",
       "    }\n",
       "</style>\n",
       "<table border=\"1\" class=\"dataframe\">\n",
       "  <thead>\n",
       "    <tr style=\"text-align: right;\">\n",
       "      <th></th>\n",
       "      <th>actuals</th>\n",
       "      <th>predictions</th>\n",
       "      <th>resid</th>\n",
       "    </tr>\n",
       "  </thead>\n",
       "  <tbody>\n",
       "    <tr>\n",
       "      <th>1427</th>\n",
       "      <td>-0.183648</td>\n",
       "      <td>0.018812</td>\n",
       "      <td>-0.202461</td>\n",
       "    </tr>\n",
       "    <tr>\n",
       "      <th>1428</th>\n",
       "      <td>0.005842</td>\n",
       "      <td>-0.059957</td>\n",
       "      <td>0.065798</td>\n",
       "    </tr>\n",
       "    <tr>\n",
       "      <th>1429</th>\n",
       "      <td>-0.085078</td>\n",
       "      <td>0.089210</td>\n",
       "      <td>-0.174288</td>\n",
       "    </tr>\n",
       "    <tr>\n",
       "      <th>1430</th>\n",
       "      <td>-0.774614</td>\n",
       "      <td>-0.078419</td>\n",
       "      <td>-0.696195</td>\n",
       "    </tr>\n",
       "    <tr>\n",
       "      <th>1431</th>\n",
       "      <td>-0.203749</td>\n",
       "      <td>-0.095309</td>\n",
       "      <td>-0.108440</td>\n",
       "    </tr>\n",
       "  </tbody>\n",
       "</table>\n",
       "</div>"
      ],
      "text/plain": [
       "       actuals  predictions     resid\n",
       "1427 -0.183648     0.018812 -0.202461\n",
       "1428  0.005842    -0.059957  0.065798\n",
       "1429 -0.085078     0.089210 -0.174288\n",
       "1430 -0.774614    -0.078419 -0.696195\n",
       "1431 -0.203749    -0.095309 -0.108440"
      ]
     },
     "execution_count": 40,
     "metadata": {},
     "output_type": "execute_result"
    }
   ],
   "source": [
    "y_predictions = pd.DataFrame({'actuals':y_test, 'predictions':y_hat_test, 'resid': y_test - y_hat_test})\n",
    "y_predictions.head()"
   ]
  },
  {
   "cell_type": "code",
   "execution_count": 41,
   "id": "90aeb59f-83ca-45df-bc40-420410c1fdd5",
   "metadata": {},
   "outputs": [
    {
     "name": "stdout",
     "output_type": "stream",
     "text": [
      "The RMSE test is 0.995\n"
     ]
    }
   ],
   "source": [
    "MSE_test = np.mean(np.square(y_predictions['resid']))\n",
    "RMSE_test = np.sqrt(MSE_test)\n",
    "print(\"The RMSE test is\", np.round(RMSE_test,3))"
   ]
  },
  {
   "cell_type": "code",
   "execution_count": null,
   "id": "f241622f-aba5-4cf2-a3f8-4155ef3117cb",
   "metadata": {},
   "outputs": [],
   "source": []
  },
  {
   "cell_type": "code",
   "execution_count": 42,
   "id": "d4b19ece-8615-4d19-bc82-d868b9c18a44",
   "metadata": {},
   "outputs": [],
   "source": [
    "from sklearn.model_selection import cross_val_score"
   ]
  },
  {
   "cell_type": "code",
   "execution_count": 43,
   "id": "f3791ca9-4d25-4737-931d-7acc7382f45e",
   "metadata": {},
   "outputs": [
    {
     "data": {
      "text/plain": [
       "array([-0.21856   , -0.04857744, -1.0123634 , -0.02652115, -0.09899371,\n",
       "       -2.25868783, -0.41459399, -0.27665912, -0.15000771, -0.16028596])"
      ]
     },
     "execution_count": 43,
     "metadata": {},
     "output_type": "execute_result"
    }
   ],
   "source": [
    "# Running a 5 fold cross validation\n",
    "my_estimator = LinearRegression()\n",
    "R2 = cross_val_score(estimator=my_estimator, X=X_train, y=y_train, cv=TimeSeriesSplit(n_splits=10, max_train_size=240, gap=1 , test_size=60), scoring=\"r2\")\n",
    "R2"
   ]
  },
  {
   "cell_type": "code",
   "execution_count": 44,
   "id": "3f391eab-adf6-4748-ad5b-ba63ff7973ae",
   "metadata": {},
   "outputs": [
    {
     "data": {
      "text/plain": [
       "-0.467"
      ]
     },
     "execution_count": 44,
     "metadata": {},
     "output_type": "execute_result"
    }
   ],
   "source": [
    "R2_CV = np.mean(R2)\n",
    "np.round(R2_CV,3)\n",
    "# The estimated version of R2 is .67"
   ]
  },
  {
   "cell_type": "code",
   "execution_count": 45,
   "id": "7f602b35-0555-4f16-b848-83215a5b642e",
   "metadata": {},
   "outputs": [],
   "source": [
    "MSE = -cross_val_score(estimator=my_estimator, X=X_train, y=y_train, cv=TimeSeriesSplit(n_splits=10, max_train_size=240, gap=1 , test_size=60), scoring=\"neg_mean_squared_error\")"
   ]
  },
  {
   "cell_type": "code",
   "execution_count": 46,
   "id": "3a4f137a-6f25-4732-85d3-cd4b80e168eb",
   "metadata": {},
   "outputs": [
    {
     "data": {
      "text/plain": [
       "1.118"
      ]
     },
     "execution_count": 46,
     "metadata": {},
     "output_type": "execute_result"
    }
   ],
   "source": [
    "# Finding the estimated version of RMSE\n",
    "RMSE = np.sqrt(MSE)\n",
    "RMSE_CV5 = np.mean(RMSE)\n",
    "np.round(RMSE_CV5,3)"
   ]
  },
  {
   "cell_type": "markdown",
   "id": "43af9a74-0be5-43f1-90f7-7a48e113b39c",
   "metadata": {
    "tags": []
   },
   "source": [
    "### Packages for time series cross-validation"
   ]
  },
  {
   "cell_type": "markdown",
   "id": "10576735-a0cd-4e85-a02d-0488f74bc33a",
   "metadata": {},
   "source": [
    "## Lasso Regression"
   ]
  },
  {
   "cell_type": "code",
   "execution_count": 50,
   "id": "f03a5337-258d-43af-a915-efa19e3a4fc8",
   "metadata": {},
   "outputs": [],
   "source": [
    "\n",
    "from sklearn.linear_model import Ridge, RidgeCV, Lasso, LassoCV, ElasticNet, ElasticNetCV"
   ]
  },
  {
   "cell_type": "code",
   "execution_count": 51,
   "id": "a971d200-d10d-4bd4-97a4-8b2540530de0",
   "metadata": {},
   "outputs": [],
   "source": [
    "\n",
    "from sklearn.linear_model import Ridge, RidgeCV, Lasso, LassoCV, ElasticNet, ElasticNetCV\n",
    "from sklearn import linear_model"
   ]
  },
  {
   "cell_type": "code",
   "execution_count": 52,
   "id": "1d402d52-7649-4d9b-8aff-4fd51fea0f1d",
   "metadata": {},
   "outputs": [],
   "source": [
    "# starting with default parameters:\n",
    "model_lasso = Lasso()\n"
   ]
  },
  {
   "cell_type": "code",
   "execution_count": 53,
   "id": "88082f59-ff1a-42eb-a930-be416474aa51",
   "metadata": {},
   "outputs": [
    {
     "name": "stdout",
     "output_type": "stream",
     "text": [
      "CPU times: user 11.5 ms, sys: 5.96 ms, total: 17.4 ms\n",
      "Wall time: 18.5 ms\n"
     ]
    }
   ],
   "source": [
    "%%time\n",
    "y_hat_lasso = model_lasso.fit(X_train, y_train).predict(X_test)\n"
   ]
  },
  {
   "cell_type": "code",
   "execution_count": 54,
   "id": "87e1ad4d-6e9e-44fc-995e-d8986b114230",
   "metadata": {},
   "outputs": [
    {
     "data": {
      "text/plain": [
       "0.0"
      ]
     },
     "execution_count": 54,
     "metadata": {},
     "output_type": "execute_result"
    }
   ],
   "source": [
    "model_lasso.score(X_train, y_train)"
   ]
  },
  {
   "cell_type": "code",
   "execution_count": 55,
   "id": "9c2f7aa3-8049-4721-8130-ecc06f5a8bf1",
   "metadata": {},
   "outputs": [
    {
     "data": {
      "text/plain": [
       "-0.0005056110566019623"
      ]
     },
     "execution_count": 55,
     "metadata": {},
     "output_type": "execute_result"
    }
   ],
   "source": [
    "model_lasso.score(X_test, y_test)"
   ]
  },
  {
   "cell_type": "code",
   "execution_count": 57,
   "id": "38c8d454-7aa8-4231-8839-c50351627c5d",
   "metadata": {},
   "outputs": [],
   "source": [
    "from sklearn.model_selection import TimeSeriesSplit\n",
    "from sklearn.model_selection import cross_val_score\n",
    "from sklearn.model_selection import GridSearchCV"
   ]
  },
  {
   "cell_type": "code",
   "execution_count": 58,
   "id": "b508d3fd-665a-41e7-b92e-111a301b4d4d",
   "metadata": {
    "tags": []
   },
   "outputs": [
    {
     "data": {
      "text/plain": [
       "array([-0.00068814, -0.00347633, -0.01936965, -0.01144036, -0.01146538,\n",
       "       -0.00300937, -0.02083573, -0.07123093, -0.09040543, -0.03977125])"
      ]
     },
     "execution_count": 58,
     "metadata": {},
     "output_type": "execute_result"
    }
   ],
   "source": [
    "tscv = cross_val_score(estimator = Lasso(), X = X_train, y = y_train, cv = TimeSeriesSplit(n_splits=10, max_train_size=240, gap=1 , test_size=60) , scoring=\"r2\" )\n",
    "tscv"
   ]
  },
  {
   "cell_type": "code",
   "execution_count": 59,
   "id": "b3d1a1cc-740e-4573-8011-d033c692d9d8",
   "metadata": {},
   "outputs": [
    {
     "data": {
      "text/plain": [
       "-0.027"
      ]
     },
     "execution_count": 59,
     "metadata": {},
     "output_type": "execute_result"
    }
   ],
   "source": [
    "round(tscv.mean(),3)"
   ]
  },
  {
   "cell_type": "code",
   "execution_count": 60,
   "id": "710a21e5-07e9-4e74-9c80-4f19e5eae30f",
   "metadata": {},
   "outputs": [],
   "source": [
    "lasso_params = {'alpha':[0.02, 0.024, 0.025, 0.026, 0.03,.035,.04,.05,.06,.1,.2,.3,.4,.5,.6,.7,.8,.9,1]}"
   ]
  },
  {
   "cell_type": "code",
   "execution_count": 61,
   "id": "54844dfa-01fb-406a-ba92-2ea8e148a5c6",
   "metadata": {},
   "outputs": [],
   "source": [
    "grid = GridSearchCV(Lasso(),lasso_params,refit=True,verbose=2, cv=3)"
   ]
  },
  {
   "cell_type": "code",
   "execution_count": 62,
   "id": "1357d017-dd83-4cc1-a4ad-9e906302f9dd",
   "metadata": {},
   "outputs": [
    {
     "name": "stdout",
     "output_type": "stream",
     "text": [
      "Fitting 3 folds for each of 19 candidates, totalling 57 fits\n",
      "[CV] END .........................................alpha=0.02; total time=   0.0s\n",
      "[CV] END .........................................alpha=0.02; total time=   0.0s\n",
      "[CV] END .........................................alpha=0.02; total time=   0.0s\n",
      "[CV] END ........................................alpha=0.024; total time=   0.0s\n",
      "[CV] END ........................................alpha=0.024; total time=   0.0s\n",
      "[CV] END ........................................alpha=0.024; total time=   0.0s\n",
      "[CV] END ........................................alpha=0.025; total time=   0.0s\n",
      "[CV] END ........................................alpha=0.025; total time=   0.0s\n",
      "[CV] END ........................................alpha=0.025; total time=   0.0s\n",
      "[CV] END ........................................alpha=0.026; total time=   0.0s\n",
      "[CV] END ........................................alpha=0.026; total time=   0.0s\n",
      "[CV] END ........................................alpha=0.026; total time=   0.0s\n",
      "[CV] END .........................................alpha=0.03; total time=   0.0s\n",
      "[CV] END .........................................alpha=0.03; total time=   0.0s\n",
      "[CV] END .........................................alpha=0.03; total time=   0.0s\n",
      "[CV] END ........................................alpha=0.035; total time=   0.0s\n",
      "[CV] END ........................................alpha=0.035; total time=   0.0s\n",
      "[CV] END ........................................alpha=0.035; total time=   0.0s\n",
      "[CV] END .........................................alpha=0.04; total time=   0.0s\n",
      "[CV] END .........................................alpha=0.04; total time=   0.0s\n",
      "[CV] END .........................................alpha=0.04; total time=   0.0s\n",
      "[CV] END .........................................alpha=0.05; total time=   0.0s\n",
      "[CV] END .........................................alpha=0.05; total time=   0.0s\n",
      "[CV] END .........................................alpha=0.05; total time=   0.0s\n",
      "[CV] END .........................................alpha=0.06; total time=   0.0s\n",
      "[CV] END .........................................alpha=0.06; total time=   0.0s\n",
      "[CV] END .........................................alpha=0.06; total time=   0.0s\n",
      "[CV] END ..........................................alpha=0.1; total time=   0.0s\n",
      "[CV] END ..........................................alpha=0.1; total time=   0.0s\n",
      "[CV] END ..........................................alpha=0.1; total time=   0.0s\n",
      "[CV] END ..........................................alpha=0.2; total time=   0.0s\n",
      "[CV] END ..........................................alpha=0.2; total time=   0.0s\n",
      "[CV] END ..........................................alpha=0.2; total time=   0.0s\n",
      "[CV] END ..........................................alpha=0.3; total time=   0.0s\n",
      "[CV] END ..........................................alpha=0.3; total time=   0.0s\n",
      "[CV] END ..........................................alpha=0.3; total time=   0.0s\n",
      "[CV] END ..........................................alpha=0.4; total time=   0.0s\n",
      "[CV] END ..........................................alpha=0.4; total time=   0.0s\n",
      "[CV] END ..........................................alpha=0.4; total time=   0.0s\n",
      "[CV] END ..........................................alpha=0.5; total time=   0.0s\n",
      "[CV] END ..........................................alpha=0.5; total time=   0.0s\n",
      "[CV] END ..........................................alpha=0.5; total time=   0.0s\n",
      "[CV] END ..........................................alpha=0.6; total time=   0.0s\n",
      "[CV] END ..........................................alpha=0.6; total time=   0.0s\n",
      "[CV] END ..........................................alpha=0.6; total time=   0.0s\n",
      "[CV] END ..........................................alpha=0.7; total time=   0.0s\n",
      "[CV] END ..........................................alpha=0.7; total time=   0.0s\n",
      "[CV] END ..........................................alpha=0.7; total time=   0.0s\n",
      "[CV] END ..........................................alpha=0.8; total time=   0.0s\n",
      "[CV] END ..........................................alpha=0.8; total time=   0.0s\n",
      "[CV] END ..........................................alpha=0.8; total time=   0.0s\n",
      "[CV] END ..........................................alpha=0.9; total time=   0.0s\n",
      "[CV] END ..........................................alpha=0.9; total time=   0.1s\n",
      "[CV] END ..........................................alpha=0.9; total time=   0.0s\n",
      "[CV] END ............................................alpha=1; total time=   0.0s\n",
      "[CV] END ............................................alpha=1; total time=   0.0s\n",
      "[CV] END ............................................alpha=1; total time=   0.0s\n",
      "CPU times: user 700 ms, sys: 39.3 ms, total: 739 ms\n",
      "Wall time: 919 ms\n"
     ]
    },
    {
     "data": {
      "text/plain": [
       "GridSearchCV(cv=3, estimator=Lasso(),\n",
       "             param_grid={'alpha': [0.02, 0.024, 0.025, 0.026, 0.03, 0.035, 0.04,\n",
       "                                   0.05, 0.06, 0.1, 0.2, 0.3, 0.4, 0.5, 0.6,\n",
       "                                   0.7, 0.8, 0.9, 1]},\n",
       "             verbose=2)"
      ]
     },
     "execution_count": 62,
     "metadata": {},
     "output_type": "execute_result"
    }
   ],
   "source": [
    "%time grid.fit(X_train,y_train)"
   ]
  },
  {
   "cell_type": "code",
   "execution_count": 63,
   "id": "44614f73-d90a-49af-954a-1b35452d93c0",
   "metadata": {},
   "outputs": [
    {
     "data": {
      "text/plain": [
       "{'alpha': 0.1}"
      ]
     },
     "execution_count": 63,
     "metadata": {},
     "output_type": "execute_result"
    }
   ],
   "source": [
    "grid.best_params_"
   ]
  },
  {
   "cell_type": "code",
   "execution_count": 64,
   "id": "b6918eea-e23a-480f-8a58-7f4d07ed8ac6",
   "metadata": {},
   "outputs": [],
   "source": [
    "lassoopt=Lasso(alpha=.1)"
   ]
  },
  {
   "cell_type": "code",
   "execution_count": null,
   "id": "3b36bc1f-b119-476a-a29e-81dc4fb4729c",
   "metadata": {},
   "outputs": [],
   "source": []
  },
  {
   "cell_type": "code",
   "execution_count": 65,
   "id": "eee758e9-b1fd-426b-b104-aea0a6c9c421",
   "metadata": {},
   "outputs": [
    {
     "name": "stdout",
     "output_type": "stream",
     "text": [
      "CPU times: user 10 ms, sys: 15.2 ms, total: 25.2 ms\n",
      "Wall time: 23.4 ms\n"
     ]
    }
   ],
   "source": [
    "%%time\n",
    "y_hat_lasso = lassoopt.fit(X_train, y_train).predict(X_test)\n"
   ]
  },
  {
   "cell_type": "code",
   "execution_count": 66,
   "id": "03b00b28-e7d1-4ed8-8484-7e8f2328102c",
   "metadata": {},
   "outputs": [
    {
     "data": {
      "text/plain": [
       "0.0"
      ]
     },
     "execution_count": 66,
     "metadata": {},
     "output_type": "execute_result"
    }
   ],
   "source": [
    "lassoopt.score(X_train, y_train)"
   ]
  },
  {
   "cell_type": "code",
   "execution_count": 67,
   "id": "a24ed76a-87aa-4e4d-92ee-8a339b2a7930",
   "metadata": {},
   "outputs": [
    {
     "data": {
      "text/plain": [
       "-0.0005056110566019623"
      ]
     },
     "execution_count": 67,
     "metadata": {},
     "output_type": "execute_result"
    }
   ],
   "source": [
    "lassoopt.score(X_test, y_test)"
   ]
  },
  {
   "cell_type": "code",
   "execution_count": null,
   "id": "f99284ec-400e-4781-96a5-eddb372fe6f1",
   "metadata": {},
   "outputs": [],
   "source": []
  },
  {
   "cell_type": "code",
   "execution_count": 68,
   "id": "2a494add-89ea-4263-bbdb-55bdc33c23ad",
   "metadata": {
    "tags": []
   },
   "outputs": [
    {
     "data": {
      "text/plain": [
       "array([-0.00068814, -0.00347633, -0.02680571, -0.01028603, -0.01146538,\n",
       "       -0.00300937, -0.02083573, -0.07439808, -0.0795979 , -0.04038808])"
      ]
     },
     "execution_count": 68,
     "metadata": {},
     "output_type": "execute_result"
    }
   ],
   "source": [
    "tscv = cross_val_score(estimator = lassoopt, X = X_train, y = y_train, cv = TimeSeriesSplit(n_splits=10, max_train_size=240, gap=1 , test_size=60) , scoring=\"r2\" )\n",
    "tscv"
   ]
  },
  {
   "cell_type": "code",
   "execution_count": 69,
   "id": "1ab3bf6b-5560-428a-942f-9a6f33c40ebd",
   "metadata": {},
   "outputs": [
    {
     "data": {
      "text/plain": [
       "-0.027"
      ]
     },
     "execution_count": 69,
     "metadata": {},
     "output_type": "execute_result"
    }
   ],
   "source": [
    "round(tscv.mean(),3)"
   ]
  },
  {
   "cell_type": "code",
   "execution_count": 70,
   "id": "f2118a8b-5ff9-4c6c-be24-88ed339f77dc",
   "metadata": {},
   "outputs": [],
   "source": [
    "df_predictions_optimal  = pd.DataFrame({'y_test':y_test,\n",
    "                               'y_hat_lasso':y_hat_lasso})"
   ]
  },
  {
   "cell_type": "code",
   "execution_count": 71,
   "id": "f67a4bcb-a6c0-4a3e-ba8a-4bef6bda35ca",
   "metadata": {},
   "outputs": [
    {
     "data": {
      "text/plain": [
       "0.928"
      ]
     },
     "execution_count": 71,
     "metadata": {},
     "output_type": "execute_result"
    }
   ],
   "source": [
    "MSE_test = np.mean(np.square(df_predictions_optimal['y_test'] - df_predictions_optimal['y_hat_lasso']))\n",
    "RMSE_test = np.sqrt(MSE_test)\n",
    "np.round(RMSE_test,3)"
   ]
  },
  {
   "cell_type": "code",
   "execution_count": null,
   "id": "f73fedfe-080f-419c-93bf-06d82a36ab53",
   "metadata": {},
   "outputs": [],
   "source": []
  },
  {
   "cell_type": "markdown",
   "id": "4ecf1830-2e09-439f-bb61-853e8ae0bfcf",
   "metadata": {},
   "source": [
    "## Ridge Regression"
   ]
  },
  {
   "cell_type": "code",
   "execution_count": 72,
   "id": "d0c04cf4-eadf-4341-8f44-9cf1b08821d4",
   "metadata": {},
   "outputs": [],
   "source": [
    "# starting with default parameters:\n",
    "model_ridge = Ridge()\n"
   ]
  },
  {
   "cell_type": "code",
   "execution_count": 73,
   "id": "385974c4-c181-4d84-87ef-0f893237e3b0",
   "metadata": {},
   "outputs": [
    {
     "name": "stdout",
     "output_type": "stream",
     "text": [
      "CPU times: user 24.7 ms, sys: 11.2 ms, total: 35.9 ms\n",
      "Wall time: 39.8 ms\n"
     ]
    }
   ],
   "source": [
    "%%time\n",
    "y_hat_ridge = model_ridge.fit(X_train, y_train).predict(X_test)\n"
   ]
  },
  {
   "cell_type": "code",
   "execution_count": 74,
   "id": "e57704c2-4ee4-4235-8cd6-e85d0394fed9",
   "metadata": {},
   "outputs": [
    {
     "data": {
      "text/plain": [
       "0.010837455589755796"
      ]
     },
     "execution_count": 74,
     "metadata": {},
     "output_type": "execute_result"
    }
   ],
   "source": [
    "model_ridge.score(X_train, y_train)"
   ]
  },
  {
   "cell_type": "code",
   "execution_count": 75,
   "id": "a877171c-bcee-4941-b1d0-7e76c83ca64b",
   "metadata": {},
   "outputs": [
    {
     "data": {
      "text/plain": [
       "-0.13849722591317692"
      ]
     },
     "execution_count": 75,
     "metadata": {},
     "output_type": "execute_result"
    }
   ],
   "source": [
    "model_ridge.score(X_test, y_test)"
   ]
  },
  {
   "cell_type": "code",
   "execution_count": 76,
   "id": "01b2a587-f0c4-4f51-884c-3a339e0b95ff",
   "metadata": {
    "tags": []
   },
   "outputs": [
    {
     "data": {
      "text/plain": [
       "array([-0.1451793 , -0.07183218, -0.16315053, -0.02996229, -0.11798595,\n",
       "       -0.16453385, -0.39554207, -0.21071032, -0.14539303, -0.12083986])"
      ]
     },
     "execution_count": 76,
     "metadata": {},
     "output_type": "execute_result"
    }
   ],
   "source": [
    "tscv = cross_val_score(estimator = Ridge(), X = X_train, y = y_train, cv = TimeSeriesSplit(n_splits=10, max_train_size=240, gap=1 , test_size=60) , scoring=\"r2\" )\n",
    "tscv"
   ]
  },
  {
   "cell_type": "code",
   "execution_count": 77,
   "id": "ca3f16c2-f19c-4b9f-accd-fb7759093020",
   "metadata": {},
   "outputs": [
    {
     "data": {
      "text/plain": [
       "-0.157"
      ]
     },
     "execution_count": 77,
     "metadata": {},
     "output_type": "execute_result"
    }
   ],
   "source": [
    "round(tscv.mean(),3)"
   ]
  },
  {
   "cell_type": "code",
   "execution_count": 78,
   "id": "5340cf73-5a8b-4fdc-904d-8372433a5fe5",
   "metadata": {},
   "outputs": [],
   "source": [
    "ridge_params = {'alpha':[0.02, 0.024, 0.025, 0.026, 0.03,.035,.04,.05,.06,.1,.2,.3,.4,.5,.6,.7,.8,.9,1]}"
   ]
  },
  {
   "cell_type": "code",
   "execution_count": 79,
   "id": "615fd1b8-0b81-4263-ba21-6802f49c65dc",
   "metadata": {},
   "outputs": [],
   "source": [
    "grid = GridSearchCV(Ridge(),ridge_params,refit=True,verbose=2, cv=3)"
   ]
  },
  {
   "cell_type": "code",
   "execution_count": 80,
   "id": "74af16f3-1ebd-458e-ab59-7c0e5bb22d06",
   "metadata": {},
   "outputs": [
    {
     "name": "stdout",
     "output_type": "stream",
     "text": [
      "Fitting 3 folds for each of 19 candidates, totalling 57 fits\n",
      "[CV] END .........................................alpha=0.02; total time=   0.0s\n",
      "[CV] END .........................................alpha=0.02; total time=   0.0s\n",
      "[CV] END .........................................alpha=0.02; total time=   0.0s\n",
      "[CV] END ........................................alpha=0.024; total time=   0.0s\n",
      "[CV] END ........................................alpha=0.024; total time=   0.0s\n",
      "[CV] END ........................................alpha=0.024; total time=   0.0s\n",
      "[CV] END ........................................alpha=0.025; total time=   0.0s\n",
      "[CV] END ........................................alpha=0.025; total time=   0.0s\n",
      "[CV] END ........................................alpha=0.025; total time=   0.0s\n",
      "[CV] END ........................................alpha=0.026; total time=   0.0s\n",
      "[CV] END ........................................alpha=0.026; total time=   0.0s\n",
      "[CV] END ........................................alpha=0.026; total time=   0.0s\n",
      "[CV] END .........................................alpha=0.03; total time=   0.0s\n",
      "[CV] END .........................................alpha=0.03; total time=   0.0s\n",
      "[CV] END .........................................alpha=0.03; total time=   0.0s\n",
      "[CV] END ........................................alpha=0.035; total time=   0.0s\n",
      "[CV] END ........................................alpha=0.035; total time=   0.0s\n",
      "[CV] END ........................................alpha=0.035; total time=   0.0s\n",
      "[CV] END .........................................alpha=0.04; total time=   0.0s\n",
      "[CV] END .........................................alpha=0.04; total time=   0.0s\n",
      "[CV] END .........................................alpha=0.04; total time=   0.0s\n",
      "[CV] END .........................................alpha=0.05; total time=   0.0s\n",
      "[CV] END .........................................alpha=0.05; total time=   0.0s\n",
      "[CV] END .........................................alpha=0.05; total time=   0.0s\n",
      "[CV] END .........................................alpha=0.06; total time=   0.0s\n",
      "[CV] END .........................................alpha=0.06; total time=   0.0s\n",
      "[CV] END .........................................alpha=0.06; total time=   0.0s\n",
      "[CV] END ..........................................alpha=0.1; total time=   0.0s\n",
      "[CV] END ..........................................alpha=0.1; total time=   0.0s\n",
      "[CV] END ..........................................alpha=0.1; total time=   0.0s\n",
      "[CV] END ..........................................alpha=0.2; total time=   0.0s\n",
      "[CV] END ..........................................alpha=0.2; total time=   0.0s\n",
      "[CV] END ..........................................alpha=0.2; total time=   0.0s\n",
      "[CV] END ..........................................alpha=0.3; total time=   0.0s\n",
      "[CV] END ..........................................alpha=0.3; total time=   0.0s\n",
      "[CV] END ..........................................alpha=0.3; total time=   0.0s\n",
      "[CV] END ..........................................alpha=0.4; total time=   0.0s\n",
      "[CV] END ..........................................alpha=0.4; total time=   0.0s\n",
      "[CV] END ..........................................alpha=0.4; total time=   0.0s\n",
      "[CV] END ..........................................alpha=0.5; total time=   0.0s\n",
      "[CV] END ..........................................alpha=0.5; total time=   0.0s\n",
      "[CV] END ..........................................alpha=0.5; total time=   0.0s\n",
      "[CV] END ..........................................alpha=0.6; total time=   0.0s\n",
      "[CV] END ..........................................alpha=0.6; total time=   0.0s\n",
      "[CV] END ..........................................alpha=0.6; total time=   0.0s\n",
      "[CV] END ..........................................alpha=0.7; total time=   0.0s\n",
      "[CV] END ..........................................alpha=0.7; total time=   0.0s\n",
      "[CV] END ..........................................alpha=0.7; total time=   0.0s\n",
      "[CV] END ..........................................alpha=0.8; total time=   0.0s\n",
      "[CV] END ..........................................alpha=0.8; total time=   0.0s\n",
      "[CV] END ..........................................alpha=0.8; total time=   0.0s\n",
      "[CV] END ..........................................alpha=0.9; total time=   0.0s\n",
      "[CV] END ..........................................alpha=0.9; total time=   0.0s\n",
      "[CV] END ..........................................alpha=0.9; total time=   0.0s\n",
      "[CV] END ............................................alpha=1; total time=   0.0s\n",
      "[CV] END ............................................alpha=1; total time=   0.0s\n",
      "[CV] END ............................................alpha=1; total time=   0.0s\n",
      "CPU times: user 764 ms, sys: 40.7 ms, total: 805 ms\n",
      "Wall time: 925 ms\n"
     ]
    },
    {
     "data": {
      "text/plain": [
       "GridSearchCV(cv=3, estimator=Ridge(),\n",
       "             param_grid={'alpha': [0.02, 0.024, 0.025, 0.026, 0.03, 0.035, 0.04,\n",
       "                                   0.05, 0.06, 0.1, 0.2, 0.3, 0.4, 0.5, 0.6,\n",
       "                                   0.7, 0.8, 0.9, 1]},\n",
       "             verbose=2)"
      ]
     },
     "execution_count": 80,
     "metadata": {},
     "output_type": "execute_result"
    }
   ],
   "source": [
    "%time grid.fit(X_train,y_train)"
   ]
  },
  {
   "cell_type": "code",
   "execution_count": 81,
   "id": "e892a69b-2574-47f8-8dfe-b92831337fca",
   "metadata": {},
   "outputs": [
    {
     "data": {
      "text/plain": [
       "{'alpha': 0.1}"
      ]
     },
     "execution_count": 81,
     "metadata": {},
     "output_type": "execute_result"
    }
   ],
   "source": [
    "grid.best_params_"
   ]
  },
  {
   "cell_type": "code",
   "execution_count": 82,
   "id": "2aedaff0-4594-4090-af91-f646358e5245",
   "metadata": {},
   "outputs": [],
   "source": [
    "ridgeopt=Ridge(alpha=.1)"
   ]
  },
  {
   "cell_type": "code",
   "execution_count": null,
   "id": "6b6dd2ff-46b0-47f5-8b3b-f07bf6b83835",
   "metadata": {},
   "outputs": [],
   "source": []
  },
  {
   "cell_type": "code",
   "execution_count": 83,
   "id": "c9e0da96-2207-4a6b-ae82-ef236dbbde68",
   "metadata": {},
   "outputs": [
    {
     "name": "stdout",
     "output_type": "stream",
     "text": [
      "CPU times: user 10.3 ms, sys: 1.54 ms, total: 11.8 ms\n",
      "Wall time: 9.14 ms\n"
     ]
    }
   ],
   "source": [
    "%%time\n",
    "y_hat_ridge = ridgeopt.fit(X_train, y_train).predict(X_test)\n"
   ]
  },
  {
   "cell_type": "code",
   "execution_count": 84,
   "id": "cd28cf19-b871-4370-8e91-e06df3c399b6",
   "metadata": {},
   "outputs": [
    {
     "data": {
      "text/plain": [
       "0.010845465731866621"
      ]
     },
     "execution_count": 84,
     "metadata": {},
     "output_type": "execute_result"
    }
   ],
   "source": [
    "ridgeopt.score(X_train, y_train)"
   ]
  },
  {
   "cell_type": "code",
   "execution_count": 85,
   "id": "a30d3f80-1528-46f3-9dff-a0c5eff2890e",
   "metadata": {},
   "outputs": [
    {
     "data": {
      "text/plain": [
       "-0.14977306980640148"
      ]
     },
     "execution_count": 85,
     "metadata": {},
     "output_type": "execute_result"
    }
   ],
   "source": [
    "ridgeopt.score(X_test, y_test)"
   ]
  },
  {
   "cell_type": "code",
   "execution_count": null,
   "id": "1878b7b2-cb06-4ec8-9f02-d89e3df729b1",
   "metadata": {},
   "outputs": [],
   "source": []
  },
  {
   "cell_type": "code",
   "execution_count": 86,
   "id": "abca5345-4752-4804-9efb-afb8f8536faa",
   "metadata": {
    "tags": []
   },
   "outputs": [
    {
     "data": {
      "text/plain": [
       "array([-0.20756317, -0.0995212 , -0.16916363, -0.03316842, -0.10304927,\n",
       "       -1.3082592 , -0.41333454, -0.26602579, -0.148029  , -0.15397965])"
      ]
     },
     "execution_count": 86,
     "metadata": {},
     "output_type": "execute_result"
    }
   ],
   "source": [
    "tscv = cross_val_score(estimator = ridgeopt, X = X_train, y = y_train, cv = TimeSeriesSplit(n_splits=10, max_train_size=240, gap=1 , test_size=60) , scoring=\"r2\" )\n",
    "tscv"
   ]
  },
  {
   "cell_type": "code",
   "execution_count": 87,
   "id": "8bc94036-3842-4bca-b504-47127757119d",
   "metadata": {},
   "outputs": [
    {
     "data": {
      "text/plain": [
       "-0.29"
      ]
     },
     "execution_count": 87,
     "metadata": {},
     "output_type": "execute_result"
    }
   ],
   "source": [
    "round(tscv.mean(),3)"
   ]
  },
  {
   "cell_type": "code",
   "execution_count": 88,
   "id": "96fd4649-624c-4df4-aeb2-9956c458c27e",
   "metadata": {},
   "outputs": [],
   "source": [
    "df_predictions_optimal  = pd.DataFrame({'y_test':y_test,\n",
    "                               'y_hat_ridge':y_hat_ridge})"
   ]
  },
  {
   "cell_type": "code",
   "execution_count": 89,
   "id": "f8da8afe-927c-432e-a7b3-21f2fe11cbda",
   "metadata": {},
   "outputs": [
    {
     "data": {
      "text/plain": [
       "0.995"
      ]
     },
     "execution_count": 89,
     "metadata": {},
     "output_type": "execute_result"
    }
   ],
   "source": [
    "MSE_test = np.mean(np.square(df_predictions_optimal['y_test'] - df_predictions_optimal['y_hat_ridge']))\n",
    "RMSE_test = np.sqrt(MSE_test)\n",
    "np.round(RMSE_test,3)"
   ]
  },
  {
   "cell_type": "code",
   "execution_count": null,
   "id": "09149030-ed11-4474-9820-7fd928b044f9",
   "metadata": {},
   "outputs": [],
   "source": []
  },
  {
   "cell_type": "markdown",
   "id": "6c13011d-a64a-4e3e-b918-36c4a0aa8f73",
   "metadata": {},
   "source": [
    "## Elastic Net"
   ]
  },
  {
   "cell_type": "code",
   "execution_count": 90,
   "id": "a7d20679-5078-40a5-aa7d-dd368de51809",
   "metadata": {},
   "outputs": [],
   "source": [
    "# starting with default parameters:\n",
    "model_elastic = ElasticNet()\n"
   ]
  },
  {
   "cell_type": "code",
   "execution_count": 91,
   "id": "701cc313-f3ba-4614-8177-adb811305b40",
   "metadata": {},
   "outputs": [
    {
     "name": "stdout",
     "output_type": "stream",
     "text": [
      "CPU times: user 6.83 ms, sys: 2.12 ms, total: 8.95 ms\n",
      "Wall time: 9.23 ms\n"
     ]
    }
   ],
   "source": [
    "%%time\n",
    "y_hat_elastic = model_elastic.fit(X_train, y_train).predict(X_test)\n"
   ]
  },
  {
   "cell_type": "code",
   "execution_count": 92,
   "id": "500f7e23-1c74-4b65-9f7a-e57bcc0aadd9",
   "metadata": {},
   "outputs": [
    {
     "data": {
      "text/plain": [
       "0.0"
      ]
     },
     "execution_count": 92,
     "metadata": {},
     "output_type": "execute_result"
    }
   ],
   "source": [
    "model_elastic.score(X_train, y_train)"
   ]
  },
  {
   "cell_type": "code",
   "execution_count": 93,
   "id": "3c701c14-c55d-4ac4-a151-fe9b28c8f4f1",
   "metadata": {},
   "outputs": [
    {
     "data": {
      "text/plain": [
       "-0.0005056110566019623"
      ]
     },
     "execution_count": 93,
     "metadata": {},
     "output_type": "execute_result"
    }
   ],
   "source": [
    "model_elastic.score(X_test, y_test)"
   ]
  },
  {
   "cell_type": "code",
   "execution_count": 94,
   "id": "8a452e83-fc75-4dda-948f-cfc808f202b8",
   "metadata": {
    "tags": []
   },
   "outputs": [
    {
     "data": {
      "text/plain": [
       "array([-0.00068814, -0.00347633, -0.01936965, -0.01144036, -0.01146538,\n",
       "       -0.00300937, -0.02083573, -0.07123093, -0.09040543, -0.03977125])"
      ]
     },
     "execution_count": 94,
     "metadata": {},
     "output_type": "execute_result"
    }
   ],
   "source": [
    "tscv = cross_val_score(estimator = ElasticNet(), X = X_train, y = y_train, cv = TimeSeriesSplit(n_splits=10, max_train_size=240, gap=1 , test_size=60) , scoring=\"r2\" )\n",
    "tscv"
   ]
  },
  {
   "cell_type": "code",
   "execution_count": 95,
   "id": "702ef88c-f8aa-4dc0-ae3f-fe68d8231c03",
   "metadata": {},
   "outputs": [
    {
     "data": {
      "text/plain": [
       "-0.027"
      ]
     },
     "execution_count": 95,
     "metadata": {},
     "output_type": "execute_result"
    }
   ],
   "source": [
    "round(tscv.mean(),3)"
   ]
  },
  {
   "cell_type": "code",
   "execution_count": 96,
   "id": "230c2eed-64e5-4f6d-ae8a-48e9d2efb7ba",
   "metadata": {},
   "outputs": [],
   "source": [
    "elastic_params = {'alpha':[0.02, 0.024, 0.025, 0.026, 0.03,.035,.04,.05,.06,.1,.2,.3,.4,.5,.6,.7,.8,.9,1]}"
   ]
  },
  {
   "cell_type": "code",
   "execution_count": 97,
   "id": "f1fbee6f-dc83-440c-8c43-95b14b494792",
   "metadata": {},
   "outputs": [],
   "source": [
    "grid = GridSearchCV(ElasticNet(), elastic_params,refit=True,verbose=2, cv=3)"
   ]
  },
  {
   "cell_type": "code",
   "execution_count": 98,
   "id": "df941dec-3d36-4b57-8f97-926c86a49b15",
   "metadata": {},
   "outputs": [
    {
     "name": "stdout",
     "output_type": "stream",
     "text": [
      "Fitting 3 folds for each of 19 candidates, totalling 57 fits\n",
      "[CV] END .........................................alpha=0.02; total time=   0.0s\n",
      "[CV] END .........................................alpha=0.02; total time=   0.0s\n",
      "[CV] END .........................................alpha=0.02; total time=   0.0s\n",
      "[CV] END ........................................alpha=0.024; total time=   0.0s\n",
      "[CV] END ........................................alpha=0.024; total time=   0.0s\n",
      "[CV] END ........................................alpha=0.024; total time=   0.0s\n",
      "[CV] END ........................................alpha=0.025; total time=   0.0s\n",
      "[CV] END ........................................alpha=0.025; total time=   0.0s\n",
      "[CV] END ........................................alpha=0.025; total time=   0.0s\n",
      "[CV] END ........................................alpha=0.026; total time=   0.0s\n",
      "[CV] END ........................................alpha=0.026; total time=   0.0s\n",
      "[CV] END ........................................alpha=0.026; total time=   0.0s\n",
      "[CV] END .........................................alpha=0.03; total time=   0.0s\n",
      "[CV] END .........................................alpha=0.03; total time=   0.0s\n",
      "[CV] END .........................................alpha=0.03; total time=   0.0s\n",
      "[CV] END ........................................alpha=0.035; total time=   0.0s\n",
      "[CV] END ........................................alpha=0.035; total time=   0.0s\n",
      "[CV] END ........................................alpha=0.035; total time=   0.0s\n",
      "[CV] END .........................................alpha=0.04; total time=   0.0s\n",
      "[CV] END .........................................alpha=0.04; total time=   0.0s\n",
      "[CV] END .........................................alpha=0.04; total time=   0.0s\n",
      "[CV] END .........................................alpha=0.05; total time=   0.0s\n",
      "[CV] END .........................................alpha=0.05; total time=   0.0s\n",
      "[CV] END .........................................alpha=0.05; total time=   0.0s\n",
      "[CV] END .........................................alpha=0.06; total time=   0.0s\n",
      "[CV] END .........................................alpha=0.06; total time=   0.0s\n",
      "[CV] END .........................................alpha=0.06; total time=   0.0s\n",
      "[CV] END ..........................................alpha=0.1; total time=   0.0s\n",
      "[CV] END ..........................................alpha=0.1; total time=   0.0s\n",
      "[CV] END ..........................................alpha=0.1; total time=   0.0s\n",
      "[CV] END ..........................................alpha=0.2; total time=   0.0s\n",
      "[CV] END ..........................................alpha=0.2; total time=   0.0s\n",
      "[CV] END ..........................................alpha=0.2; total time=   0.0s\n",
      "[CV] END ..........................................alpha=0.3; total time=   0.0s\n",
      "[CV] END ..........................................alpha=0.3; total time=   0.0s\n",
      "[CV] END ..........................................alpha=0.3; total time=   0.0s\n",
      "[CV] END ..........................................alpha=0.4; total time=   0.0s\n",
      "[CV] END ..........................................alpha=0.4; total time=   0.0s\n",
      "[CV] END ..........................................alpha=0.4; total time=   0.0s\n",
      "[CV] END ..........................................alpha=0.5; total time=   0.0s\n",
      "[CV] END ..........................................alpha=0.5; total time=   0.0s\n",
      "[CV] END ..........................................alpha=0.5; total time=   0.0s\n",
      "[CV] END ..........................................alpha=0.6; total time=   0.0s\n",
      "[CV] END ..........................................alpha=0.6; total time=   0.0s\n",
      "[CV] END ..........................................alpha=0.6; total time=   0.0s\n",
      "[CV] END ..........................................alpha=0.7; total time=   0.0s\n",
      "[CV] END ..........................................alpha=0.7; total time=   0.0s\n",
      "[CV] END ..........................................alpha=0.7; total time=   0.0s\n",
      "[CV] END ..........................................alpha=0.8; total time=   0.0s\n",
      "[CV] END ..........................................alpha=0.8; total time=   0.0s\n",
      "[CV] END ..........................................alpha=0.8; total time=   0.0s\n",
      "[CV] END ..........................................alpha=0.9; total time=   0.0s\n",
      "[CV] END ..........................................alpha=0.9; total time=   0.0s\n",
      "[CV] END ..........................................alpha=0.9; total time=   0.0s\n",
      "[CV] END ............................................alpha=1; total time=   0.0s\n",
      "[CV] END ............................................alpha=1; total time=   0.0s\n",
      "[CV] END ............................................alpha=1; total time=   0.0s\n",
      "CPU times: user 678 ms, sys: 30.5 ms, total: 708 ms\n",
      "Wall time: 578 ms\n"
     ]
    },
    {
     "data": {
      "text/plain": [
       "GridSearchCV(cv=3, estimator=ElasticNet(),\n",
       "             param_grid={'alpha': [0.02, 0.024, 0.025, 0.026, 0.03, 0.035, 0.04,\n",
       "                                   0.05, 0.06, 0.1, 0.2, 0.3, 0.4, 0.5, 0.6,\n",
       "                                   0.7, 0.8, 0.9, 1]},\n",
       "             verbose=2)"
      ]
     },
     "execution_count": 98,
     "metadata": {},
     "output_type": "execute_result"
    }
   ],
   "source": [
    "%time grid.fit(X_train,y_train)"
   ]
  },
  {
   "cell_type": "code",
   "execution_count": 99,
   "id": "c0531234-d2c4-4ee8-a31d-74aa859105ad",
   "metadata": {},
   "outputs": [
    {
     "data": {
      "text/plain": [
       "{'alpha': 0.2}"
      ]
     },
     "execution_count": 99,
     "metadata": {},
     "output_type": "execute_result"
    }
   ],
   "source": [
    "grid.best_params_"
   ]
  },
  {
   "cell_type": "code",
   "execution_count": 100,
   "id": "9c330bf8-1810-4e66-90e3-3c7b856d226d",
   "metadata": {},
   "outputs": [],
   "source": [
    "elasticopt=Ridge(alpha=.2)"
   ]
  },
  {
   "cell_type": "code",
   "execution_count": null,
   "id": "f7bbbdf2-ae6b-4544-976c-19688ab5bf6d",
   "metadata": {},
   "outputs": [],
   "source": []
  },
  {
   "cell_type": "code",
   "execution_count": 101,
   "id": "70043c83-09e8-484a-8535-e3d2a2735257",
   "metadata": {},
   "outputs": [
    {
     "name": "stdout",
     "output_type": "stream",
     "text": [
      "CPU times: user 7.74 ms, sys: 1.49 ms, total: 9.23 ms\n",
      "Wall time: 8.7 ms\n"
     ]
    }
   ],
   "source": [
    "%%time\n",
    "y_hat_elastic = elasticopt.fit(X_train, y_train).predict(X_test)\n"
   ]
  },
  {
   "cell_type": "code",
   "execution_count": 102,
   "id": "34bcf576-f043-4b03-a30a-6da2ee45a53e",
   "metadata": {},
   "outputs": [
    {
     "data": {
      "text/plain": [
       "0.010845194756606613"
      ]
     },
     "execution_count": 102,
     "metadata": {},
     "output_type": "execute_result"
    }
   ],
   "source": [
    "elasticopt.score(X_train, y_train)"
   ]
  },
  {
   "cell_type": "code",
   "execution_count": 103,
   "id": "88438d06-1445-421e-826b-9f67dc2c8200",
   "metadata": {},
   "outputs": [
    {
     "data": {
      "text/plain": [
       "-0.14844990444197248"
      ]
     },
     "execution_count": 103,
     "metadata": {},
     "output_type": "execute_result"
    }
   ],
   "source": [
    "elasticopt.score(X_test, y_test)"
   ]
  },
  {
   "cell_type": "code",
   "execution_count": null,
   "id": "90a7fd67-74a5-47a2-9c87-9f78014c2eef",
   "metadata": {},
   "outputs": [],
   "source": []
  },
  {
   "cell_type": "code",
   "execution_count": 104,
   "id": "c2e7847a-9c45-42aa-b0f4-485144cefb0c",
   "metadata": {
    "tags": []
   },
   "outputs": [
    {
     "data": {
      "text/plain": [
       "array([-0.19728417, -0.09518791, -0.16640742, -0.03388862, -0.10727067,\n",
       "       -0.86880881, -0.41183494, -0.25673583, -0.14663735, -0.14844878])"
      ]
     },
     "execution_count": 104,
     "metadata": {},
     "output_type": "execute_result"
    }
   ],
   "source": [
    "tscv = cross_val_score(estimator = elasticopt, X = X_train, y = y_train, cv = TimeSeriesSplit(n_splits=10, max_train_size=240, gap=1 , test_size=60) , scoring=\"r2\" )\n",
    "tscv"
   ]
  },
  {
   "cell_type": "code",
   "execution_count": 105,
   "id": "05010e43-6ee5-4aa5-9709-5cb523185227",
   "metadata": {},
   "outputs": [
    {
     "data": {
      "text/plain": [
       "-0.243"
      ]
     },
     "execution_count": 105,
     "metadata": {},
     "output_type": "execute_result"
    }
   ],
   "source": [
    "round(tscv.mean(),3)"
   ]
  },
  {
   "cell_type": "code",
   "execution_count": 106,
   "id": "1ed3f40b-1f5d-4dc8-b1d2-e3053f7bbdf3",
   "metadata": {},
   "outputs": [],
   "source": [
    "df_predictions_optimal  = pd.DataFrame({'y_test':y_test,\n",
    "                               'y_hat_elastic':y_hat_elastic})"
   ]
  },
  {
   "cell_type": "code",
   "execution_count": 107,
   "id": "bb3fe97b-33da-4e36-9ebd-921490e5b3f1",
   "metadata": {},
   "outputs": [
    {
     "data": {
      "text/plain": [
       "0.994"
      ]
     },
     "execution_count": 107,
     "metadata": {},
     "output_type": "execute_result"
    }
   ],
   "source": [
    "MSE_test = np.mean(np.square(df_predictions_optimal['y_test'] - df_predictions_optimal['y_hat_elastic']))\n",
    "RMSE_test = np.sqrt(MSE_test)\n",
    "np.round(RMSE_test,3)"
   ]
  },
  {
   "cell_type": "markdown",
   "id": "f23fa8e6-dd85-4600-827d-d1c7c4775804",
   "metadata": {},
   "source": [
    "## KNN"
   ]
  },
  {
   "cell_type": "code",
   "execution_count": 108,
   "id": "dcaeca12-524e-49cc-b5a7-302b65d74fc1",
   "metadata": {},
   "outputs": [],
   "source": [
    "from sklearn.neighbors import KNeighborsRegressor"
   ]
  },
  {
   "cell_type": "code",
   "execution_count": 109,
   "id": "44224917-3548-40ee-bec8-7112cfa9d9ef",
   "metadata": {},
   "outputs": [],
   "source": [
    "# Fitting KNN regression to the Training set\n",
    "\n",
    "KNN_regression = KNeighborsRegressor()\n"
   ]
  },
  {
   "cell_type": "code",
   "execution_count": 110,
   "id": "0634a3c4-17c2-4ebe-8743-1af3a4874b49",
   "metadata": {},
   "outputs": [
    {
     "name": "stdout",
     "output_type": "stream",
     "text": [
      "CPU times: user 2.75 ms, sys: 105 µs, total: 2.86 ms\n",
      "Wall time: 2.87 ms\n"
     ]
    },
    {
     "data": {
      "text/plain": [
       "KNeighborsRegressor()"
      ]
     },
     "execution_count": 110,
     "metadata": {},
     "output_type": "execute_result"
    }
   ],
   "source": [
    "%%time\n",
    "KNN_regression.fit(X_train, y_train)"
   ]
  },
  {
   "cell_type": "code",
   "execution_count": 111,
   "id": "f0b95452-20ef-4264-b2b0-fadffd0b6d99",
   "metadata": {},
   "outputs": [],
   "source": [
    "# Predicting the Test set results\n",
    "y_hat = KNN_regression.predict(X_test)"
   ]
  },
  {
   "cell_type": "code",
   "execution_count": 112,
   "id": "33d55d8e-31dd-420e-a4c7-b20a73f0f064",
   "metadata": {},
   "outputs": [
    {
     "data": {
      "text/html": [
       "<div>\n",
       "<style scoped>\n",
       "    .dataframe tbody tr th:only-of-type {\n",
       "        vertical-align: middle;\n",
       "    }\n",
       "\n",
       "    .dataframe tbody tr th {\n",
       "        vertical-align: top;\n",
       "    }\n",
       "\n",
       "    .dataframe thead th {\n",
       "        text-align: right;\n",
       "    }\n",
       "</style>\n",
       "<table border=\"1\" class=\"dataframe\">\n",
       "  <thead>\n",
       "    <tr style=\"text-align: right;\">\n",
       "      <th></th>\n",
       "      <th>y_test</th>\n",
       "      <th>y_hat</th>\n",
       "    </tr>\n",
       "  </thead>\n",
       "  <tbody>\n",
       "    <tr>\n",
       "      <th>1427</th>\n",
       "      <td>-0.183648</td>\n",
       "      <td>0.050745</td>\n",
       "    </tr>\n",
       "    <tr>\n",
       "      <th>1428</th>\n",
       "      <td>0.005842</td>\n",
       "      <td>-0.101837</td>\n",
       "    </tr>\n",
       "    <tr>\n",
       "      <th>1429</th>\n",
       "      <td>-0.085078</td>\n",
       "      <td>-0.202240</td>\n",
       "    </tr>\n",
       "    <tr>\n",
       "      <th>1430</th>\n",
       "      <td>-0.774614</td>\n",
       "      <td>2.485503</td>\n",
       "    </tr>\n",
       "    <tr>\n",
       "      <th>1431</th>\n",
       "      <td>-0.203749</td>\n",
       "      <td>-0.222850</td>\n",
       "    </tr>\n",
       "  </tbody>\n",
       "</table>\n",
       "</div>"
      ],
      "text/plain": [
       "        y_test     y_hat\n",
       "1427 -0.183648  0.050745\n",
       "1428  0.005842 -0.101837\n",
       "1429 -0.085078 -0.202240\n",
       "1430 -0.774614  2.485503\n",
       "1431 -0.203749 -0.222850"
      ]
     },
     "execution_count": 112,
     "metadata": {},
     "output_type": "execute_result"
    }
   ],
   "source": [
    "predictions = pd.DataFrame({ 'y_test':y_test,'y_hat':y_hat})\n",
    "predictions.head()"
   ]
  },
  {
   "cell_type": "code",
   "execution_count": 113,
   "id": "19a005bb-bde5-4520-9531-5531de679d23",
   "metadata": {},
   "outputs": [
    {
     "data": {
      "text/plain": [
       "0.19839428229075173"
      ]
     },
     "execution_count": 113,
     "metadata": {},
     "output_type": "execute_result"
    }
   ],
   "source": [
    "KNN_regression.score(X_train, y_train)"
   ]
  },
  {
   "cell_type": "code",
   "execution_count": 114,
   "id": "207cf51b-319d-4940-80af-32e14b4a8c62",
   "metadata": {},
   "outputs": [
    {
     "data": {
      "text/plain": [
       "-0.14712219334893928"
      ]
     },
     "execution_count": 114,
     "metadata": {},
     "output_type": "execute_result"
    }
   ],
   "source": [
    "KNN_regression.score(X_test, y_test)"
   ]
  },
  {
   "cell_type": "code",
   "execution_count": null,
   "id": "78174530-0dd5-4b64-b49a-56e999497c9c",
   "metadata": {},
   "outputs": [],
   "source": []
  },
  {
   "cell_type": "code",
   "execution_count": 115,
   "id": "ce6fa5d0-9ded-47cb-9bc7-d2556022eccc",
   "metadata": {},
   "outputs": [],
   "source": [
    "RMSE_CV=[]\n",
    "RMSE_test = []\n",
    "\n",
    "k=40\n",
    "\n",
    "for i in range(1,k):\n",
    "    KNN_i = KNeighborsRegressor(n_neighbors=i)\n",
    "    KNN_i.fit(X_train, y_train)\n",
    "    RMSE_i = np.sqrt(np.mean(-1*cross_val_score(estimator = KNN_i, X = X_train, y = y_train, cv = TimeSeriesSplit(n_splits=10, max_train_size=240, gap=1 , test_size=60) , scoring=\"neg_mean_squared_error\" )))\n",
    "    RMSE_CV.append(RMSE_i)\n",
    "    \n",
    "    RMSE_test.append(np.sqrt(np.mean(np.square(y_test - KNN_i.predict(X_test)))))\n",
    "    \n",
    "optimal_k = pd.DataFrame({'RMSE_CV': np.round(RMSE_CV,2), 'RMSE_test':np.round(RMSE_test,2), 'K':range(1,k)})"
   ]
  },
  {
   "cell_type": "code",
   "execution_count": null,
   "id": "ff3da076-1363-4d85-89fb-1044241c4759",
   "metadata": {},
   "outputs": [],
   "source": []
  },
  {
   "cell_type": "code",
   "execution_count": 116,
   "id": "0c00d1db-5d33-4695-b56b-3b970d92475d",
   "metadata": {},
   "outputs": [
    {
     "data": {
      "text/plain": [
       "16"
      ]
     },
     "execution_count": 116,
     "metadata": {},
     "output_type": "execute_result"
    }
   ],
   "source": [
    "np.argmin(optimal_k['RMSE_CV'])"
   ]
  },
  {
   "cell_type": "code",
   "execution_count": 117,
   "id": "ac8297e7-ca65-4d69-a5bd-cdfc922e06e7",
   "metadata": {},
   "outputs": [
    {
     "data": {
      "text/plain": [
       "17"
      ]
     },
     "execution_count": 117,
     "metadata": {},
     "output_type": "execute_result"
    }
   ],
   "source": [
    "optimal_k.loc[np.argmin(optimal_k['RMSE_CV']), 'K']"
   ]
  },
  {
   "cell_type": "markdown",
   "id": "a5c42673-7aec-43c3-a092-e5e080538e9b",
   "metadata": {},
   "source": [
    "Use the optimal K"
   ]
  },
  {
   "cell_type": "code",
   "execution_count": 118,
   "id": "0e4a5b5f-d7f6-4b91-a6ed-94f732a5c671",
   "metadata": {},
   "outputs": [
    {
     "name": "stdout",
     "output_type": "stream",
     "text": [
      "CPU times: user 3.06 ms, sys: 150 µs, total: 3.21 ms\n",
      "Wall time: 3.72 ms\n"
     ]
    },
    {
     "data": {
      "text/plain": [
       "KNeighborsRegressor(n_neighbors=17)"
      ]
     },
     "execution_count": 118,
     "metadata": {},
     "output_type": "execute_result"
    }
   ],
   "source": [
    "%%time\n",
    "KNN_regression = KNeighborsRegressor(n_neighbors=17)\n",
    "KNN_regression.fit(X_train, y_train)"
   ]
  },
  {
   "cell_type": "code",
   "execution_count": 119,
   "id": "4e85022b-2756-46f0-8a61-8dbd41f2e5a8",
   "metadata": {},
   "outputs": [
    {
     "data": {
      "text/plain": [
       "0.0523601346173963"
      ]
     },
     "execution_count": 119,
     "metadata": {},
     "output_type": "execute_result"
    }
   ],
   "source": [
    "KNN_regression.score(X_train, y_train)"
   ]
  },
  {
   "cell_type": "code",
   "execution_count": 120,
   "id": "57ecee18-1727-4387-a241-036b45d5e52d",
   "metadata": {},
   "outputs": [
    {
     "data": {
      "text/plain": [
       "-0.05008253256098194"
      ]
     },
     "execution_count": 120,
     "metadata": {},
     "output_type": "execute_result"
    }
   ],
   "source": [
    "KNN_regression.score(X_test, y_test)"
   ]
  },
  {
   "cell_type": "markdown",
   "id": "e84dd3af-0f96-4552-a2c6-c08380306744",
   "metadata": {},
   "source": [
    "## SVR"
   ]
  },
  {
   "cell_type": "code",
   "execution_count": 121,
   "id": "2e5ac414-71a3-4388-b1df-28ecf05fee1a",
   "metadata": {},
   "outputs": [],
   "source": [
    "from sklearn.svm import SVR"
   ]
  },
  {
   "cell_type": "code",
   "execution_count": 122,
   "id": "0fc995f2-2100-4244-9327-2095a2375350",
   "metadata": {},
   "outputs": [
    {
     "data": {
      "text/plain": [
       "SVR()"
      ]
     },
     "execution_count": 122,
     "metadata": {},
     "output_type": "execute_result"
    }
   ],
   "source": [
    "# Fitting SVM regression to the Training set\n",
    "SVM_regression = SVR()\n",
    "SVM_regression.fit(X_train, y_train)"
   ]
  },
  {
   "cell_type": "code",
   "execution_count": 123,
   "id": "cc1e31dd-eda2-4b32-809b-c64626b48458",
   "metadata": {},
   "outputs": [
    {
     "name": "stdout",
     "output_type": "stream",
     "text": [
      "CPU times: user 191 ms, sys: 7.45 ms, total: 198 ms\n",
      "Wall time: 247 ms\n"
     ]
    },
    {
     "data": {
      "text/plain": [
       "SVR()"
      ]
     },
     "execution_count": 123,
     "metadata": {},
     "output_type": "execute_result"
    }
   ],
   "source": [
    "%%time\n",
    "SVM_regression.fit(X_train, y_train)"
   ]
  },
  {
   "cell_type": "code",
   "execution_count": 124,
   "id": "b4072572-9c30-452c-980c-0f3eabead078",
   "metadata": {},
   "outputs": [],
   "source": [
    "# Predicting the Test set results\n",
    "y_hat = SVM_regression.predict(X_test)"
   ]
  },
  {
   "cell_type": "code",
   "execution_count": 125,
   "id": "809c7348-2a97-425f-8b1f-89444c733ae1",
   "metadata": {},
   "outputs": [
    {
     "data": {
      "text/html": [
       "<div>\n",
       "<style scoped>\n",
       "    .dataframe tbody tr th:only-of-type {\n",
       "        vertical-align: middle;\n",
       "    }\n",
       "\n",
       "    .dataframe tbody tr th {\n",
       "        vertical-align: top;\n",
       "    }\n",
       "\n",
       "    .dataframe thead th {\n",
       "        text-align: right;\n",
       "    }\n",
       "</style>\n",
       "<table border=\"1\" class=\"dataframe\">\n",
       "  <thead>\n",
       "    <tr style=\"text-align: right;\">\n",
       "      <th></th>\n",
       "      <th>y_test</th>\n",
       "      <th>y_hat</th>\n",
       "    </tr>\n",
       "  </thead>\n",
       "  <tbody>\n",
       "    <tr>\n",
       "      <th>1427</th>\n",
       "      <td>-0.183648</td>\n",
       "      <td>0.031899</td>\n",
       "    </tr>\n",
       "    <tr>\n",
       "      <th>1428</th>\n",
       "      <td>0.005842</td>\n",
       "      <td>-0.002844</td>\n",
       "    </tr>\n",
       "    <tr>\n",
       "      <th>1429</th>\n",
       "      <td>-0.085078</td>\n",
       "      <td>-0.324287</td>\n",
       "    </tr>\n",
       "    <tr>\n",
       "      <th>1430</th>\n",
       "      <td>-0.774614</td>\n",
       "      <td>-0.338064</td>\n",
       "    </tr>\n",
       "    <tr>\n",
       "      <th>1431</th>\n",
       "      <td>-0.203749</td>\n",
       "      <td>-0.307989</td>\n",
       "    </tr>\n",
       "  </tbody>\n",
       "</table>\n",
       "</div>"
      ],
      "text/plain": [
       "        y_test     y_hat\n",
       "1427 -0.183648  0.031899\n",
       "1428  0.005842 -0.002844\n",
       "1429 -0.085078 -0.324287\n",
       "1430 -0.774614 -0.338064\n",
       "1431 -0.203749 -0.307989"
      ]
     },
     "execution_count": 125,
     "metadata": {},
     "output_type": "execute_result"
    }
   ],
   "source": [
    "predictions = pd.DataFrame({ 'y_test':y_test,'y_hat':y_hat})\n",
    "predictions.head()"
   ]
  },
  {
   "cell_type": "code",
   "execution_count": 126,
   "id": "609c3927-d641-44df-b66e-63dc41da9227",
   "metadata": {},
   "outputs": [
    {
     "data": {
      "text/plain": [
       "-0.0026814503233207887"
      ]
     },
     "execution_count": 126,
     "metadata": {},
     "output_type": "execute_result"
    }
   ],
   "source": [
    "SVM_regression.score(X_test, y_test)"
   ]
  },
  {
   "cell_type": "code",
   "execution_count": 127,
   "id": "2c583fb9-8e9b-477f-83a4-e9e0f7e034f2",
   "metadata": {},
   "outputs": [
    {
     "data": {
      "text/plain": [
       "0.93"
      ]
     },
     "execution_count": 127,
     "metadata": {},
     "output_type": "execute_result"
    }
   ],
   "source": [
    "MSE_test = round(np.mean(np.square(y_test - y_hat)),2)\n",
    "RMSE_test = round(np.sqrt(MSE_test),2)\n",
    "RMSE_test"
   ]
  },
  {
   "cell_type": "code",
   "execution_count": null,
   "id": "5f4edb18-9d35-459e-b101-895bfdd15358",
   "metadata": {},
   "outputs": [],
   "source": []
  },
  {
   "cell_type": "markdown",
   "id": "12267c16-5922-4e0f-a5c4-b59a287d1077",
   "metadata": {},
   "source": [
    "### Tuning the hyperparameters"
   ]
  },
  {
   "cell_type": "code",
   "execution_count": 128,
   "id": "13539d00-bcce-41e0-9a21-43800cbd5ed9",
   "metadata": {},
   "outputs": [],
   "source": [
    "my_param_grid = {'C': [1,10,100], 'gamma': [1,0.1,0.01], 'kernel': ['rbf']} "
   ]
  },
  {
   "cell_type": "code",
   "execution_count": 129,
   "id": "5af1f38e-864a-4941-acd0-b53980b29715",
   "metadata": {},
   "outputs": [],
   "source": [
    "from sklearn.model_selection import GridSearchCV"
   ]
  },
  {
   "cell_type": "code",
   "execution_count": 130,
   "id": "1549140d-4648-407c-9b81-502fd79a4ee1",
   "metadata": {},
   "outputs": [
    {
     "data": {
      "text/plain": [
       "GridSearchCV(cv=5, estimator=SVR(),\n",
       "             param_grid={'C': [1, 10, 100], 'gamma': [1, 0.1, 0.01],\n",
       "                         'kernel': ['rbf']},\n",
       "             verbose=3)"
      ]
     },
     "execution_count": 130,
     "metadata": {},
     "output_type": "execute_result"
    }
   ],
   "source": [
    "GridSearchCV(estimator=SVR(),param_grid= my_param_grid, refit = True, verbose=3, cv=5 )"
   ]
  },
  {
   "cell_type": "code",
   "execution_count": 131,
   "id": "600c9522-a42f-4216-8566-0f903d47843f",
   "metadata": {},
   "outputs": [],
   "source": [
    "grid = GridSearchCV(estimator=SVR(),param_grid= my_param_grid, refit = True, verbose=2, cv=5 , scoring=None)\n",
    "# verbose just means the text output describing the process. (the greater the number the more detail you will get)."
   ]
  },
  {
   "cell_type": "code",
   "execution_count": 132,
   "id": "e674b5a9-17c0-4a53-a8be-9a1d8513f5e8",
   "metadata": {},
   "outputs": [
    {
     "name": "stdout",
     "output_type": "stream",
     "text": [
      "Fitting 5 folds for each of 9 candidates, totalling 45 fits\n",
      "[CV] END ...........................C=1, gamma=1, kernel=rbf; total time=   0.2s\n",
      "[CV] END ...........................C=1, gamma=1, kernel=rbf; total time=   0.3s\n",
      "[CV] END ...........................C=1, gamma=1, kernel=rbf; total time=   0.1s\n",
      "[CV] END ...........................C=1, gamma=1, kernel=rbf; total time=   0.1s\n",
      "[CV] END ...........................C=1, gamma=1, kernel=rbf; total time=   0.1s\n",
      "[CV] END .........................C=1, gamma=0.1, kernel=rbf; total time=   0.2s\n",
      "[CV] END .........................C=1, gamma=0.1, kernel=rbf; total time=   0.2s\n",
      "[CV] END .........................C=1, gamma=0.1, kernel=rbf; total time=   0.2s\n",
      "[CV] END .........................C=1, gamma=0.1, kernel=rbf; total time=   0.2s\n",
      "[CV] END .........................C=1, gamma=0.1, kernel=rbf; total time=   0.1s\n",
      "[CV] END ........................C=1, gamma=0.01, kernel=rbf; total time=   0.1s\n",
      "[CV] END ........................C=1, gamma=0.01, kernel=rbf; total time=   0.3s\n",
      "[CV] END ........................C=1, gamma=0.01, kernel=rbf; total time=   0.3s\n",
      "[CV] END ........................C=1, gamma=0.01, kernel=rbf; total time=   0.2s\n",
      "[CV] END ........................C=1, gamma=0.01, kernel=rbf; total time=   0.1s\n",
      "[CV] END ..........................C=10, gamma=1, kernel=rbf; total time=   0.3s\n",
      "[CV] END ..........................C=10, gamma=1, kernel=rbf; total time=   0.3s\n",
      "[CV] END ..........................C=10, gamma=1, kernel=rbf; total time=   0.3s\n",
      "[CV] END ..........................C=10, gamma=1, kernel=rbf; total time=   0.3s\n",
      "[CV] END ..........................C=10, gamma=1, kernel=rbf; total time=   0.2s\n",
      "[CV] END ........................C=10, gamma=0.1, kernel=rbf; total time=   0.4s\n",
      "[CV] END ........................C=10, gamma=0.1, kernel=rbf; total time=   0.3s\n",
      "[CV] END ........................C=10, gamma=0.1, kernel=rbf; total time=   0.3s\n",
      "[CV] END ........................C=10, gamma=0.1, kernel=rbf; total time=   0.4s\n",
      "[CV] END ........................C=10, gamma=0.1, kernel=rbf; total time=   0.6s\n",
      "[CV] END .......................C=10, gamma=0.01, kernel=rbf; total time=   0.2s\n",
      "[CV] END .......................C=10, gamma=0.01, kernel=rbf; total time=   0.2s\n",
      "[CV] END .......................C=10, gamma=0.01, kernel=rbf; total time=   0.2s\n",
      "[CV] END .......................C=10, gamma=0.01, kernel=rbf; total time=   0.2s\n",
      "[CV] END .......................C=10, gamma=0.01, kernel=rbf; total time=   0.4s\n",
      "[CV] END .........................C=100, gamma=1, kernel=rbf; total time=   0.2s\n",
      "[CV] END .........................C=100, gamma=1, kernel=rbf; total time=   0.2s\n",
      "[CV] END .........................C=100, gamma=1, kernel=rbf; total time=   0.2s\n",
      "[CV] END .........................C=100, gamma=1, kernel=rbf; total time=   0.1s\n",
      "[CV] END .........................C=100, gamma=1, kernel=rbf; total time=   0.3s\n",
      "[CV] END .......................C=100, gamma=0.1, kernel=rbf; total time=   0.6s\n",
      "[CV] END .......................C=100, gamma=0.1, kernel=rbf; total time=   0.3s\n",
      "[CV] END .......................C=100, gamma=0.1, kernel=rbf; total time=   0.3s\n",
      "[CV] END .......................C=100, gamma=0.1, kernel=rbf; total time=   0.2s\n",
      "[CV] END .......................C=100, gamma=0.1, kernel=rbf; total time=   0.5s\n",
      "[CV] END ......................C=100, gamma=0.01, kernel=rbf; total time=   0.5s\n",
      "[CV] END ......................C=100, gamma=0.01, kernel=rbf; total time=   0.4s\n",
      "[CV] END ......................C=100, gamma=0.01, kernel=rbf; total time=   0.4s\n",
      "[CV] END ......................C=100, gamma=0.01, kernel=rbf; total time=   0.5s\n",
      "[CV] END ......................C=100, gamma=0.01, kernel=rbf; total time=   0.4s\n"
     ]
    },
    {
     "data": {
      "text/plain": [
       "GridSearchCV(cv=5, estimator=SVR(),\n",
       "             param_grid={'C': [1, 10, 100], 'gamma': [1, 0.1, 0.01],\n",
       "                         'kernel': ['rbf']},\n",
       "             verbose=2)"
      ]
     },
     "execution_count": 132,
     "metadata": {},
     "output_type": "execute_result"
    }
   ],
   "source": [
    "# May take a while!\n",
    "grid.fit(X_train,y_train)"
   ]
  },
  {
   "cell_type": "code",
   "execution_count": 133,
   "id": "3e990fe6-c243-4e68-94c2-344654535ee7",
   "metadata": {},
   "outputs": [
    {
     "data": {
      "text/plain": [
       "{'C': 1, 'gamma': 1, 'kernel': 'rbf'}"
      ]
     },
     "execution_count": 133,
     "metadata": {},
     "output_type": "execute_result"
    }
   ],
   "source": [
    "grid.best_params_"
   ]
  },
  {
   "cell_type": "code",
   "execution_count": 134,
   "id": "4423a685-5b45-40a6-9c0e-35aa3311d371",
   "metadata": {},
   "outputs": [
    {
     "data": {
      "text/plain": [
       "SVR(C=1, gamma=1)"
      ]
     },
     "execution_count": 134,
     "metadata": {},
     "output_type": "execute_result"
    }
   ],
   "source": [
    "grid.best_estimator_"
   ]
  },
  {
   "cell_type": "code",
   "execution_count": 135,
   "id": "3af37353-6e29-44a0-af0b-683bdf9125b4",
   "metadata": {},
   "outputs": [],
   "source": [
    "y_hat_optimized = grid.predict(X_test)"
   ]
  },
  {
   "cell_type": "code",
   "execution_count": 136,
   "id": "411b6b83-683b-445d-a372-5d4e1344ae67",
   "metadata": {},
   "outputs": [],
   "source": [
    "predictions['y_hat_optimized'] = y_hat_optimized\n"
   ]
  },
  {
   "cell_type": "code",
   "execution_count": 137,
   "id": "72f51617-ee3c-4f11-b4a1-c18c024a03f1",
   "metadata": {},
   "outputs": [
    {
     "data": {
      "text/plain": [
       "-0.001679965313757803"
      ]
     },
     "execution_count": 137,
     "metadata": {},
     "output_type": "execute_result"
    }
   ],
   "source": [
    "grid.score(X_test, y_test)"
   ]
  },
  {
   "cell_type": "code",
   "execution_count": 138,
   "id": "eab02084-5f26-4060-82ab-b429e4970c2f",
   "metadata": {},
   "outputs": [
    {
     "data": {
      "text/plain": [
       "0.93"
      ]
     },
     "execution_count": 138,
     "metadata": {},
     "output_type": "execute_result"
    }
   ],
   "source": [
    "MSE_test_opt = round(np.mean(np.square(y_test - y_hat_optimized)),2)\n",
    "RMSE_test_opt = round(np.sqrt(MSE_test_opt),2)\n",
    "RMSE_test_opt"
   ]
  },
  {
   "cell_type": "code",
   "execution_count": 139,
   "id": "a66b21e5-9ee4-4ce5-b44c-38c8430483c0",
   "metadata": {},
   "outputs": [
    {
     "data": {
      "text/plain": [
       "array([-0.02724464,  0.03136463, -0.02582397,  0.03304121, -0.07490672,\n",
       "        0.01047118, -0.02471135, -0.1122449 , -0.25044489, -0.13874912])"
      ]
     },
     "execution_count": 139,
     "metadata": {},
     "output_type": "execute_result"
    }
   ],
   "source": [
    "tscv = cross_val_score(estimator = SVR(), X = X_train, y = y_train, cv = TimeSeriesSplit(n_splits=10, max_train_size=240, gap=1 , test_size=60) , scoring=\"r2\" )\n",
    "tscv"
   ]
  },
  {
   "cell_type": "code",
   "execution_count": 140,
   "id": "2b5b35e0-1c1a-41be-8a99-5b194c11368c",
   "metadata": {
    "jp-MarkdownHeadingCollapsed": true,
    "tags": []
   },
   "outputs": [
    {
     "data": {
      "text/plain": [
       "-0.058"
      ]
     },
     "execution_count": 140,
     "metadata": {},
     "output_type": "execute_result"
    }
   ],
   "source": [
    "\n",
    "round(tscv.mean(),3)"
   ]
  },
  {
   "cell_type": "code",
   "execution_count": null,
   "id": "0730471f-933f-4375-886d-d0722efd080d",
   "metadata": {},
   "outputs": [],
   "source": []
  },
  {
   "cell_type": "markdown",
   "id": "3f3e6e88-076a-4bee-8f61-83d8ee96805e",
   "metadata": {},
   "source": [
    "# Basic Decision Tree"
   ]
  },
  {
   "cell_type": "code",
   "execution_count": 141,
   "id": "752f4ee7-8da0-46d2-85ea-dd8d231e5173",
   "metadata": {},
   "outputs": [],
   "source": [
    "from sklearn.tree import DecisionTreeRegressor"
   ]
  },
  {
   "cell_type": "code",
   "execution_count": 142,
   "id": "aa14c898-9074-4faf-8b8d-5dc9144db2d4",
   "metadata": {},
   "outputs": [],
   "source": [
    "# Fitting regression tree to the Training set\n",
    "Tree_regressor = DecisionTreeRegressor()\n"
   ]
  },
  {
   "cell_type": "code",
   "execution_count": 143,
   "id": "1c459400-ece8-40c0-822d-65daa8bc215d",
   "metadata": {},
   "outputs": [
    {
     "name": "stdout",
     "output_type": "stream",
     "text": [
      "CPU times: user 80.1 ms, sys: 4.65 ms, total: 84.8 ms\n",
      "Wall time: 153 ms\n"
     ]
    },
    {
     "data": {
      "text/plain": [
       "DecisionTreeRegressor()"
      ]
     },
     "execution_count": 143,
     "metadata": {},
     "output_type": "execute_result"
    }
   ],
   "source": [
    "%%time\n",
    "Tree_regressor.fit(X_train, y_train)"
   ]
  },
  {
   "cell_type": "code",
   "execution_count": 144,
   "id": "94b67092-460e-409d-89e6-857ed05802cc",
   "metadata": {},
   "outputs": [],
   "source": [
    "# Predicting the Test set results\n",
    "y_hat = Tree_regressor.predict(X_test)"
   ]
  },
  {
   "cell_type": "code",
   "execution_count": 145,
   "id": "963f0d4c-1f6d-4081-9c58-409300aea2fc",
   "metadata": {},
   "outputs": [
    {
     "data": {
      "text/html": [
       "<div>\n",
       "<style scoped>\n",
       "    .dataframe tbody tr th:only-of-type {\n",
       "        vertical-align: middle;\n",
       "    }\n",
       "\n",
       "    .dataframe tbody tr th {\n",
       "        vertical-align: top;\n",
       "    }\n",
       "\n",
       "    .dataframe thead th {\n",
       "        text-align: right;\n",
       "    }\n",
       "</style>\n",
       "<table border=\"1\" class=\"dataframe\">\n",
       "  <thead>\n",
       "    <tr style=\"text-align: right;\">\n",
       "      <th></th>\n",
       "      <th>y_test</th>\n",
       "      <th>y_hat</th>\n",
       "    </tr>\n",
       "  </thead>\n",
       "  <tbody>\n",
       "    <tr>\n",
       "      <th>1427</th>\n",
       "      <td>-0.183648</td>\n",
       "      <td>0.039855</td>\n",
       "    </tr>\n",
       "    <tr>\n",
       "      <th>1428</th>\n",
       "      <td>0.005842</td>\n",
       "      <td>0.090494</td>\n",
       "    </tr>\n",
       "    <tr>\n",
       "      <th>1429</th>\n",
       "      <td>-0.085078</td>\n",
       "      <td>0.103912</td>\n",
       "    </tr>\n",
       "    <tr>\n",
       "      <th>1430</th>\n",
       "      <td>-0.774614</td>\n",
       "      <td>-0.576971</td>\n",
       "    </tr>\n",
       "    <tr>\n",
       "      <th>1431</th>\n",
       "      <td>-0.203749</td>\n",
       "      <td>0.295495</td>\n",
       "    </tr>\n",
       "  </tbody>\n",
       "</table>\n",
       "</div>"
      ],
      "text/plain": [
       "        y_test     y_hat\n",
       "1427 -0.183648  0.039855\n",
       "1428  0.005842  0.090494\n",
       "1429 -0.085078  0.103912\n",
       "1430 -0.774614 -0.576971\n",
       "1431 -0.203749  0.295495"
      ]
     },
     "execution_count": 145,
     "metadata": {},
     "output_type": "execute_result"
    }
   ],
   "source": [
    "predictions = pd.DataFrame({ 'y_test':y_test,'y_hat':y_hat})\n",
    "predictions.head()"
   ]
  },
  {
   "cell_type": "code",
   "execution_count": 146,
   "id": "f2d770f7-b950-496a-afba-c8fa699ab83a",
   "metadata": {},
   "outputs": [
    {
     "data": {
      "text/plain": [
       "2.23"
      ]
     },
     "execution_count": 146,
     "metadata": {},
     "output_type": "execute_result"
    }
   ],
   "source": [
    "MSE_test = round(np.mean(np.square(y_test - y_hat)),2)\n",
    "RMSE_test = round(np.sqrt(MSE_test),2)\n",
    "RMSE_test"
   ]
  },
  {
   "cell_type": "code",
   "execution_count": 147,
   "id": "83282cc7-84e0-4800-9f37-6d1bb8e92755",
   "metadata": {},
   "outputs": [
    {
     "data": {
      "text/plain": [
       "1.0"
      ]
     },
     "execution_count": 147,
     "metadata": {},
     "output_type": "execute_result"
    }
   ],
   "source": [
    "Tree_regressor.score(X_train, y_train)"
   ]
  },
  {
   "cell_type": "code",
   "execution_count": 149,
   "id": "4767ac26-c6e2-4ed3-9cec-e98d5af5f4d0",
   "metadata": {},
   "outputs": [],
   "source": [
    "# This is not applicable"
   ]
  },
  {
   "cell_type": "code",
   "execution_count": 150,
   "id": "3ddc525f-c311-4347-b8b5-a64f348d7604",
   "metadata": {},
   "outputs": [
    {
     "data": {
      "text/plain": [
       "-4.776464054556485"
      ]
     },
     "execution_count": 150,
     "metadata": {},
     "output_type": "execute_result"
    }
   ],
   "source": [
    "Tree_regressor.score(X_test, y_test)"
   ]
  },
  {
   "cell_type": "code",
   "execution_count": 151,
   "id": "2d7a899c-81f2-4040-9965-71b1b25ef482",
   "metadata": {},
   "outputs": [
    {
     "data": {
      "text/plain": [
       "2.23"
      ]
     },
     "execution_count": 151,
     "metadata": {},
     "output_type": "execute_result"
    }
   ],
   "source": [
    "MSE_test = round(np.mean(np.square(y_test - y_hat)),2)\n",
    "RMSE_test = round(np.sqrt(MSE_test),2)\n",
    "RMSE_test"
   ]
  },
  {
   "cell_type": "code",
   "execution_count": 152,
   "id": "f58eb165-799c-474a-88eb-7d8f3c178106",
   "metadata": {},
   "outputs": [],
   "source": [
    "path = DecisionTreeRegressor().cost_complexity_pruning_path(X_train,y_train)\n",
    "ccp_alphas = path.ccp_alphas"
   ]
  },
  {
   "cell_type": "code",
   "execution_count": 153,
   "id": "b99c7487-f424-4bff-83ee-004520cb2e93",
   "metadata": {},
   "outputs": [
    {
     "data": {
      "text/plain": [
       "{'ccp_alphas': array([0.00000000e+00, 2.10634268e-12, 2.51824568e-11, ...,\n",
       "        1.27260900e-02, 2.00367678e-02, 3.21724659e-02]),\n",
       " 'impurities': array([-4.80950163e-17,  2.10629459e-12,  2.72887513e-11, ...,\n",
       "         8.27058900e-01,  1.02742658e+00,  1.05959904e+00])}"
      ]
     },
     "execution_count": 153,
     "metadata": {},
     "output_type": "execute_result"
    }
   ],
   "source": [
    "path"
   ]
  },
  {
   "cell_type": "code",
   "execution_count": 154,
   "id": "281cc428-c9f4-4068-a95e-88d1b946a36a",
   "metadata": {},
   "outputs": [
    {
     "data": {
      "text/html": [
       "<div>\n",
       "<style scoped>\n",
       "    .dataframe tbody tr th:only-of-type {\n",
       "        vertical-align: middle;\n",
       "    }\n",
       "\n",
       "    .dataframe tbody tr th {\n",
       "        vertical-align: top;\n",
       "    }\n",
       "\n",
       "    .dataframe thead th {\n",
       "        text-align: right;\n",
       "    }\n",
       "</style>\n",
       "<table border=\"1\" class=\"dataframe\">\n",
       "  <thead>\n",
       "    <tr style=\"text-align: right;\">\n",
       "      <th></th>\n",
       "      <th>alpha</th>\n",
       "      <th>RMSE_CV</th>\n",
       "    </tr>\n",
       "  </thead>\n",
       "  <tbody>\n",
       "    <tr>\n",
       "      <th>0</th>\n",
       "      <td>0.000000e+00</td>\n",
       "      <td>1.520963</td>\n",
       "    </tr>\n",
       "    <tr>\n",
       "      <th>1</th>\n",
       "      <td>2.106343e-12</td>\n",
       "      <td>1.520963</td>\n",
       "    </tr>\n",
       "    <tr>\n",
       "      <th>2</th>\n",
       "      <td>2.518246e-11</td>\n",
       "      <td>1.520963</td>\n",
       "    </tr>\n",
       "    <tr>\n",
       "      <th>3</th>\n",
       "      <td>1.097236e-10</td>\n",
       "      <td>1.520963</td>\n",
       "    </tr>\n",
       "    <tr>\n",
       "      <th>4</th>\n",
       "      <td>1.101643e-10</td>\n",
       "      <td>1.520963</td>\n",
       "    </tr>\n",
       "  </tbody>\n",
       "</table>\n",
       "</div>"
      ],
      "text/plain": [
       "          alpha   RMSE_CV\n",
       "0  0.000000e+00  1.520963\n",
       "1  2.106343e-12  1.520963\n",
       "2  2.518246e-11  1.520963\n",
       "3  1.097236e-10  1.520963\n",
       "4  1.101643e-10  1.520963"
      ]
     },
     "execution_count": 154,
     "metadata": {},
     "output_type": "execute_result"
    }
   ],
   "source": [
    "RMSE_CV=[]\n",
    "for alpha in ccp_alphas:\n",
    "    MSE = -cross_val_score(estimator = DecisionTreeRegressor(random_state=1,ccp_alpha=alpha), X = X_train, y = y_train, cv = TimeSeriesSplit(n_splits=10, max_train_size=240, gap=1 , test_size=60) , scoring=\"neg_mean_squared_error\" )\n",
    "    RMSE_CV.append(np.sqrt(MSE).mean())\n",
    "    \n",
    "output = pd.DataFrame(list(ccp_alphas), columns=['alpha'])\n",
    "output['RMSE_CV']=RMSE_CV\n",
    "\n",
    "output.head()"
   ]
  },
  {
   "cell_type": "code",
   "execution_count": 155,
   "id": "17e80df8-79bb-4bbb-87f5-1c91a60fddf4",
   "metadata": {},
   "outputs": [
    {
     "data": {
      "image/png": "[encoded data removed]",
      "text/plain": [
       "<Figure size 432x288 with 1 Axes>"
      ]
     },
     "metadata": {},
     "output_type": "display_data"
    }
   ],
   "source": [
    "sns.lineplot(x='alpha', y='RMSE_CV', data=output , color='r', label=\"RMSE_CV vs alpha\")\n",
    "plt.show()"
   ]
  },
  {
   "cell_type": "code",
   "execution_count": 156,
   "id": "8fd25bff-1de6-4f82-acc4-934790e5491f",
   "metadata": {},
   "outputs": [
    {
     "data": {
      "text/plain": [
       "1314"
      ]
     },
     "execution_count": 156,
     "metadata": {},
     "output_type": "execute_result"
    }
   ],
   "source": [
    "np.argmin(output['RMSE_CV'])"
   ]
  },
  {
   "cell_type": "code",
   "execution_count": 157,
   "id": "f1cbb6ad-29e5-409d-b8b1-c50da4244ab6",
   "metadata": {},
   "outputs": [
    {
     "data": {
      "text/plain": [
       "alpha      0.032172\n",
       "RMSE_CV    1.173772\n",
       "Name: 1314, dtype: float64"
      ]
     },
     "execution_count": 157,
     "metadata": {},
     "output_type": "execute_result"
    }
   ],
   "source": [
    "output.iloc[np.argmin(output['RMSE_CV']),]"
   ]
  },
  {
   "cell_type": "code",
   "execution_count": 158,
   "id": "ac0e026e-fc67-4cd8-b780-1b55f486dff4",
   "metadata": {},
   "outputs": [
    {
     "data": {
      "text/plain": [
       "0.032172465912821524"
      ]
     },
     "execution_count": 158,
     "metadata": {},
     "output_type": "execute_result"
    }
   ],
   "source": [
    "optimal_alpha = output.iloc[np.argmin(output['RMSE_CV']),][0]\n",
    "optimal_alpha"
   ]
  },
  {
   "cell_type": "markdown",
   "id": "4a95a60b-47ce-4021-aa62-6a13e59de6b0",
   "metadata": {},
   "source": [
    "Refit the DTs regressor with optimal alpha!"
   ]
  },
  {
   "cell_type": "code",
   "execution_count": 159,
   "id": "60c1c63d-271d-4f2c-bc0e-8e89ad782760",
   "metadata": {},
   "outputs": [],
   "source": [
    "optimal_DT = DecisionTreeRegressor(ccp_alpha=optimal_alpha)\n",
    "optimal_DT.fit(X_train, y_train)\n",
    "y_hat_opt = optimal_DT.predict(X_test)"
   ]
  },
  {
   "cell_type": "code",
   "execution_count": 160,
   "id": "18bca4d7-bc7d-4865-b898-e6937cbe6730",
   "metadata": {},
   "outputs": [
    {
     "data": {
      "text/plain": [
       "0.93"
      ]
     },
     "execution_count": 160,
     "metadata": {},
     "output_type": "execute_result"
    }
   ],
   "source": [
    "MSE_test = round(np.mean(np.square(y_test - y_hat_opt)),2)\n",
    "RMSE_test = round(np.sqrt(MSE_test),2)\n",
    "RMSE_test"
   ]
  },
  {
   "cell_type": "code",
   "execution_count": 161,
   "id": "216ca06c-8e46-49ab-b235-83d26ff2b5fa",
   "metadata": {},
   "outputs": [
    {
     "data": {
      "text/plain": [
       "-0.0005056110566021843"
      ]
     },
     "execution_count": 161,
     "metadata": {},
     "output_type": "execute_result"
    }
   ],
   "source": [
    "optimal_DT.score(X_test, y_test)"
   ]
  },
  {
   "cell_type": "markdown",
   "id": "aa8ec082-3896-493d-a16d-599f48172eec",
   "metadata": {},
   "source": [
    "# Random Forest"
   ]
  },
  {
   "cell_type": "code",
   "execution_count": 162,
   "id": "ea10f545-1db2-4955-8ab7-f4e1dba8e1d0",
   "metadata": {},
   "outputs": [],
   "source": [
    "from sklearn.ensemble import RandomForestRegressor"
   ]
  },
  {
   "cell_type": "code",
   "execution_count": 163,
   "id": "a5ac13d4-a44e-4894-a154-7f28a4a5e05a",
   "metadata": {},
   "outputs": [
    {
     "name": "stdout",
     "output_type": "stream",
     "text": [
      "CPU times: user 4.12 s, sys: 49.1 ms, total: 4.17 s\n",
      "Wall time: 4.9 s\n"
     ]
    },
    {
     "data": {
      "text/plain": [
       "RandomForestRegressor(bootstrap='False')"
      ]
     },
     "execution_count": 163,
     "metadata": {},
     "output_type": "execute_result"
    }
   ],
   "source": [
    "%%time\n",
    "RF_regressor = RandomForestRegressor(bootstrap='False')\n",
    "RF_regressor.fit(X_train, y_train)"
   ]
  },
  {
   "cell_type": "code",
   "execution_count": null,
   "id": "3cb062aa-b31e-419d-a38d-855b0d51b6aa",
   "metadata": {},
   "outputs": [],
   "source": []
  },
  {
   "cell_type": "code",
   "execution_count": 164,
   "id": "cdf8ccdf-ccfe-4d11-919c-6bdb85c84f2c",
   "metadata": {},
   "outputs": [],
   "source": [
    "# Predicting the Test set results\n",
    "y_hat = RF_regressor.predict(X_test)\n"
   ]
  },
  {
   "cell_type": "code",
   "execution_count": 165,
   "id": "305fe5ae-4152-484b-9315-d9904745906d",
   "metadata": {},
   "outputs": [
    {
     "data": {
      "text/html": [
       "<div>\n",
       "<style scoped>\n",
       "    .dataframe tbody tr th:only-of-type {\n",
       "        vertical-align: middle;\n",
       "    }\n",
       "\n",
       "    .dataframe tbody tr th {\n",
       "        vertical-align: top;\n",
       "    }\n",
       "\n",
       "    .dataframe thead th {\n",
       "        text-align: right;\n",
       "    }\n",
       "</style>\n",
       "<table border=\"1\" class=\"dataframe\">\n",
       "  <thead>\n",
       "    <tr style=\"text-align: right;\">\n",
       "      <th></th>\n",
       "      <th>y_test</th>\n",
       "      <th>y_hat</th>\n",
       "    </tr>\n",
       "  </thead>\n",
       "  <tbody>\n",
       "    <tr>\n",
       "      <th>1427</th>\n",
       "      <td>-0.183648</td>\n",
       "      <td>0.099284</td>\n",
       "    </tr>\n",
       "    <tr>\n",
       "      <th>1428</th>\n",
       "      <td>0.005842</td>\n",
       "      <td>-0.117739</td>\n",
       "    </tr>\n",
       "    <tr>\n",
       "      <th>1429</th>\n",
       "      <td>-0.085078</td>\n",
       "      <td>-0.238253</td>\n",
       "    </tr>\n",
       "    <tr>\n",
       "      <th>1430</th>\n",
       "      <td>-0.774614</td>\n",
       "      <td>-0.272972</td>\n",
       "    </tr>\n",
       "    <tr>\n",
       "      <th>1431</th>\n",
       "      <td>-0.203749</td>\n",
       "      <td>-0.657991</td>\n",
       "    </tr>\n",
       "  </tbody>\n",
       "</table>\n",
       "</div>"
      ],
      "text/plain": [
       "        y_test     y_hat\n",
       "1427 -0.183648  0.099284\n",
       "1428  0.005842 -0.117739\n",
       "1429 -0.085078 -0.238253\n",
       "1430 -0.774614 -0.272972\n",
       "1431 -0.203749 -0.657991"
      ]
     },
     "execution_count": 165,
     "metadata": {},
     "output_type": "execute_result"
    }
   ],
   "source": [
    "predictions = pd.DataFrame({ 'y_test':y_test,'y_hat':y_hat})\n",
    "predictions.head()"
   ]
  },
  {
   "cell_type": "code",
   "execution_count": 166,
   "id": "504547c0-c7ff-4a07-a2ea-13aa59230f86",
   "metadata": {
    "tags": []
   },
   "outputs": [
    {
     "data": {
      "text/plain": [
       "-0.1759"
      ]
     },
     "execution_count": 166,
     "metadata": {},
     "output_type": "execute_result"
    }
   ],
   "source": [
    "np.round(RF_regressor.score(X_test, y_test),4)"
   ]
  },
  {
   "cell_type": "code",
   "execution_count": 167,
   "id": "f3588496-461c-4332-80a7-2b3e4a9d4b5d",
   "metadata": {},
   "outputs": [
    {
     "data": {
      "text/plain": [
       "1.0"
      ]
     },
     "execution_count": 167,
     "metadata": {},
     "output_type": "execute_result"
    }
   ],
   "source": [
    "MSE_test = round(np.mean(np.square(y_test - y_hat)),2)\n",
    "RMSE_test = round(np.sqrt(MSE_test),2)\n",
    "RMSE_test"
   ]
  },
  {
   "cell_type": "code",
   "execution_count": null,
   "id": "18f881fe-c123-4ba9-bc71-4d0d81ccbbf8",
   "metadata": {},
   "outputs": [],
   "source": []
  },
  {
   "cell_type": "code",
   "execution_count": 168,
   "id": "0f031917-4f9d-45e7-9664-c0c51502dd0f",
   "metadata": {},
   "outputs": [],
   "source": [
    "my_param_grid = {'n_estimators': [10,100,500], 'max_features':['sqrt','log2'], 'max_depth':[5,10,20]}"
   ]
  },
  {
   "cell_type": "code",
   "execution_count": 169,
   "id": "eca79a73-1e46-4377-b422-c8e220e858a9",
   "metadata": {},
   "outputs": [],
   "source": [
    "grid = GridSearchCV(estimator=RandomForestRegressor(bootstrap=False,random_state=rand_state),param_grid= my_param_grid, refit = True, verbose=2, cv=5 )\n",
    "# verbose just means the text output describing the process. (the greater the number the more detail you will get)."
   ]
  },
  {
   "cell_type": "code",
   "execution_count": 170,
   "id": "51c63657-3f6e-4c08-b131-af0a8ec59f51",
   "metadata": {},
   "outputs": [
    {
     "name": "stdout",
     "output_type": "stream",
     "text": [
      "Fitting 5 folds for each of 18 candidates, totalling 90 fits\n",
      "[CV] END ....max_depth=5, max_features=sqrt, n_estimators=10; total time=   0.0s\n",
      "[CV] END ....max_depth=5, max_features=sqrt, n_estimators=10; total time=   0.0s\n",
      "[CV] END ....max_depth=5, max_features=sqrt, n_estimators=10; total time=   0.0s\n",
      "[CV] END ....max_depth=5, max_features=sqrt, n_estimators=10; total time=   0.0s\n",
      "[CV] END ....max_depth=5, max_features=sqrt, n_estimators=10; total time=   0.0s\n",
      "[CV] END ...max_depth=5, max_features=sqrt, n_estimators=100; total time=   0.3s\n",
      "[CV] END ...max_depth=5, max_features=sqrt, n_estimators=100; total time=   0.5s\n",
      "[CV] END ...max_depth=5, max_features=sqrt, n_estimators=100; total time=   0.4s\n",
      "[CV] END ...max_depth=5, max_features=sqrt, n_estimators=100; total time=   0.5s\n",
      "[CV] END ...max_depth=5, max_features=sqrt, n_estimators=100; total time=   0.5s\n",
      "[CV] END ...max_depth=5, max_features=sqrt, n_estimators=500; total time=   2.2s\n",
      "[CV] END ...max_depth=5, max_features=sqrt, n_estimators=500; total time=   2.8s\n",
      "[CV] END ...max_depth=5, max_features=sqrt, n_estimators=500; total time=   3.1s\n",
      "[CV] END ...max_depth=5, max_features=sqrt, n_estimators=500; total time=   1.8s\n",
      "[CV] END ...max_depth=5, max_features=sqrt, n_estimators=500; total time=   2.3s\n",
      "[CV] END ....max_depth=5, max_features=log2, n_estimators=10; total time=   0.1s\n",
      "[CV] END ....max_depth=5, max_features=log2, n_estimators=10; total time=   0.1s\n",
      "[CV] END ....max_depth=5, max_features=log2, n_estimators=10; total time=   0.1s\n",
      "[CV] END ....max_depth=5, max_features=log2, n_estimators=10; total time=   0.1s\n",
      "[CV] END ....max_depth=5, max_features=log2, n_estimators=10; total time=   0.1s\n",
      "[CV] END ...max_depth=5, max_features=log2, n_estimators=100; total time=   0.7s\n",
      "[CV] END ...max_depth=5, max_features=log2, n_estimators=100; total time=   0.5s\n",
      "[CV] END ...max_depth=5, max_features=log2, n_estimators=100; total time=   0.4s\n",
      "[CV] END ...max_depth=5, max_features=log2, n_estimators=100; total time=   0.4s\n",
      "[CV] END ...max_depth=5, max_features=log2, n_estimators=100; total time=   0.4s\n",
      "[CV] END ...max_depth=5, max_features=log2, n_estimators=500; total time=   1.5s\n",
      "[CV] END ...max_depth=5, max_features=log2, n_estimators=500; total time=   1.3s\n",
      "[CV] END ...max_depth=5, max_features=log2, n_estimators=500; total time=   1.4s\n",
      "[CV] END ...max_depth=5, max_features=log2, n_estimators=500; total time=   1.5s\n",
      "[CV] END ...max_depth=5, max_features=log2, n_estimators=500; total time=   1.8s\n",
      "[CV] END ...max_depth=10, max_features=sqrt, n_estimators=10; total time=   0.1s\n",
      "[CV] END ...max_depth=10, max_features=sqrt, n_estimators=10; total time=   0.1s\n",
      "[CV] END ...max_depth=10, max_features=sqrt, n_estimators=10; total time=   0.1s\n",
      "[CV] END ...max_depth=10, max_features=sqrt, n_estimators=10; total time=   0.1s\n",
      "[CV] END ...max_depth=10, max_features=sqrt, n_estimators=10; total time=   0.1s\n",
      "[CV] END ..max_depth=10, max_features=sqrt, n_estimators=100; total time=   0.7s\n",
      "[CV] END ..max_depth=10, max_features=sqrt, n_estimators=100; total time=   0.7s\n",
      "[CV] END ..max_depth=10, max_features=sqrt, n_estimators=100; total time=   0.7s\n",
      "[CV] END ..max_depth=10, max_features=sqrt, n_estimators=100; total time=   0.6s\n",
      "[CV] END ..max_depth=10, max_features=sqrt, n_estimators=100; total time=   1.0s\n",
      "[CV] END ..max_depth=10, max_features=sqrt, n_estimators=500; total time=   3.4s\n",
      "[CV] END ..max_depth=10, max_features=sqrt, n_estimators=500; total time=   3.4s\n",
      "[CV] END ..max_depth=10, max_features=sqrt, n_estimators=500; total time=   3.4s\n",
      "[CV] END ..max_depth=10, max_features=sqrt, n_estimators=500; total time=   2.7s\n",
      "[CV] END ..max_depth=10, max_features=sqrt, n_estimators=500; total time=   2.6s\n",
      "[CV] END ...max_depth=10, max_features=log2, n_estimators=10; total time=   0.1s\n",
      "[CV] END ...max_depth=10, max_features=log2, n_estimators=10; total time=   0.1s\n",
      "[CV] END ...max_depth=10, max_features=log2, n_estimators=10; total time=   0.1s\n",
      "[CV] END ...max_depth=10, max_features=log2, n_estimators=10; total time=   0.1s\n",
      "[CV] END ...max_depth=10, max_features=log2, n_estimators=10; total time=   0.1s\n",
      "[CV] END ..max_depth=10, max_features=log2, n_estimators=100; total time=   0.6s\n",
      "[CV] END ..max_depth=10, max_features=log2, n_estimators=100; total time=   0.6s\n",
      "[CV] END ..max_depth=10, max_features=log2, n_estimators=100; total time=   0.6s\n",
      "[CV] END ..max_depth=10, max_features=log2, n_estimators=100; total time=   0.5s\n",
      "[CV] END ..max_depth=10, max_features=log2, n_estimators=100; total time=   0.5s\n",
      "[CV] END ..max_depth=10, max_features=log2, n_estimators=500; total time=   2.4s\n",
      "[CV] END ..max_depth=10, max_features=log2, n_estimators=500; total time=   2.5s\n",
      "[CV] END ..max_depth=10, max_features=log2, n_estimators=500; total time=   2.7s\n",
      "[CV] END ..max_depth=10, max_features=log2, n_estimators=500; total time=   2.6s\n",
      "[CV] END ..max_depth=10, max_features=log2, n_estimators=500; total time=   2.3s\n",
      "[CV] END ...max_depth=20, max_features=sqrt, n_estimators=10; total time=   0.1s\n",
      "[CV] END ...max_depth=20, max_features=sqrt, n_estimators=10; total time=   0.2s\n",
      "[CV] END ...max_depth=20, max_features=sqrt, n_estimators=10; total time=   0.1s\n",
      "[CV] END ...max_depth=20, max_features=sqrt, n_estimators=10; total time=   0.1s\n",
      "[CV] END ...max_depth=20, max_features=sqrt, n_estimators=10; total time=   0.1s\n",
      "[CV] END ..max_depth=20, max_features=sqrt, n_estimators=100; total time=   0.8s\n",
      "[CV] END ..max_depth=20, max_features=sqrt, n_estimators=100; total time=   0.7s\n",
      "[CV] END ..max_depth=20, max_features=sqrt, n_estimators=100; total time=   0.9s\n",
      "[CV] END ..max_depth=20, max_features=sqrt, n_estimators=100; total time=   1.3s\n",
      "[CV] END ..max_depth=20, max_features=sqrt, n_estimators=100; total time=   0.9s\n",
      "[CV] END ..max_depth=20, max_features=sqrt, n_estimators=500; total time=   6.6s\n",
      "[CV] END ..max_depth=20, max_features=sqrt, n_estimators=500; total time=   7.0s\n",
      "[CV] END ..max_depth=20, max_features=sqrt, n_estimators=500; total time=   4.3s\n",
      "[CV] END ..max_depth=20, max_features=sqrt, n_estimators=500; total time=   6.4s\n",
      "[CV] END ..max_depth=20, max_features=sqrt, n_estimators=500; total time=   4.1s\n",
      "[CV] END ...max_depth=20, max_features=log2, n_estimators=10; total time=   0.1s\n",
      "[CV] END ...max_depth=20, max_features=log2, n_estimators=10; total time=   0.1s\n",
      "[CV] END ...max_depth=20, max_features=log2, n_estimators=10; total time=   0.1s\n",
      "[CV] END ...max_depth=20, max_features=log2, n_estimators=10; total time=   0.1s\n",
      "[CV] END ...max_depth=20, max_features=log2, n_estimators=10; total time=   0.1s\n",
      "[CV] END ..max_depth=20, max_features=log2, n_estimators=100; total time=   0.9s\n",
      "[CV] END ..max_depth=20, max_features=log2, n_estimators=100; total time=   0.9s\n",
      "[CV] END ..max_depth=20, max_features=log2, n_estimators=100; total time=   1.1s\n",
      "[CV] END ..max_depth=20, max_features=log2, n_estimators=100; total time=   1.1s\n",
      "[CV] END ..max_depth=20, max_features=log2, n_estimators=100; total time=   0.8s\n",
      "[CV] END ..max_depth=20, max_features=log2, n_estimators=500; total time=   3.7s\n",
      "[CV] END ..max_depth=20, max_features=log2, n_estimators=500; total time=   3.7s\n",
      "[CV] END ..max_depth=20, max_features=log2, n_estimators=500; total time=   4.4s\n",
      "[CV] END ..max_depth=20, max_features=log2, n_estimators=500; total time=   3.7s\n",
      "[CV] END ..max_depth=20, max_features=log2, n_estimators=500; total time=   4.0s\n",
      "CPU times: user 1min 45s, sys: 1.51 s, total: 1min 47s\n",
      "Wall time: 2min\n"
     ]
    },
    {
     "data": {
      "text/plain": [
       "GridSearchCV(cv=5,\n",
       "             estimator=RandomForestRegressor(bootstrap=False,\n",
       "                                             random_state=1000),\n",
       "             param_grid={'max_depth': [5, 10, 20],\n",
       "                         'max_features': ['sqrt', 'log2'],\n",
       "                         'n_estimators': [10, 100, 500]},\n",
       "             verbose=2)"
      ]
     },
     "execution_count": 170,
     "metadata": {},
     "output_type": "execute_result"
    }
   ],
   "source": [
    "%time grid.fit(X_train,y_train)"
   ]
  },
  {
   "cell_type": "code",
   "execution_count": 171,
   "id": "7ddea49f-8267-46f4-b901-52a4100f3f9e",
   "metadata": {},
   "outputs": [
    {
     "data": {
      "text/plain": [
       "{'max_depth': 5, 'max_features': 'sqrt', 'n_estimators': 500}"
      ]
     },
     "execution_count": 171,
     "metadata": {},
     "output_type": "execute_result"
    }
   ],
   "source": [
    "grid.best_params_"
   ]
  },
  {
   "cell_type": "code",
   "execution_count": 172,
   "id": "0a193853-8e8d-4f8d-932e-6ba7cb9b0b11",
   "metadata": {},
   "outputs": [
    {
     "data": {
      "text/plain": [
       "RandomForestRegressor(bootstrap=False, max_depth=5, max_features='sqrt',\n",
       "                      n_estimators=500, random_state=1000)"
      ]
     },
     "execution_count": 172,
     "metadata": {},
     "output_type": "execute_result"
    }
   ],
   "source": [
    "grid.best_estimator_"
   ]
  },
  {
   "cell_type": "code",
   "execution_count": 173,
   "id": "e34e419d-0fd9-4b32-9b00-36024268cfbb",
   "metadata": {},
   "outputs": [],
   "source": [
    "y_hat_opt = grid.predict(X_test)"
   ]
  },
  {
   "cell_type": "code",
   "execution_count": 174,
   "id": "20bfcef4-7d60-4ec7-a63e-1109e8539523",
   "metadata": {},
   "outputs": [
    {
     "data": {
      "text/html": [
       "<div>\n",
       "<style scoped>\n",
       "    .dataframe tbody tr th:only-of-type {\n",
       "        vertical-align: middle;\n",
       "    }\n",
       "\n",
       "    .dataframe tbody tr th {\n",
       "        vertical-align: top;\n",
       "    }\n",
       "\n",
       "    .dataframe thead th {\n",
       "        text-align: right;\n",
       "    }\n",
       "</style>\n",
       "<table border=\"1\" class=\"dataframe\">\n",
       "  <thead>\n",
       "    <tr style=\"text-align: right;\">\n",
       "      <th></th>\n",
       "      <th>y_test</th>\n",
       "      <th>y_hat</th>\n",
       "    </tr>\n",
       "  </thead>\n",
       "  <tbody>\n",
       "    <tr>\n",
       "      <th>1427</th>\n",
       "      <td>-0.183648</td>\n",
       "      <td>-0.014010</td>\n",
       "    </tr>\n",
       "    <tr>\n",
       "      <th>1428</th>\n",
       "      <td>0.005842</td>\n",
       "      <td>-0.031829</td>\n",
       "    </tr>\n",
       "    <tr>\n",
       "      <th>1429</th>\n",
       "      <td>-0.085078</td>\n",
       "      <td>-0.067477</td>\n",
       "    </tr>\n",
       "    <tr>\n",
       "      <th>1430</th>\n",
       "      <td>-0.774614</td>\n",
       "      <td>-0.019949</td>\n",
       "    </tr>\n",
       "    <tr>\n",
       "      <th>1431</th>\n",
       "      <td>-0.203749</td>\n",
       "      <td>-0.093238</td>\n",
       "    </tr>\n",
       "  </tbody>\n",
       "</table>\n",
       "</div>"
      ],
      "text/plain": [
       "        y_test     y_hat\n",
       "1427 -0.183648 -0.014010\n",
       "1428  0.005842 -0.031829\n",
       "1429 -0.085078 -0.067477\n",
       "1430 -0.774614 -0.019949\n",
       "1431 -0.203749 -0.093238"
      ]
     },
     "execution_count": 174,
     "metadata": {},
     "output_type": "execute_result"
    }
   ],
   "source": [
    "predictions = pd.DataFrame({ 'y_test':y_test,'y_hat':y_hat_opt})\n",
    "predictions.head()"
   ]
  },
  {
   "cell_type": "code",
   "execution_count": 175,
   "id": "6184e2f0-54fc-4130-a4de-7743b3439746",
   "metadata": {
    "tags": []
   },
   "outputs": [
    {
     "data": {
      "text/plain": [
       "-0.0221"
      ]
     },
     "execution_count": 175,
     "metadata": {},
     "output_type": "execute_result"
    }
   ],
   "source": [
    "np.round(grid.score(X_test, y_test),4)"
   ]
  },
  {
   "cell_type": "code",
   "execution_count": 176,
   "id": "bc0402be-c80f-4684-b7e0-4a5aab9c78aa",
   "metadata": {},
   "outputs": [
    {
     "data": {
      "text/plain": [
       "0.94"
      ]
     },
     "execution_count": 176,
     "metadata": {},
     "output_type": "execute_result"
    }
   ],
   "source": [
    "MSE_test = round(np.mean(np.square(y_test - y_hat_opt)),2)\n",
    "RMSE_test = round(np.sqrt(MSE_test),2)\n",
    "RMSE_test"
   ]
  },
  {
   "cell_type": "markdown",
   "id": "50866940-de51-43ae-be6b-3b79200679d6",
   "metadata": {},
   "source": [
    "### Feature Importance"
   ]
  },
  {
   "cell_type": "code",
   "execution_count": 177,
   "id": "5e571241-8e8c-42ed-a114-f0a7f411292a",
   "metadata": {},
   "outputs": [
    {
     "data": {
      "text/plain": [
       "['10Y-Yield',\n",
       " 'Volume',\n",
       " 'SPY%',\n",
       " 'DIA%',\n",
       " 'QQQ%',\n",
       " 'XLE%',\n",
       " 'USD/EUR%',\n",
       " 'Gold%',\n",
       " 'BTC%.1',\n",
       " 'SPY lag1',\n",
       " 'DIA lag 1',\n",
       " 'QQQ lag 1',\n",
       " 'XLE lag 1',\n",
       " 'USD/EUR lag 1',\n",
       " 'Gold lag 1',\n",
       " 'BTC lag2',\n",
       " 'SPY lag2',\n",
       " 'DIA lag2',\n",
       " 'QQQ lag2',\n",
       " 'XLE lag2',\n",
       " 'USD/EUR lag2',\n",
       " 'Gold lag2']"
      ]
     },
     "execution_count": 177,
     "metadata": {},
     "output_type": "execute_result"
    }
   ],
   "source": [
    "features = list(X_train.columns)\n",
    "features"
   ]
  },
  {
   "cell_type": "code",
   "execution_count": 179,
   "id": "8a46870a-9ca2-4c5d-b8fe-3808d7f65598",
   "metadata": {},
   "outputs": [
    {
     "data": {
      "text/plain": [
       "RandomForestRegressor(max_depth=20, max_features='sqrt', n_estimators=500,\n",
       "                      random_state=1000)"
      ]
     },
     "execution_count": 179,
     "metadata": {},
     "output_type": "execute_result"
    }
   ],
   "source": [
    "RF_Regressor = RandomForestRegressor(n_estimators = 500, max_features='sqrt', max_depth=20, random_state= rand_state)\n",
    "RF_Regressor.fit(X_train, y_train)"
   ]
  },
  {
   "cell_type": "code",
   "execution_count": 180,
   "id": "f8786625-a299-4820-ab83-f7744476cbfb",
   "metadata": {},
   "outputs": [
    {
     "data": {
      "text/plain": [
       "array([0.04215772, 0.06792103, 0.03927034, 0.03994348, 0.04745993,\n",
       "       0.03736655, 0.04039712, 0.04522999, 0.09562891, 0.03532475,\n",
       "       0.03833527, 0.03559765, 0.03788922, 0.04695072, 0.0410525 ,\n",
       "       0.07075421, 0.03686608, 0.03548373, 0.0358457 , 0.03529021,\n",
       "       0.03948095, 0.05575396])"
      ]
     },
     "execution_count": 180,
     "metadata": {},
     "output_type": "execute_result"
    }
   ],
   "source": [
    "importance = RF_Regressor.feature_importances_\n",
    "importance"
   ]
  },
  {
   "cell_type": "code",
   "execution_count": 181,
   "id": "106e5c3c-052d-4298-aee0-9d2d96f2bcdc",
   "metadata": {},
   "outputs": [
    {
     "data": {
      "text/html": [
       "<div>\n",
       "<style scoped>\n",
       "    .dataframe tbody tr th:only-of-type {\n",
       "        vertical-align: middle;\n",
       "    }\n",
       "\n",
       "    .dataframe tbody tr th {\n",
       "        vertical-align: top;\n",
       "    }\n",
       "\n",
       "    .dataframe thead th {\n",
       "        text-align: right;\n",
       "    }\n",
       "</style>\n",
       "<table border=\"1\" class=\"dataframe\">\n",
       "  <thead>\n",
       "    <tr style=\"text-align: right;\">\n",
       "      <th></th>\n",
       "      <th>Features</th>\n",
       "      <th>Feature_importance</th>\n",
       "    </tr>\n",
       "  </thead>\n",
       "  <tbody>\n",
       "    <tr>\n",
       "      <th>19</th>\n",
       "      <td>XLE lag2</td>\n",
       "      <td>0.035290</td>\n",
       "    </tr>\n",
       "    <tr>\n",
       "      <th>9</th>\n",
       "      <td>SPY lag1</td>\n",
       "      <td>0.035325</td>\n",
       "    </tr>\n",
       "    <tr>\n",
       "      <th>17</th>\n",
       "      <td>DIA lag2</td>\n",
       "      <td>0.035484</td>\n",
       "    </tr>\n",
       "    <tr>\n",
       "      <th>11</th>\n",
       "      <td>QQQ lag 1</td>\n",
       "      <td>0.035598</td>\n",
       "    </tr>\n",
       "    <tr>\n",
       "      <th>18</th>\n",
       "      <td>QQQ lag2</td>\n",
       "      <td>0.035846</td>\n",
       "    </tr>\n",
       "    <tr>\n",
       "      <th>16</th>\n",
       "      <td>SPY lag2</td>\n",
       "      <td>0.036866</td>\n",
       "    </tr>\n",
       "    <tr>\n",
       "      <th>5</th>\n",
       "      <td>XLE%</td>\n",
       "      <td>0.037367</td>\n",
       "    </tr>\n",
       "    <tr>\n",
       "      <th>12</th>\n",
       "      <td>XLE lag 1</td>\n",
       "      <td>0.037889</td>\n",
       "    </tr>\n",
       "    <tr>\n",
       "      <th>10</th>\n",
       "      <td>DIA lag 1</td>\n",
       "      <td>0.038335</td>\n",
       "    </tr>\n",
       "    <tr>\n",
       "      <th>2</th>\n",
       "      <td>SPY%</td>\n",
       "      <td>0.039270</td>\n",
       "    </tr>\n",
       "    <tr>\n",
       "      <th>20</th>\n",
       "      <td>USD/EUR lag2</td>\n",
       "      <td>0.039481</td>\n",
       "    </tr>\n",
       "    <tr>\n",
       "      <th>3</th>\n",
       "      <td>DIA%</td>\n",
       "      <td>0.039943</td>\n",
       "    </tr>\n",
       "    <tr>\n",
       "      <th>6</th>\n",
       "      <td>USD/EUR%</td>\n",
       "      <td>0.040397</td>\n",
       "    </tr>\n",
       "    <tr>\n",
       "      <th>14</th>\n",
       "      <td>Gold lag 1</td>\n",
       "      <td>0.041052</td>\n",
       "    </tr>\n",
       "    <tr>\n",
       "      <th>0</th>\n",
       "      <td>10Y-Yield</td>\n",
       "      <td>0.042158</td>\n",
       "    </tr>\n",
       "    <tr>\n",
       "      <th>7</th>\n",
       "      <td>Gold%</td>\n",
       "      <td>0.045230</td>\n",
       "    </tr>\n",
       "    <tr>\n",
       "      <th>13</th>\n",
       "      <td>USD/EUR lag 1</td>\n",
       "      <td>0.046951</td>\n",
       "    </tr>\n",
       "    <tr>\n",
       "      <th>4</th>\n",
       "      <td>QQQ%</td>\n",
       "      <td>0.047460</td>\n",
       "    </tr>\n",
       "    <tr>\n",
       "      <th>21</th>\n",
       "      <td>Gold lag2</td>\n",
       "      <td>0.055754</td>\n",
       "    </tr>\n",
       "    <tr>\n",
       "      <th>1</th>\n",
       "      <td>Volume</td>\n",
       "      <td>0.067921</td>\n",
       "    </tr>\n",
       "    <tr>\n",
       "      <th>15</th>\n",
       "      <td>BTC lag2</td>\n",
       "      <td>0.070754</td>\n",
       "    </tr>\n",
       "    <tr>\n",
       "      <th>8</th>\n",
       "      <td>BTC%.1</td>\n",
       "      <td>0.095629</td>\n",
       "    </tr>\n",
       "  </tbody>\n",
       "</table>\n",
       "</div>"
      ],
      "text/plain": [
       "         Features  Feature_importance\n",
       "19       XLE lag2            0.035290\n",
       "9        SPY lag1            0.035325\n",
       "17       DIA lag2            0.035484\n",
       "11      QQQ lag 1            0.035598\n",
       "18       QQQ lag2            0.035846\n",
       "16       SPY lag2            0.036866\n",
       "5            XLE%            0.037367\n",
       "12      XLE lag 1            0.037889\n",
       "10      DIA lag 1            0.038335\n",
       "2            SPY%            0.039270\n",
       "20   USD/EUR lag2            0.039481\n",
       "3            DIA%            0.039943\n",
       "6        USD/EUR%            0.040397\n",
       "14     Gold lag 1            0.041052\n",
       "0       10Y-Yield            0.042158\n",
       "7           Gold%            0.045230\n",
       "13  USD/EUR lag 1            0.046951\n",
       "4            QQQ%            0.047460\n",
       "21      Gold lag2            0.055754\n",
       "1          Volume            0.067921\n",
       "15       BTC lag2            0.070754\n",
       "8          BTC%.1            0.095629"
      ]
     },
     "execution_count": 181,
     "metadata": {},
     "output_type": "execute_result"
    }
   ],
   "source": [
    "FIM = pd.DataFrame({'Features': features, 'Feature_importance':importance})\n",
    "FIM = FIM.sort_values(by=['Feature_importance'])\n",
    "FIM"
   ]
  },
  {
   "cell_type": "code",
   "execution_count": 182,
   "id": "b0d6fb4b-23ac-4285-bdb5-c4a522b7c153",
   "metadata": {},
   "outputs": [
    {
     "data": {
      "image/png": "[encoded data removed]",
      "text/plain": [
       "<Figure size 720x432 with 1 Axes>"
      ]
     },
     "metadata": {},
     "output_type": "display_data"
    }
   ],
   "source": [
    "plt.figure(figsize=(10,6))\n",
    "plt.title('Feature Importance')\n",
    "sns.barplot(y='Features', x='Feature_importance', data=FIM)\n",
    "plt.show()"
   ]
  },
  {
   "cell_type": "markdown",
   "id": "e3b668a0-6edf-453c-a77a-02a651a21b31",
   "metadata": {},
   "source": [
    "---\n",
    "---"
   ]
  },
  {
   "cell_type": "code",
   "execution_count": null,
   "id": "d38d598d-b892-40ea-a43c-d10dd54c9b9e",
   "metadata": {},
   "outputs": [],
   "source": []
  }
 ],
 "metadata": {
  "kernelspec": {
   "display_name": "Python 3 (ipykernel)",
   "language": "python",
   "name": "python3"
  },
  "language_info": {
   "codemirror_mode": {
    "name": "ipython",
    "version": 3
   },
   "file_extension": ".py",
   "mimetype": "text/x-python",
   "name": "python",
   "nbconvert_exporter": "python",
   "pygments_lexer": "ipython3",
   "version": "3.9.7"
  }
 },
 "nbformat": 4,
 "nbformat_minor": 5
}
